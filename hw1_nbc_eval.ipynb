{
  "nbformat": 4,
  "nbformat_minor": 0,
  "metadata": {
    "colab": {
      "name": "classification&evaluation.ipynb",
      "provenance": [],
      "collapsed_sections": [],
      "authorship_tag": "ABX9TyPa+BthmHU7QAv+ACXVujPI",
      "include_colab_link": true
    },
    "kernelspec": {
      "name": "python3",
      "display_name": "Python 3"
    },
    "language_info": {
      "name": "python"
    }
  },
  "cells": [
    {
      "cell_type": "markdown",
      "metadata": {
        "id": "view-in-github",
        "colab_type": "text"
      },
      "source": [
        "<a href=\"https://colab.research.google.com/github/angel870326/NTU_Data_Mining/blob/main/hw1_nbc_eval.ipynb\" target=\"_parent\"><img src=\"https://colab.research.google.com/assets/colab-badge.svg\" alt=\"Open In Colab\"/></a>"
      ]
    },
    {
      "cell_type": "markdown",
      "source": [
        "#NB Classification & Evaluation\n",
        "**NTU Data Mining HW1**\n",
        "\n",
        "*SYW 2022.03.26*\n"
      ],
      "metadata": {
        "id": "v0kFywbPeIYe"
      }
    },
    {
      "cell_type": "code",
      "execution_count": null,
      "metadata": {
        "id": "CkgvV2My5XTd"
      },
      "outputs": [],
      "source": [
        "import numpy as np\n",
        "import matplotlib.pyplot as plt\n",
        "import pandas as pd\n",
        "import sklearn"
      ]
    },
    {
      "cell_type": "code",
      "source": [
        "# sConnect to the Google Drive\n",
        "from google.colab import drive\n",
        "drive.mount(\"/content/gdrive\")"
      ],
      "metadata": {
        "colab": {
          "base_uri": "https://localhost:8080/"
        },
        "id": "ZekrPrrlMfD1",
        "outputId": "3fc13b3d-9f56-42e7-eccb-94efd3774667"
      },
      "execution_count": null,
      "outputs": [
        {
          "output_type": "stream",
          "name": "stdout",
          "text": [
            "Drive already mounted at /content/gdrive; to attempt to forcibly remount, call drive.mount(\"/content/gdrive\", force_remount=True).\n"
          ]
        }
      ]
    },
    {
      "cell_type": "markdown",
      "source": [
        "## Entropy"
      ],
      "metadata": {
        "id": "q0IsrB56L98K"
      }
    },
    {
      "cell_type": "code",
      "source": [
        "dataset_entropy = pd.read_csv('/content/gdrive/Shareddrives/資料探勘第4組/HW1/heart_entropy.csv')\n",
        "dataset_entropy"
      ],
      "metadata": {
        "colab": {
          "base_uri": "https://localhost:8080/",
          "height": 424
        },
        "id": "kdD5oUHtIeBy",
        "outputId": "1425867e-12a7-4f38-a15e-9bc05a1e503d"
      },
      "execution_count": null,
      "outputs": [
        {
          "output_type": "execute_result",
          "data": {
            "text/plain": [
              "     Unnamed: 0    age  sex  cp   trtbps     chol  fbs  restecg thalachh  \\\n",
              "0             0  55~70    1   3  144~200  126~244    1        0  148~169   \n",
              "1             1  29~54    1   2  108~142  246~409    0        1  170~202   \n",
              "2             2  29~54    0   1  108~142  126~244    0        0  170~202   \n",
              "3             3  55~70    1   1  108~142  126~244    0        1  170~202   \n",
              "4             4  55~70    0   0  108~142  246~409    0        1  148~169   \n",
              "..          ...    ...  ...  ..      ...      ...  ...      ...      ...   \n",
              "298         298  55~70    0   0  108~142  126~244    0        1  114~147   \n",
              "299         299  29~54    1   3  108~142  246~409    0        1  114~147   \n",
              "300         300  55~70    1   0  144~200  126~244    1        1  114~147   \n",
              "301         301  55~70    1   0  108~142  126~244    0        1  114~147   \n",
              "302         302  55~70    0   1  108~142  126~244    0        0  170~202   \n",
              "\n",
              "     exng  oldpeak  slp  caa  thall  output  \n",
              "0       0  1.8~2.4    0    0      1       1  \n",
              "1       0  2.5~6.2    0    0      2       1  \n",
              "2       0  0.8~1.6    2    0      2       1  \n",
              "3       0  0.8~1.6    2    0      2       1  \n",
              "4       1  0.0~0.7    2    0      2       1  \n",
              "..    ...      ...  ...  ...    ...     ...  \n",
              "298     1  0.0~0.7    1    0      3       0  \n",
              "299     0  0.8~1.6    1    0      3       0  \n",
              "300     0  2.5~6.2    1    2      3       0  \n",
              "301     1  0.8~1.6    1    1      3       0  \n",
              "302     0  0.0~0.7    1    1      2       0  \n",
              "\n",
              "[303 rows x 15 columns]"
            ],
            "text/html": [
              "\n",
              "  <div id=\"df-4c5ab64b-d615-447f-8fa3-c4ba72b7a4da\">\n",
              "    <div class=\"colab-df-container\">\n",
              "      <div>\n",
              "<style scoped>\n",
              "    .dataframe tbody tr th:only-of-type {\n",
              "        vertical-align: middle;\n",
              "    }\n",
              "\n",
              "    .dataframe tbody tr th {\n",
              "        vertical-align: top;\n",
              "    }\n",
              "\n",
              "    .dataframe thead th {\n",
              "        text-align: right;\n",
              "    }\n",
              "</style>\n",
              "<table border=\"1\" class=\"dataframe\">\n",
              "  <thead>\n",
              "    <tr style=\"text-align: right;\">\n",
              "      <th></th>\n",
              "      <th>Unnamed: 0</th>\n",
              "      <th>age</th>\n",
              "      <th>sex</th>\n",
              "      <th>cp</th>\n",
              "      <th>trtbps</th>\n",
              "      <th>chol</th>\n",
              "      <th>fbs</th>\n",
              "      <th>restecg</th>\n",
              "      <th>thalachh</th>\n",
              "      <th>exng</th>\n",
              "      <th>oldpeak</th>\n",
              "      <th>slp</th>\n",
              "      <th>caa</th>\n",
              "      <th>thall</th>\n",
              "      <th>output</th>\n",
              "    </tr>\n",
              "  </thead>\n",
              "  <tbody>\n",
              "    <tr>\n",
              "      <th>0</th>\n",
              "      <td>0</td>\n",
              "      <td>55~70</td>\n",
              "      <td>1</td>\n",
              "      <td>3</td>\n",
              "      <td>144~200</td>\n",
              "      <td>126~244</td>\n",
              "      <td>1</td>\n",
              "      <td>0</td>\n",
              "      <td>148~169</td>\n",
              "      <td>0</td>\n",
              "      <td>1.8~2.4</td>\n",
              "      <td>0</td>\n",
              "      <td>0</td>\n",
              "      <td>1</td>\n",
              "      <td>1</td>\n",
              "    </tr>\n",
              "    <tr>\n",
              "      <th>1</th>\n",
              "      <td>1</td>\n",
              "      <td>29~54</td>\n",
              "      <td>1</td>\n",
              "      <td>2</td>\n",
              "      <td>108~142</td>\n",
              "      <td>246~409</td>\n",
              "      <td>0</td>\n",
              "      <td>1</td>\n",
              "      <td>170~202</td>\n",
              "      <td>0</td>\n",
              "      <td>2.5~6.2</td>\n",
              "      <td>0</td>\n",
              "      <td>0</td>\n",
              "      <td>2</td>\n",
              "      <td>1</td>\n",
              "    </tr>\n",
              "    <tr>\n",
              "      <th>2</th>\n",
              "      <td>2</td>\n",
              "      <td>29~54</td>\n",
              "      <td>0</td>\n",
              "      <td>1</td>\n",
              "      <td>108~142</td>\n",
              "      <td>126~244</td>\n",
              "      <td>0</td>\n",
              "      <td>0</td>\n",
              "      <td>170~202</td>\n",
              "      <td>0</td>\n",
              "      <td>0.8~1.6</td>\n",
              "      <td>2</td>\n",
              "      <td>0</td>\n",
              "      <td>2</td>\n",
              "      <td>1</td>\n",
              "    </tr>\n",
              "    <tr>\n",
              "      <th>3</th>\n",
              "      <td>3</td>\n",
              "      <td>55~70</td>\n",
              "      <td>1</td>\n",
              "      <td>1</td>\n",
              "      <td>108~142</td>\n",
              "      <td>126~244</td>\n",
              "      <td>0</td>\n",
              "      <td>1</td>\n",
              "      <td>170~202</td>\n",
              "      <td>0</td>\n",
              "      <td>0.8~1.6</td>\n",
              "      <td>2</td>\n",
              "      <td>0</td>\n",
              "      <td>2</td>\n",
              "      <td>1</td>\n",
              "    </tr>\n",
              "    <tr>\n",
              "      <th>4</th>\n",
              "      <td>4</td>\n",
              "      <td>55~70</td>\n",
              "      <td>0</td>\n",
              "      <td>0</td>\n",
              "      <td>108~142</td>\n",
              "      <td>246~409</td>\n",
              "      <td>0</td>\n",
              "      <td>1</td>\n",
              "      <td>148~169</td>\n",
              "      <td>1</td>\n",
              "      <td>0.0~0.7</td>\n",
              "      <td>2</td>\n",
              "      <td>0</td>\n",
              "      <td>2</td>\n",
              "      <td>1</td>\n",
              "    </tr>\n",
              "    <tr>\n",
              "      <th>...</th>\n",
              "      <td>...</td>\n",
              "      <td>...</td>\n",
              "      <td>...</td>\n",
              "      <td>...</td>\n",
              "      <td>...</td>\n",
              "      <td>...</td>\n",
              "      <td>...</td>\n",
              "      <td>...</td>\n",
              "      <td>...</td>\n",
              "      <td>...</td>\n",
              "      <td>...</td>\n",
              "      <td>...</td>\n",
              "      <td>...</td>\n",
              "      <td>...</td>\n",
              "      <td>...</td>\n",
              "    </tr>\n",
              "    <tr>\n",
              "      <th>298</th>\n",
              "      <td>298</td>\n",
              "      <td>55~70</td>\n",
              "      <td>0</td>\n",
              "      <td>0</td>\n",
              "      <td>108~142</td>\n",
              "      <td>126~244</td>\n",
              "      <td>0</td>\n",
              "      <td>1</td>\n",
              "      <td>114~147</td>\n",
              "      <td>1</td>\n",
              "      <td>0.0~0.7</td>\n",
              "      <td>1</td>\n",
              "      <td>0</td>\n",
              "      <td>3</td>\n",
              "      <td>0</td>\n",
              "    </tr>\n",
              "    <tr>\n",
              "      <th>299</th>\n",
              "      <td>299</td>\n",
              "      <td>29~54</td>\n",
              "      <td>1</td>\n",
              "      <td>3</td>\n",
              "      <td>108~142</td>\n",
              "      <td>246~409</td>\n",
              "      <td>0</td>\n",
              "      <td>1</td>\n",
              "      <td>114~147</td>\n",
              "      <td>0</td>\n",
              "      <td>0.8~1.6</td>\n",
              "      <td>1</td>\n",
              "      <td>0</td>\n",
              "      <td>3</td>\n",
              "      <td>0</td>\n",
              "    </tr>\n",
              "    <tr>\n",
              "      <th>300</th>\n",
              "      <td>300</td>\n",
              "      <td>55~70</td>\n",
              "      <td>1</td>\n",
              "      <td>0</td>\n",
              "      <td>144~200</td>\n",
              "      <td>126~244</td>\n",
              "      <td>1</td>\n",
              "      <td>1</td>\n",
              "      <td>114~147</td>\n",
              "      <td>0</td>\n",
              "      <td>2.5~6.2</td>\n",
              "      <td>1</td>\n",
              "      <td>2</td>\n",
              "      <td>3</td>\n",
              "      <td>0</td>\n",
              "    </tr>\n",
              "    <tr>\n",
              "      <th>301</th>\n",
              "      <td>301</td>\n",
              "      <td>55~70</td>\n",
              "      <td>1</td>\n",
              "      <td>0</td>\n",
              "      <td>108~142</td>\n",
              "      <td>126~244</td>\n",
              "      <td>0</td>\n",
              "      <td>1</td>\n",
              "      <td>114~147</td>\n",
              "      <td>1</td>\n",
              "      <td>0.8~1.6</td>\n",
              "      <td>1</td>\n",
              "      <td>1</td>\n",
              "      <td>3</td>\n",
              "      <td>0</td>\n",
              "    </tr>\n",
              "    <tr>\n",
              "      <th>302</th>\n",
              "      <td>302</td>\n",
              "      <td>55~70</td>\n",
              "      <td>0</td>\n",
              "      <td>1</td>\n",
              "      <td>108~142</td>\n",
              "      <td>126~244</td>\n",
              "      <td>0</td>\n",
              "      <td>0</td>\n",
              "      <td>170~202</td>\n",
              "      <td>0</td>\n",
              "      <td>0.0~0.7</td>\n",
              "      <td>1</td>\n",
              "      <td>1</td>\n",
              "      <td>2</td>\n",
              "      <td>0</td>\n",
              "    </tr>\n",
              "  </tbody>\n",
              "</table>\n",
              "<p>303 rows × 15 columns</p>\n",
              "</div>\n",
              "      <button class=\"colab-df-convert\" onclick=\"convertToInteractive('df-4c5ab64b-d615-447f-8fa3-c4ba72b7a4da')\"\n",
              "              title=\"Convert this dataframe to an interactive table.\"\n",
              "              style=\"display:none;\">\n",
              "        \n",
              "  <svg xmlns=\"http://www.w3.org/2000/svg\" height=\"24px\"viewBox=\"0 0 24 24\"\n",
              "       width=\"24px\">\n",
              "    <path d=\"M0 0h24v24H0V0z\" fill=\"none\"/>\n",
              "    <path d=\"M18.56 5.44l.94 2.06.94-2.06 2.06-.94-2.06-.94-.94-2.06-.94 2.06-2.06.94zm-11 1L8.5 8.5l.94-2.06 2.06-.94-2.06-.94L8.5 2.5l-.94 2.06-2.06.94zm10 10l.94 2.06.94-2.06 2.06-.94-2.06-.94-.94-2.06-.94 2.06-2.06.94z\"/><path d=\"M17.41 7.96l-1.37-1.37c-.4-.4-.92-.59-1.43-.59-.52 0-1.04.2-1.43.59L10.3 9.45l-7.72 7.72c-.78.78-.78 2.05 0 2.83L4 21.41c.39.39.9.59 1.41.59.51 0 1.02-.2 1.41-.59l7.78-7.78 2.81-2.81c.8-.78.8-2.07 0-2.86zM5.41 20L4 18.59l7.72-7.72 1.47 1.35L5.41 20z\"/>\n",
              "  </svg>\n",
              "      </button>\n",
              "      \n",
              "  <style>\n",
              "    .colab-df-container {\n",
              "      display:flex;\n",
              "      flex-wrap:wrap;\n",
              "      gap: 12px;\n",
              "    }\n",
              "\n",
              "    .colab-df-convert {\n",
              "      background-color: #E8F0FE;\n",
              "      border: none;\n",
              "      border-radius: 50%;\n",
              "      cursor: pointer;\n",
              "      display: none;\n",
              "      fill: #1967D2;\n",
              "      height: 32px;\n",
              "      padding: 0 0 0 0;\n",
              "      width: 32px;\n",
              "    }\n",
              "\n",
              "    .colab-df-convert:hover {\n",
              "      background-color: #E2EBFA;\n",
              "      box-shadow: 0px 1px 2px rgba(60, 64, 67, 0.3), 0px 1px 3px 1px rgba(60, 64, 67, 0.15);\n",
              "      fill: #174EA6;\n",
              "    }\n",
              "\n",
              "    [theme=dark] .colab-df-convert {\n",
              "      background-color: #3B4455;\n",
              "      fill: #D2E3FC;\n",
              "    }\n",
              "\n",
              "    [theme=dark] .colab-df-convert:hover {\n",
              "      background-color: #434B5C;\n",
              "      box-shadow: 0px 1px 3px 1px rgba(0, 0, 0, 0.15);\n",
              "      filter: drop-shadow(0px 1px 2px rgba(0, 0, 0, 0.3));\n",
              "      fill: #FFFFFF;\n",
              "    }\n",
              "  </style>\n",
              "\n",
              "      <script>\n",
              "        const buttonEl =\n",
              "          document.querySelector('#df-4c5ab64b-d615-447f-8fa3-c4ba72b7a4da button.colab-df-convert');\n",
              "        buttonEl.style.display =\n",
              "          google.colab.kernel.accessAllowed ? 'block' : 'none';\n",
              "\n",
              "        async function convertToInteractive(key) {\n",
              "          const element = document.querySelector('#df-4c5ab64b-d615-447f-8fa3-c4ba72b7a4da');\n",
              "          const dataTable =\n",
              "            await google.colab.kernel.invokeFunction('convertToInteractive',\n",
              "                                                     [key], {});\n",
              "          if (!dataTable) return;\n",
              "\n",
              "          const docLinkHtml = 'Like what you see? Visit the ' +\n",
              "            '<a target=\"_blank\" href=https://colab.research.google.com/notebooks/data_table.ipynb>data table notebook</a>'\n",
              "            + ' to learn more about interactive tables.';\n",
              "          element.innerHTML = '';\n",
              "          dataTable['output_type'] = 'display_data';\n",
              "          await google.colab.output.renderOutput(dataTable, element);\n",
              "          const docLink = document.createElement('div');\n",
              "          docLink.innerHTML = docLinkHtml;\n",
              "          element.appendChild(docLink);\n",
              "        }\n",
              "      </script>\n",
              "    </div>\n",
              "  </div>\n",
              "  "
            ]
          },
          "metadata": {},
          "execution_count": 139
        }
      ]
    },
    {
      "cell_type": "code",
      "source": [
        "x_entropy = dataset_entropy.iloc[:, 1:13].values\n",
        "y_entropy = dataset_entropy.iloc[:, -1].values"
      ],
      "metadata": {
        "id": "G7UqwSN8Q5uY"
      },
      "execution_count": null,
      "outputs": []
    },
    {
      "cell_type": "code",
      "source": [
        "# Encode text to label\n",
        "from sklearn.preprocessing import LabelEncoder\n",
        "le = LabelEncoder()\n",
        "text_list = [0,3,4,7,9]\n",
        "for i in text_list:\n",
        "  x_entropy[:,i] = le.fit_transform(x_entropy[:,i])\n",
        "x_entropy"
      ],
      "metadata": {
        "colab": {
          "base_uri": "https://localhost:8080/"
        },
        "id": "eZjfPiO1SroD",
        "outputId": "c7252017-0b63-421d-e508-e6fafc6ea3eb"
      },
      "execution_count": null,
      "outputs": [
        {
          "output_type": "execute_result",
          "data": {
            "text/plain": [
              "array([[1, 1, 3, ..., 2, 0, 0],\n",
              "       [0, 1, 2, ..., 3, 0, 0],\n",
              "       [0, 0, 1, ..., 1, 2, 0],\n",
              "       ...,\n",
              "       [1, 1, 0, ..., 3, 1, 2],\n",
              "       [1, 1, 0, ..., 1, 1, 1],\n",
              "       [1, 0, 1, ..., 0, 1, 1]], dtype=object)"
            ]
          },
          "metadata": {},
          "execution_count": 141
        }
      ]
    },
    {
      "cell_type": "code",
      "source": [
        "# Training & testing set\n",
        "from sklearn.model_selection import train_test_split\n",
        "x_entropy_train, x_entropy_test, y_entropy_train, y_entropy_test = train_test_split(x_entropy, y_entropy, test_size = 0.20, random_state = 0)"
      ],
      "metadata": {
        "id": "trLMdkxsVJPs"
      },
      "execution_count": null,
      "outputs": []
    },
    {
      "cell_type": "code",
      "source": [
        "# Training\n",
        "from sklearn.naive_bayes import GaussianNB\n",
        "classifier = GaussianNB()\n",
        "classifier.fit(x_entropy_train, y_entropy_train)"
      ],
      "metadata": {
        "colab": {
          "base_uri": "https://localhost:8080/"
        },
        "id": "Xz5hcurEVfv9",
        "outputId": "df4a8fee-5fd7-4cbf-d695-b28c344566c6"
      },
      "execution_count": null,
      "outputs": [
        {
          "output_type": "execute_result",
          "data": {
            "text/plain": [
              "GaussianNB()"
            ]
          },
          "metadata": {},
          "execution_count": 143
        }
      ]
    },
    {
      "cell_type": "code",
      "source": [
        "# Testing\n",
        "y_entropy_pred  =  classifier.predict(x_entropy_test)\n",
        "y_entropy_pred"
      ],
      "metadata": {
        "colab": {
          "base_uri": "https://localhost:8080/"
        },
        "id": "thZ9NBmoW-6B",
        "outputId": "e3bdbe88-4038-49c9-bd6e-8bf13107aa6f"
      },
      "execution_count": null,
      "outputs": [
        {
          "output_type": "execute_result",
          "data": {
            "text/plain": [
              "array([0, 1, 1, 0, 0, 1, 0, 0, 0, 0, 1, 1, 0, 1, 1, 0, 0, 1, 0, 1, 1, 1,\n",
              "       0, 0, 1, 1, 1, 1, 1, 1, 0, 0, 1, 1, 1, 0, 0, 1, 0, 0, 1, 1, 0, 0,\n",
              "       1, 1, 1, 1, 0, 1, 1, 1, 1, 1, 1, 0, 1, 1, 1, 1, 0])"
            ]
          },
          "metadata": {},
          "execution_count": 144
        }
      ]
    },
    {
      "cell_type": "code",
      "source": [
        "# actual value\n",
        "y_entropy_test"
      ],
      "metadata": {
        "colab": {
          "base_uri": "https://localhost:8080/"
        },
        "id": "oon_hBczXaC6",
        "outputId": "3cbf0a35-a107-4707-cddb-45c52851a31b"
      },
      "execution_count": null,
      "outputs": [
        {
          "output_type": "execute_result",
          "data": {
            "text/plain": [
              "array([0, 1, 0, 0, 1, 0, 0, 0, 0, 0, 1, 1, 0, 1, 1, 1, 1, 1, 0, 1, 1, 0,\n",
              "       0, 0, 1, 0, 0, 0, 1, 1, 0, 0, 1, 1, 1, 0, 0, 1, 0, 0, 1, 1, 1, 0,\n",
              "       1, 1, 1, 0, 0, 1, 1, 1, 1, 1, 1, 0, 1, 0, 1, 1, 1])"
            ]
          },
          "metadata": {},
          "execution_count": 145
        }
      ]
    },
    {
      "cell_type": "code",
      "source": [
        "# Evaluation\n",
        "from sklearn.metrics import confusion_matrix,recall_score,precision_score,accuracy_score,f1_score\n",
        "cm_entropy = confusion_matrix(y_entropy_test, y_entropy_pred)\n",
        "tn, fp, fn, tp = cm_entropy.ravel()\n",
        "\n",
        "rc_entropy = recall_score(y_entropy_test,y_entropy_pred)\n",
        "sc_entropy = tn / (tn+fp)\n",
        "pc_entropy = precision_score(y_entropy_test,y_entropy_pred)\n",
        "ac_entropy = accuracy_score(y_entropy_test,y_entropy_pred)\n",
        "f1_entropy = f1_score(y_entropy_test,y_entropy_pred)\n",
        "\n",
        "print(\"Confusion matrix ([tn,fp],[fn,tp]): \\n\", cm_entropy)\n",
        "print(\"Recall: \", rc_entropy)\n",
        "print(\"Specificity: \", sc_entropy)\n",
        "print(\"Precision: \", pc_entropy)\n",
        "print(\"Accuracy: \", ac_entropy)\n",
        "print(\"F1: \", f1_entropy)"
      ],
      "metadata": {
        "colab": {
          "base_uri": "https://localhost:8080/"
        },
        "id": "psJqdOGrXvie",
        "outputId": "426f36b1-8728-4521-812d-24a98895d253"
      },
      "execution_count": null,
      "outputs": [
        {
          "output_type": "stream",
          "name": "stdout",
          "text": [
            "Confusion matrix ([tn,fp],[fn,tp]): \n",
            " [[19  8]\n",
            " [ 5 29]]\n",
            "Recall:  0.8529411764705882\n",
            "Specificity:  0.7037037037037037\n",
            "Precision:  0.7837837837837838\n",
            "Accuracy:  0.7868852459016393\n",
            "F1:  0.8169014084507041\n"
          ]
        }
      ]
    },
    {
      "cell_type": "markdown",
      "source": [
        "## PCA"
      ],
      "metadata": {
        "id": "eP7ULPVSee4j"
      }
    },
    {
      "cell_type": "code",
      "source": [
        "dataset_pca = pd.read_csv('/content/gdrive/Shareddrives/資料探勘第4組/HW1/heart_PCA.csv')\n",
        "dataset_pca"
      ],
      "metadata": {
        "colab": {
          "base_uri": "https://localhost:8080/",
          "height": 424
        },
        "id": "ZQRw8s88ehOI",
        "outputId": "36c0241e-5566-43e3-cca7-5d577645af15"
      },
      "execution_count": null,
      "outputs": [
        {
          "output_type": "execute_result",
          "data": {
            "text/plain": [
              "     Principle_Component_One  Principle_Component_Two  sex  cp  fbs  restecg  \\\n",
              "0                  -1.267716                -0.082358    1   3    1        0   \n",
              "1                   0.932350                -0.070433    1   2    0        1   \n",
              "2                   1.419900                -0.389838    0   1    0        0   \n",
              "3                   0.920091                 0.263924    1   1    0        1   \n",
              "4                   0.047331                 1.591873    0   0    0        1   \n",
              "..                       ...                      ...  ...  ..  ...      ...   \n",
              "298                -0.568496                -0.172939    0   0    0        1   \n",
              "299                 0.510919                -0.812798    1   3    0        1   \n",
              "300                -2.014465                -1.067526    1   0    1        1   \n",
              "301                -0.414562                -2.323948    1   0    0        1   \n",
              "302                 0.878756                 0.648278    0   1    0        0   \n",
              "\n",
              "     exng  slp  caa  thall  output  \n",
              "0       0    0    0      1       1  \n",
              "1       0    0    0      2       1  \n",
              "2       0    2    0      2       1  \n",
              "3       0    2    0      2       1  \n",
              "4       1    2    0      2       1  \n",
              "..    ...  ...  ...    ...     ...  \n",
              "298     1    1    0      3       0  \n",
              "299     0    1    0      3       0  \n",
              "300     0    1    2      3       0  \n",
              "301     1    1    1      3       0  \n",
              "302     0    1    1      2       0  \n",
              "\n",
              "[303 rows x 11 columns]"
            ],
            "text/html": [
              "\n",
              "  <div id=\"df-f06b6ecd-be2b-462c-9abe-076e91981c79\">\n",
              "    <div class=\"colab-df-container\">\n",
              "      <div>\n",
              "<style scoped>\n",
              "    .dataframe tbody tr th:only-of-type {\n",
              "        vertical-align: middle;\n",
              "    }\n",
              "\n",
              "    .dataframe tbody tr th {\n",
              "        vertical-align: top;\n",
              "    }\n",
              "\n",
              "    .dataframe thead th {\n",
              "        text-align: right;\n",
              "    }\n",
              "</style>\n",
              "<table border=\"1\" class=\"dataframe\">\n",
              "  <thead>\n",
              "    <tr style=\"text-align: right;\">\n",
              "      <th></th>\n",
              "      <th>Principle_Component_One</th>\n",
              "      <th>Principle_Component_Two</th>\n",
              "      <th>sex</th>\n",
              "      <th>cp</th>\n",
              "      <th>fbs</th>\n",
              "      <th>restecg</th>\n",
              "      <th>exng</th>\n",
              "      <th>slp</th>\n",
              "      <th>caa</th>\n",
              "      <th>thall</th>\n",
              "      <th>output</th>\n",
              "    </tr>\n",
              "  </thead>\n",
              "  <tbody>\n",
              "    <tr>\n",
              "      <th>0</th>\n",
              "      <td>-1.267716</td>\n",
              "      <td>-0.082358</td>\n",
              "      <td>1</td>\n",
              "      <td>3</td>\n",
              "      <td>1</td>\n",
              "      <td>0</td>\n",
              "      <td>0</td>\n",
              "      <td>0</td>\n",
              "      <td>0</td>\n",
              "      <td>1</td>\n",
              "      <td>1</td>\n",
              "    </tr>\n",
              "    <tr>\n",
              "      <th>1</th>\n",
              "      <td>0.932350</td>\n",
              "      <td>-0.070433</td>\n",
              "      <td>1</td>\n",
              "      <td>2</td>\n",
              "      <td>0</td>\n",
              "      <td>1</td>\n",
              "      <td>0</td>\n",
              "      <td>0</td>\n",
              "      <td>0</td>\n",
              "      <td>2</td>\n",
              "      <td>1</td>\n",
              "    </tr>\n",
              "    <tr>\n",
              "      <th>2</th>\n",
              "      <td>1.419900</td>\n",
              "      <td>-0.389838</td>\n",
              "      <td>0</td>\n",
              "      <td>1</td>\n",
              "      <td>0</td>\n",
              "      <td>0</td>\n",
              "      <td>0</td>\n",
              "      <td>2</td>\n",
              "      <td>0</td>\n",
              "      <td>2</td>\n",
              "      <td>1</td>\n",
              "    </tr>\n",
              "    <tr>\n",
              "      <th>3</th>\n",
              "      <td>0.920091</td>\n",
              "      <td>0.263924</td>\n",
              "      <td>1</td>\n",
              "      <td>1</td>\n",
              "      <td>0</td>\n",
              "      <td>1</td>\n",
              "      <td>0</td>\n",
              "      <td>2</td>\n",
              "      <td>0</td>\n",
              "      <td>2</td>\n",
              "      <td>1</td>\n",
              "    </tr>\n",
              "    <tr>\n",
              "      <th>4</th>\n",
              "      <td>0.047331</td>\n",
              "      <td>1.591873</td>\n",
              "      <td>0</td>\n",
              "      <td>0</td>\n",
              "      <td>0</td>\n",
              "      <td>1</td>\n",
              "      <td>1</td>\n",
              "      <td>2</td>\n",
              "      <td>0</td>\n",
              "      <td>2</td>\n",
              "      <td>1</td>\n",
              "    </tr>\n",
              "    <tr>\n",
              "      <th>...</th>\n",
              "      <td>...</td>\n",
              "      <td>...</td>\n",
              "      <td>...</td>\n",
              "      <td>...</td>\n",
              "      <td>...</td>\n",
              "      <td>...</td>\n",
              "      <td>...</td>\n",
              "      <td>...</td>\n",
              "      <td>...</td>\n",
              "      <td>...</td>\n",
              "      <td>...</td>\n",
              "    </tr>\n",
              "    <tr>\n",
              "      <th>298</th>\n",
              "      <td>-0.568496</td>\n",
              "      <td>-0.172939</td>\n",
              "      <td>0</td>\n",
              "      <td>0</td>\n",
              "      <td>0</td>\n",
              "      <td>1</td>\n",
              "      <td>1</td>\n",
              "      <td>1</td>\n",
              "      <td>0</td>\n",
              "      <td>3</td>\n",
              "      <td>0</td>\n",
              "    </tr>\n",
              "    <tr>\n",
              "      <th>299</th>\n",
              "      <td>0.510919</td>\n",
              "      <td>-0.812798</td>\n",
              "      <td>1</td>\n",
              "      <td>3</td>\n",
              "      <td>0</td>\n",
              "      <td>1</td>\n",
              "      <td>0</td>\n",
              "      <td>1</td>\n",
              "      <td>0</td>\n",
              "      <td>3</td>\n",
              "      <td>0</td>\n",
              "    </tr>\n",
              "    <tr>\n",
              "      <th>300</th>\n",
              "      <td>-2.014465</td>\n",
              "      <td>-1.067526</td>\n",
              "      <td>1</td>\n",
              "      <td>0</td>\n",
              "      <td>1</td>\n",
              "      <td>1</td>\n",
              "      <td>0</td>\n",
              "      <td>1</td>\n",
              "      <td>2</td>\n",
              "      <td>3</td>\n",
              "      <td>0</td>\n",
              "    </tr>\n",
              "    <tr>\n",
              "      <th>301</th>\n",
              "      <td>-0.414562</td>\n",
              "      <td>-2.323948</td>\n",
              "      <td>1</td>\n",
              "      <td>0</td>\n",
              "      <td>0</td>\n",
              "      <td>1</td>\n",
              "      <td>1</td>\n",
              "      <td>1</td>\n",
              "      <td>1</td>\n",
              "      <td>3</td>\n",
              "      <td>0</td>\n",
              "    </tr>\n",
              "    <tr>\n",
              "      <th>302</th>\n",
              "      <td>0.878756</td>\n",
              "      <td>0.648278</td>\n",
              "      <td>0</td>\n",
              "      <td>1</td>\n",
              "      <td>0</td>\n",
              "      <td>0</td>\n",
              "      <td>0</td>\n",
              "      <td>1</td>\n",
              "      <td>1</td>\n",
              "      <td>2</td>\n",
              "      <td>0</td>\n",
              "    </tr>\n",
              "  </tbody>\n",
              "</table>\n",
              "<p>303 rows × 11 columns</p>\n",
              "</div>\n",
              "      <button class=\"colab-df-convert\" onclick=\"convertToInteractive('df-f06b6ecd-be2b-462c-9abe-076e91981c79')\"\n",
              "              title=\"Convert this dataframe to an interactive table.\"\n",
              "              style=\"display:none;\">\n",
              "        \n",
              "  <svg xmlns=\"http://www.w3.org/2000/svg\" height=\"24px\"viewBox=\"0 0 24 24\"\n",
              "       width=\"24px\">\n",
              "    <path d=\"M0 0h24v24H0V0z\" fill=\"none\"/>\n",
              "    <path d=\"M18.56 5.44l.94 2.06.94-2.06 2.06-.94-2.06-.94-.94-2.06-.94 2.06-2.06.94zm-11 1L8.5 8.5l.94-2.06 2.06-.94-2.06-.94L8.5 2.5l-.94 2.06-2.06.94zm10 10l.94 2.06.94-2.06 2.06-.94-2.06-.94-.94-2.06-.94 2.06-2.06.94z\"/><path d=\"M17.41 7.96l-1.37-1.37c-.4-.4-.92-.59-1.43-.59-.52 0-1.04.2-1.43.59L10.3 9.45l-7.72 7.72c-.78.78-.78 2.05 0 2.83L4 21.41c.39.39.9.59 1.41.59.51 0 1.02-.2 1.41-.59l7.78-7.78 2.81-2.81c.8-.78.8-2.07 0-2.86zM5.41 20L4 18.59l7.72-7.72 1.47 1.35L5.41 20z\"/>\n",
              "  </svg>\n",
              "      </button>\n",
              "      \n",
              "  <style>\n",
              "    .colab-df-container {\n",
              "      display:flex;\n",
              "      flex-wrap:wrap;\n",
              "      gap: 12px;\n",
              "    }\n",
              "\n",
              "    .colab-df-convert {\n",
              "      background-color: #E8F0FE;\n",
              "      border: none;\n",
              "      border-radius: 50%;\n",
              "      cursor: pointer;\n",
              "      display: none;\n",
              "      fill: #1967D2;\n",
              "      height: 32px;\n",
              "      padding: 0 0 0 0;\n",
              "      width: 32px;\n",
              "    }\n",
              "\n",
              "    .colab-df-convert:hover {\n",
              "      background-color: #E2EBFA;\n",
              "      box-shadow: 0px 1px 2px rgba(60, 64, 67, 0.3), 0px 1px 3px 1px rgba(60, 64, 67, 0.15);\n",
              "      fill: #174EA6;\n",
              "    }\n",
              "\n",
              "    [theme=dark] .colab-df-convert {\n",
              "      background-color: #3B4455;\n",
              "      fill: #D2E3FC;\n",
              "    }\n",
              "\n",
              "    [theme=dark] .colab-df-convert:hover {\n",
              "      background-color: #434B5C;\n",
              "      box-shadow: 0px 1px 3px 1px rgba(0, 0, 0, 0.15);\n",
              "      filter: drop-shadow(0px 1px 2px rgba(0, 0, 0, 0.3));\n",
              "      fill: #FFFFFF;\n",
              "    }\n",
              "  </style>\n",
              "\n",
              "      <script>\n",
              "        const buttonEl =\n",
              "          document.querySelector('#df-f06b6ecd-be2b-462c-9abe-076e91981c79 button.colab-df-convert');\n",
              "        buttonEl.style.display =\n",
              "          google.colab.kernel.accessAllowed ? 'block' : 'none';\n",
              "\n",
              "        async function convertToInteractive(key) {\n",
              "          const element = document.querySelector('#df-f06b6ecd-be2b-462c-9abe-076e91981c79');\n",
              "          const dataTable =\n",
              "            await google.colab.kernel.invokeFunction('convertToInteractive',\n",
              "                                                     [key], {});\n",
              "          if (!dataTable) return;\n",
              "\n",
              "          const docLinkHtml = 'Like what you see? Visit the ' +\n",
              "            '<a target=\"_blank\" href=https://colab.research.google.com/notebooks/data_table.ipynb>data table notebook</a>'\n",
              "            + ' to learn more about interactive tables.';\n",
              "          element.innerHTML = '';\n",
              "          dataTable['output_type'] = 'display_data';\n",
              "          await google.colab.output.renderOutput(dataTable, element);\n",
              "          const docLink = document.createElement('div');\n",
              "          docLink.innerHTML = docLinkHtml;\n",
              "          element.appendChild(docLink);\n",
              "        }\n",
              "      </script>\n",
              "    </div>\n",
              "  </div>\n",
              "  "
            ]
          },
          "metadata": {},
          "execution_count": 147
        }
      ]
    },
    {
      "cell_type": "code",
      "source": [
        "x_pca = dataset_pca.iloc[:, 0:9].values\n",
        "y_pca = dataset_pca.iloc[:, -1].values"
      ],
      "metadata": {
        "id": "8YypRLugg3e5"
      },
      "execution_count": null,
      "outputs": []
    },
    {
      "cell_type": "code",
      "source": [
        "# Training & testing set\n",
        "x_pca_train, x_pca_test, y_pca_train, y_pca_test = train_test_split(x_pca, y_pca, test_size = 0.20, random_state = 0)"
      ],
      "metadata": {
        "id": "hkyBPNdBl7Au"
      },
      "execution_count": null,
      "outputs": []
    },
    {
      "cell_type": "code",
      "source": [
        "# Training\n",
        "classifier.fit(x_pca_train, y_pca_train)\n",
        "# Testing\n",
        "y_pca_pred  =  classifier.predict(x_pca_test)\n",
        "y_pca_pred"
      ],
      "metadata": {
        "colab": {
          "base_uri": "https://localhost:8080/"
        },
        "id": "GRYzPoJYmWoy",
        "outputId": "6d0b0307-c6b1-446b-b5c8-f422e4c6f5c4"
      },
      "execution_count": null,
      "outputs": [
        {
          "output_type": "execute_result",
          "data": {
            "text/plain": [
              "array([0, 1, 1, 0, 0, 1, 0, 0, 0, 0, 1, 1, 0, 1, 1, 0, 0, 1, 0, 1, 1, 1,\n",
              "       0, 0, 1, 1, 0, 1, 1, 1, 1, 0, 1, 1, 1, 0, 0, 1, 0, 0, 1, 1, 0, 0,\n",
              "       0, 1, 1, 1, 0, 1, 1, 0, 1, 1, 1, 0, 1, 1, 1, 1, 1])"
            ]
          },
          "metadata": {},
          "execution_count": 150
        }
      ]
    },
    {
      "cell_type": "code",
      "source": [
        "# actual value\n",
        "y_pca_test"
      ],
      "metadata": {
        "colab": {
          "base_uri": "https://localhost:8080/"
        },
        "id": "O-k3w9AFm3VT",
        "outputId": "088640e5-442d-4835-c990-e54db056091c"
      },
      "execution_count": null,
      "outputs": [
        {
          "output_type": "execute_result",
          "data": {
            "text/plain": [
              "array([0, 1, 0, 0, 1, 0, 0, 0, 0, 0, 1, 1, 0, 1, 1, 1, 1, 1, 0, 1, 1, 0,\n",
              "       0, 0, 1, 0, 0, 0, 1, 1, 0, 0, 1, 1, 1, 0, 0, 1, 0, 0, 1, 1, 1, 0,\n",
              "       1, 1, 1, 0, 0, 1, 1, 1, 1, 1, 1, 0, 1, 0, 1, 1, 1])"
            ]
          },
          "metadata": {},
          "execution_count": 151
        }
      ]
    },
    {
      "cell_type": "code",
      "source": [
        "# Evaluation\n",
        "cm_pca = confusion_matrix(y_pca_test, y_pca_pred)\n",
        "tn, fp, fn, tp = cm_pca.ravel()\n",
        "\n",
        "rc_pca = recall_score(y_pca_test,y_pca_pred)\n",
        "sc_pca = tn / (tn+fp)\n",
        "pc_pca = precision_score(y_pca_test,y_pca_pred)\n",
        "ac_pca = accuracy_score(y_pca_test,y_pca_pred)\n",
        "f1_pca = f1_score(y_pca_test,y_pca_pred)\n",
        "\n",
        "print(\"Confusion matrix ([tn,fp],[fn,tp]): \\n\", cm_pca)\n",
        "print(\"Recall: \", rc_pca)\n",
        "print(\"Specificity: \", sc_pca)\n",
        "print(\"Precision: \", pc_pca)\n",
        "print(\"Accuracy: \", ac_pca)\n",
        "print(\"F1: \", f1_pca)"
      ],
      "metadata": {
        "colab": {
          "base_uri": "https://localhost:8080/"
        },
        "id": "N80E28AxnHNS",
        "outputId": "d0fc6c01-5cdd-49bd-d5fe-50b39a575f08"
      },
      "execution_count": null,
      "outputs": [
        {
          "output_type": "stream",
          "name": "stdout",
          "text": [
            "Confusion matrix ([tn,fp],[fn,tp]): \n",
            " [[19  8]\n",
            " [ 6 28]]\n",
            "Recall:  0.8235294117647058\n",
            "Specificity:  0.7037037037037037\n",
            "Precision:  0.7777777777777778\n",
            "Accuracy:  0.7704918032786885\n",
            "F1:  0.7999999999999999\n"
          ]
        }
      ]
    },
    {
      "cell_type": "markdown",
      "source": [
        "# Comparison"
      ],
      "metadata": {
        "id": "8itPuFuhrbEu"
      }
    },
    {
      "cell_type": "markdown",
      "source": [
        "## Confusion Matrix"
      ],
      "metadata": {
        "id": "1X921OBvw3aq"
      }
    },
    {
      "cell_type": "code",
      "source": [
        "import seaborn as sns\n",
        "\n",
        "# Entropy\n",
        "entropy = sns.heatmap(cm_entropy, annot=True, cmap='Blues')\n",
        "entropy.set_title('Confusion Matrix - Entropy\\n');\n",
        "entropy.set_xlabel('\\nPredicted Values')\n",
        "entropy.set_ylabel('Actual Values ');\n",
        "entropy.xaxis.set_ticklabels(['False','True'])\n",
        "entropy.yaxis.set_ticklabels(['False','True'])\n",
        "plt.show()\n",
        "\n",
        "# PCA\n",
        "pca = sns.heatmap(cm_pca, annot=True, cmap='Blues')\n",
        "pca.set_title('Confusion Matrix - PCA\\n');\n",
        "pca.set_xlabel('\\nPredicted Values')\n",
        "pca.set_ylabel('Actual Values ');\n",
        "pca.xaxis.set_ticklabels(['False','True'])\n",
        "pca.yaxis.set_ticklabels(['False','True'])\n",
        "plt.show()"
      ],
      "metadata": {
        "colab": {
          "base_uri": "https://localhost:8080/",
          "height": 645
        },
        "id": "RCkB3uAHreJT",
        "outputId": "a0fa17f0-a27d-4d43-ebc6-4ba02b56dbca"
      },
      "execution_count": null,
      "outputs": [
        {
          "output_type": "display_data",
          "data": {
            "text/plain": [
              "<Figure size 432x288 with 2 Axes>"
            ],
            "image/png": "[encoded data removed]"
          },
          "metadata": {
            "needs_background": "light"
          }
        },
        {
          "output_type": "display_data",
          "data": {
            "text/plain": [
              "<Figure size 432x288 with 2 Axes>"
            ],
            "image/png": "[encoded data removed]"
          },
          "metadata": {
            "needs_background": "light"
          }
        }
      ]
    },
    {
      "cell_type": "markdown",
      "source": [
        "##Scores"
      ],
      "metadata": {
        "id": "Lg49nde5xhni"
      }
    },
    {
      "cell_type": "code",
      "source": [
        "evaluation = [\n",
        "    [rc_entropy, rc_pca],\n",
        "    [sc_entropy, sc_pca],\n",
        "    [pc_entropy, pc_pca],\n",
        "    [ac_entropy, ac_pca],\n",
        "    [f1_entropy, f1_pca]\n",
        "]\n",
        " \n",
        "evaluation_df = pd.DataFrame(evaluation)\n",
        "evaluation_df.index = [\"Recall\", \"Specificity\", \"Precision\", \"Accuracy\", \"F1\"]  \n",
        "evaluation_df.columns = [\"Entropy\", \"PCA\"]\n",
        "evaluation_df\n"
      ],
      "metadata": {
        "colab": {
          "base_uri": "https://localhost:8080/",
          "height": 206
        },
        "id": "NUE1VrkGxfxL",
        "outputId": "09d1d4ba-9772-4221-96a9-aeac359e783d"
      },
      "execution_count": null,
      "outputs": [
        {
          "output_type": "execute_result",
          "data": {
            "text/plain": [
              "              Entropy       PCA\n",
              "Recall       0.852941  0.823529\n",
              "Specificity  0.703704  0.703704\n",
              "Precision    0.783784  0.777778\n",
              "Accuracy     0.786885  0.770492\n",
              "F1           0.816901  0.800000"
            ],
            "text/html": [
              "\n",
              "  <div id=\"df-57643c56-0456-4b2e-b99f-1f56387d30d9\">\n",
              "    <div class=\"colab-df-container\">\n",
              "      <div>\n",
              "<style scoped>\n",
              "    .dataframe tbody tr th:only-of-type {\n",
              "        vertical-align: middle;\n",
              "    }\n",
              "\n",
              "    .dataframe tbody tr th {\n",
              "        vertical-align: top;\n",
              "    }\n",
              "\n",
              "    .dataframe thead th {\n",
              "        text-align: right;\n",
              "    }\n",
              "</style>\n",
              "<table border=\"1\" class=\"dataframe\">\n",
              "  <thead>\n",
              "    <tr style=\"text-align: right;\">\n",
              "      <th></th>\n",
              "      <th>Entropy</th>\n",
              "      <th>PCA</th>\n",
              "    </tr>\n",
              "  </thead>\n",
              "  <tbody>\n",
              "    <tr>\n",
              "      <th>Recall</th>\n",
              "      <td>0.852941</td>\n",
              "      <td>0.823529</td>\n",
              "    </tr>\n",
              "    <tr>\n",
              "      <th>Specificity</th>\n",
              "      <td>0.703704</td>\n",
              "      <td>0.703704</td>\n",
              "    </tr>\n",
              "    <tr>\n",
              "      <th>Precision</th>\n",
              "      <td>0.783784</td>\n",
              "      <td>0.777778</td>\n",
              "    </tr>\n",
              "    <tr>\n",
              "      <th>Accuracy</th>\n",
              "      <td>0.786885</td>\n",
              "      <td>0.770492</td>\n",
              "    </tr>\n",
              "    <tr>\n",
              "      <th>F1</th>\n",
              "      <td>0.816901</td>\n",
              "      <td>0.800000</td>\n",
              "    </tr>\n",
              "  </tbody>\n",
              "</table>\n",
              "</div>\n",
              "      <button class=\"colab-df-convert\" onclick=\"convertToInteractive('df-57643c56-0456-4b2e-b99f-1f56387d30d9')\"\n",
              "              title=\"Convert this dataframe to an interactive table.\"\n",
              "              style=\"display:none;\">\n",
              "        \n",
              "  <svg xmlns=\"http://www.w3.org/2000/svg\" height=\"24px\"viewBox=\"0 0 24 24\"\n",
              "       width=\"24px\">\n",
              "    <path d=\"M0 0h24v24H0V0z\" fill=\"none\"/>\n",
              "    <path d=\"M18.56 5.44l.94 2.06.94-2.06 2.06-.94-2.06-.94-.94-2.06-.94 2.06-2.06.94zm-11 1L8.5 8.5l.94-2.06 2.06-.94-2.06-.94L8.5 2.5l-.94 2.06-2.06.94zm10 10l.94 2.06.94-2.06 2.06-.94-2.06-.94-.94-2.06-.94 2.06-2.06.94z\"/><path d=\"M17.41 7.96l-1.37-1.37c-.4-.4-.92-.59-1.43-.59-.52 0-1.04.2-1.43.59L10.3 9.45l-7.72 7.72c-.78.78-.78 2.05 0 2.83L4 21.41c.39.39.9.59 1.41.59.51 0 1.02-.2 1.41-.59l7.78-7.78 2.81-2.81c.8-.78.8-2.07 0-2.86zM5.41 20L4 18.59l7.72-7.72 1.47 1.35L5.41 20z\"/>\n",
              "  </svg>\n",
              "      </button>\n",
              "      \n",
              "  <style>\n",
              "    .colab-df-container {\n",
              "      display:flex;\n",
              "      flex-wrap:wrap;\n",
              "      gap: 12px;\n",
              "    }\n",
              "\n",
              "    .colab-df-convert {\n",
              "      background-color: #E8F0FE;\n",
              "      border: none;\n",
              "      border-radius: 50%;\n",
              "      cursor: pointer;\n",
              "      display: none;\n",
              "      fill: #1967D2;\n",
              "      height: 32px;\n",
              "      padding: 0 0 0 0;\n",
              "      width: 32px;\n",
              "    }\n",
              "\n",
              "    .colab-df-convert:hover {\n",
              "      background-color: #E2EBFA;\n",
              "      box-shadow: 0px 1px 2px rgba(60, 64, 67, 0.3), 0px 1px 3px 1px rgba(60, 64, 67, 0.15);\n",
              "      fill: #174EA6;\n",
              "    }\n",
              "\n",
              "    [theme=dark] .colab-df-convert {\n",
              "      background-color: #3B4455;\n",
              "      fill: #D2E3FC;\n",
              "    }\n",
              "\n",
              "    [theme=dark] .colab-df-convert:hover {\n",
              "      background-color: #434B5C;\n",
              "      box-shadow: 0px 1px 3px 1px rgba(0, 0, 0, 0.15);\n",
              "      filter: drop-shadow(0px 1px 2px rgba(0, 0, 0, 0.3));\n",
              "      fill: #FFFFFF;\n",
              "    }\n",
              "  </style>\n",
              "\n",
              "      <script>\n",
              "        const buttonEl =\n",
              "          document.querySelector('#df-57643c56-0456-4b2e-b99f-1f56387d30d9 button.colab-df-convert');\n",
              "        buttonEl.style.display =\n",
              "          google.colab.kernel.accessAllowed ? 'block' : 'none';\n",
              "\n",
              "        async function convertToInteractive(key) {\n",
              "          const element = document.querySelector('#df-57643c56-0456-4b2e-b99f-1f56387d30d9');\n",
              "          const dataTable =\n",
              "            await google.colab.kernel.invokeFunction('convertToInteractive',\n",
              "                                                     [key], {});\n",
              "          if (!dataTable) return;\n",
              "\n",
              "          const docLinkHtml = 'Like what you see? Visit the ' +\n",
              "            '<a target=\"_blank\" href=https://colab.research.google.com/notebooks/data_table.ipynb>data table notebook</a>'\n",
              "            + ' to learn more about interactive tables.';\n",
              "          element.innerHTML = '';\n",
              "          dataTable['output_type'] = 'display_data';\n",
              "          await google.colab.output.renderOutput(dataTable, element);\n",
              "          const docLink = document.createElement('div');\n",
              "          docLink.innerHTML = docLinkHtml;\n",
              "          element.appendChild(docLink);\n",
              "        }\n",
              "      </script>\n",
              "    </div>\n",
              "  </div>\n",
              "  "
            ]
          },
          "metadata": {},
          "execution_count": 154
        }
      ]
    }
  ]
}