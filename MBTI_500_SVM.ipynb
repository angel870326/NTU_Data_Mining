{
  "nbformat": 4,
  "nbformat_minor": 0,
  "metadata": {
    "colab": {
      "name": "MBTI_500_SVM.ipynb",
      "provenance": [],
      "collapsed_sections": [
        "ClGFD3lTA_Z0",
        "aPiLpOAyCqel"
      ],
      "authorship_tag": "ABX9TyPlAGsN//xNgpoX1ANwwMZi",
      "include_colab_link": true
    },
    "kernelspec": {
      "name": "python3",
      "display_name": "Python 3"
    },
    "language_info": {
      "name": "python"
    }
  },
  "cells": [
    {
      "cell_type": "markdown",
      "metadata": {
        "id": "view-in-github",
        "colab_type": "text"
      },
      "source": [
        "<a href=\"https://colab.research.google.com/github/angel870326/NTU_Data_Mining/blob/main/MBTI_500_SVM.ipynb\" target=\"_parent\"><img src=\"https://colab.research.google.com/assets/colab-badge.svg\" alt=\"Open In Colab\"/></a>"
      ]
    },
    {
      "cell_type": "markdown",
      "source": [
        "> 2022.05.24 Ssu-Yun Wang<br/>\n",
        "[Github @angel870326](https://github.com/angel870326)\n",
        "\n",
        "# **MBTI Personality Types Classification - SVM & Model Saving**\n",
        "Source of raw data: \n",
        "https://www.kaggle.com/datasets/zeyadkhalid/mbti-personality-types-500-dataset\n",
        "\n",
        "### **Contents:**\n",
        "\n",
        "*   Preprocessing\n",
        "*   Feature Selection\n",
        "*   **Support Vector Machines (SVM)**\n",
        "    * Linear SVC\n",
        "    * SVC\n",
        "        * Linear kernel\n",
        "        * Polynomial kernel\n",
        "        * RBF kernel\n"
      ],
      "metadata": {
        "id": "pcZlkYKIDV-z"
      }
    },
    {
      "cell_type": "code",
      "execution_count": null,
      "metadata": {
        "id": "Dm1VlriQAW6R"
      },
      "outputs": [],
      "source": [
        "import pandas as pd\n",
        "import numpy as np"
      ]
    },
    {
      "cell_type": "code",
      "source": [
        "from google.colab import drive\n",
        "drive.mount('/content/drive')"
      ],
      "metadata": {
        "colab": {
          "base_uri": "https://localhost:8080/"
        },
        "id": "xf74Q0-AArPS",
        "outputId": "cc04a8d8-2ba0-4e59-bbad-2de82caa7427"
      },
      "execution_count": null,
      "outputs": [
        {
          "output_type": "stream",
          "name": "stdout",
          "text": [
            "Mounted at /content/drive\n"
          ]
        }
      ]
    },
    {
      "cell_type": "markdown",
      "source": [
        "## **Preprocessing**\n",
        "\n",
        "by 家怡 & 佳圻"
      ],
      "metadata": {
        "id": "ClGFD3lTA_Z0"
      }
    },
    {
      "cell_type": "code",
      "source": [
        "train_data = pd.read_csv('/content/drive/Shareddrives/110-2 資料探勘第4組/Project/traindata_lemma&stem.csv')\n",
        "test_data = pd.read_csv('/content/drive/Shareddrives/110-2 資料探勘第4組/Project/testdata_lemma&stem.csv')"
      ],
      "metadata": {
        "id": "vnagc32mEjka"
      },
      "execution_count": null,
      "outputs": []
    },
    {
      "cell_type": "code",
      "source": [
        "train_data"
      ],
      "metadata": {
        "colab": {
          "base_uri": "https://localhost:8080/"
        },
        "id": "qMpwqTrSFuHx",
        "outputId": "05df8fd6-e97e-4a41-a734-b566bd3ae0e0"
      },
      "execution_count": null,
      "outputs": [
        {
          "output_type": "execute_result",
          "data": {
            "text/plain": [
              "       Unnamed: 0                                              posts  type\n",
              "0           64196  user put sign usernam instanc meolem jumal fi ...  ENTJ\n",
              "1           31881  year issu correct incorrect leav toss labor wi...  INTP\n",
              "2           68961  steven spielberg nice rest trash curiou thing ...  ENTP\n",
              "3          102426  bad situat actual lot respect lazi peopl make ...  INFP\n",
              "4           19036  male friend quit liter drive crazi year ago da...  INTJ\n",
              "...           ...                                                ...   ...\n",
              "84848       16713  ni sound also like stuff say think brilliant i...  INTJ\n",
              "84849       28060  use time fare much good even feel someon pain ...  INTP\n",
              "84850       29514  look super attract pic ye sometim see woman th...  INTP\n",
              "84851       92206  way home school bu realli incent learn drive g...  INFJ\n",
              "84852       76239  style seem familiar ye much friend famili know...  ESFP\n",
              "\n",
              "[84853 rows x 3 columns]"
            ],
            "text/html": [
              "\n",
              "  <div id=\"df-de73f8d4-9982-4f47-adab-e5329b5c1581\">\n",
              "    <div class=\"colab-df-container\">\n",
              "      <div>\n",
              "<style scoped>\n",
              "    .dataframe tbody tr th:only-of-type {\n",
              "        vertical-align: middle;\n",
              "    }\n",
              "\n",
              "    .dataframe tbody tr th {\n",
              "        vertical-align: top;\n",
              "    }\n",
              "\n",
              "    .dataframe thead th {\n",
              "        text-align: right;\n",
              "    }\n",
              "</style>\n",
              "<table border=\"1\" class=\"dataframe\">\n",
              "  <thead>\n",
              "    <tr style=\"text-align: right;\">\n",
              "      <th></th>\n",
              "      <th>Unnamed: 0</th>\n",
              "      <th>posts</th>\n",
              "      <th>type</th>\n",
              "    </tr>\n",
              "  </thead>\n",
              "  <tbody>\n",
              "    <tr>\n",
              "      <th>0</th>\n",
              "      <td>64196</td>\n",
              "      <td>user put sign usernam instanc meolem jumal fi ...</td>\n",
              "      <td>ENTJ</td>\n",
              "    </tr>\n",
              "    <tr>\n",
              "      <th>1</th>\n",
              "      <td>31881</td>\n",
              "      <td>year issu correct incorrect leav toss labor wi...</td>\n",
              "      <td>INTP</td>\n",
              "    </tr>\n",
              "    <tr>\n",
              "      <th>2</th>\n",
              "      <td>68961</td>\n",
              "      <td>steven spielberg nice rest trash curiou thing ...</td>\n",
              "      <td>ENTP</td>\n",
              "    </tr>\n",
              "    <tr>\n",
              "      <th>3</th>\n",
              "      <td>102426</td>\n",
              "      <td>bad situat actual lot respect lazi peopl make ...</td>\n",
              "      <td>INFP</td>\n",
              "    </tr>\n",
              "    <tr>\n",
              "      <th>4</th>\n",
              "      <td>19036</td>\n",
              "      <td>male friend quit liter drive crazi year ago da...</td>\n",
              "      <td>INTJ</td>\n",
              "    </tr>\n",
              "    <tr>\n",
              "      <th>...</th>\n",
              "      <td>...</td>\n",
              "      <td>...</td>\n",
              "      <td>...</td>\n",
              "    </tr>\n",
              "    <tr>\n",
              "      <th>84848</th>\n",
              "      <td>16713</td>\n",
              "      <td>ni sound also like stuff say think brilliant i...</td>\n",
              "      <td>INTJ</td>\n",
              "    </tr>\n",
              "    <tr>\n",
              "      <th>84849</th>\n",
              "      <td>28060</td>\n",
              "      <td>use time fare much good even feel someon pain ...</td>\n",
              "      <td>INTP</td>\n",
              "    </tr>\n",
              "    <tr>\n",
              "      <th>84850</th>\n",
              "      <td>29514</td>\n",
              "      <td>look super attract pic ye sometim see woman th...</td>\n",
              "      <td>INTP</td>\n",
              "    </tr>\n",
              "    <tr>\n",
              "      <th>84851</th>\n",
              "      <td>92206</td>\n",
              "      <td>way home school bu realli incent learn drive g...</td>\n",
              "      <td>INFJ</td>\n",
              "    </tr>\n",
              "    <tr>\n",
              "      <th>84852</th>\n",
              "      <td>76239</td>\n",
              "      <td>style seem familiar ye much friend famili know...</td>\n",
              "      <td>ESFP</td>\n",
              "    </tr>\n",
              "  </tbody>\n",
              "</table>\n",
              "<p>84853 rows × 3 columns</p>\n",
              "</div>\n",
              "      <button class=\"colab-df-convert\" onclick=\"convertToInteractive('df-de73f8d4-9982-4f47-adab-e5329b5c1581')\"\n",
              "              title=\"Convert this dataframe to an interactive table.\"\n",
              "              style=\"display:none;\">\n",
              "        \n",
              "  <svg xmlns=\"http://www.w3.org/2000/svg\" height=\"24px\"viewBox=\"0 0 24 24\"\n",
              "       width=\"24px\">\n",
              "    <path d=\"M0 0h24v24H0V0z\" fill=\"none\"/>\n",
              "    <path d=\"M18.56 5.44l.94 2.06.94-2.06 2.06-.94-2.06-.94-.94-2.06-.94 2.06-2.06.94zm-11 1L8.5 8.5l.94-2.06 2.06-.94-2.06-.94L8.5 2.5l-.94 2.06-2.06.94zm10 10l.94 2.06.94-2.06 2.06-.94-2.06-.94-.94-2.06-.94 2.06-2.06.94z\"/><path d=\"M17.41 7.96l-1.37-1.37c-.4-.4-.92-.59-1.43-.59-.52 0-1.04.2-1.43.59L10.3 9.45l-7.72 7.72c-.78.78-.78 2.05 0 2.83L4 21.41c.39.39.9.59 1.41.59.51 0 1.02-.2 1.41-.59l7.78-7.78 2.81-2.81c.8-.78.8-2.07 0-2.86zM5.41 20L4 18.59l7.72-7.72 1.47 1.35L5.41 20z\"/>\n",
              "  </svg>\n",
              "      </button>\n",
              "      \n",
              "  <style>\n",
              "    .colab-df-container {\n",
              "      display:flex;\n",
              "      flex-wrap:wrap;\n",
              "      gap: 12px;\n",
              "    }\n",
              "\n",
              "    .colab-df-convert {\n",
              "      background-color: #E8F0FE;\n",
              "      border: none;\n",
              "      border-radius: 50%;\n",
              "      cursor: pointer;\n",
              "      display: none;\n",
              "      fill: #1967D2;\n",
              "      height: 32px;\n",
              "      padding: 0 0 0 0;\n",
              "      width: 32px;\n",
              "    }\n",
              "\n",
              "    .colab-df-convert:hover {\n",
              "      background-color: #E2EBFA;\n",
              "      box-shadow: 0px 1px 2px rgba(60, 64, 67, 0.3), 0px 1px 3px 1px rgba(60, 64, 67, 0.15);\n",
              "      fill: #174EA6;\n",
              "    }\n",
              "\n",
              "    [theme=dark] .colab-df-convert {\n",
              "      background-color: #3B4455;\n",
              "      fill: #D2E3FC;\n",
              "    }\n",
              "\n",
              "    [theme=dark] .colab-df-convert:hover {\n",
              "      background-color: #434B5C;\n",
              "      box-shadow: 0px 1px 3px 1px rgba(0, 0, 0, 0.15);\n",
              "      filter: drop-shadow(0px 1px 2px rgba(0, 0, 0, 0.3));\n",
              "      fill: #FFFFFF;\n",
              "    }\n",
              "  </style>\n",
              "\n",
              "      <script>\n",
              "        const buttonEl =\n",
              "          document.querySelector('#df-de73f8d4-9982-4f47-adab-e5329b5c1581 button.colab-df-convert');\n",
              "        buttonEl.style.display =\n",
              "          google.colab.kernel.accessAllowed ? 'block' : 'none';\n",
              "\n",
              "        async function convertToInteractive(key) {\n",
              "          const element = document.querySelector('#df-de73f8d4-9982-4f47-adab-e5329b5c1581');\n",
              "          const dataTable =\n",
              "            await google.colab.kernel.invokeFunction('convertToInteractive',\n",
              "                                                     [key], {});\n",
              "          if (!dataTable) return;\n",
              "\n",
              "          const docLinkHtml = 'Like what you see? Visit the ' +\n",
              "            '<a target=\"_blank\" href=https://colab.research.google.com/notebooks/data_table.ipynb>data table notebook</a>'\n",
              "            + ' to learn more about interactive tables.';\n",
              "          element.innerHTML = '';\n",
              "          dataTable['output_type'] = 'display_data';\n",
              "          await google.colab.output.renderOutput(dataTable, element);\n",
              "          const docLink = document.createElement('div');\n",
              "          docLink.innerHTML = docLinkHtml;\n",
              "          element.appendChild(docLink);\n",
              "        }\n",
              "      </script>\n",
              "    </div>\n",
              "  </div>\n",
              "  "
            ]
          },
          "metadata": {},
          "execution_count": 4
        }
      ]
    },
    {
      "cell_type": "code",
      "source": [
        "train_data['type'].value_counts()"
      ],
      "metadata": {
        "colab": {
          "base_uri": "https://localhost:8080/"
        },
        "id": "FN4pLkwTScJ4",
        "outputId": "c3c95078-ab26-41ab-f6ea-bd5a66c1ed1a"
      },
      "execution_count": null,
      "outputs": [
        {
          "output_type": "execute_result",
          "data": {
            "text/plain": [
              "INTP    19969\n",
              "INTJ    17941\n",
              "INFJ    11970\n",
              "INFP     9707\n",
              "ENTP     9380\n",
              "ENFP     4934\n",
              "ISTP     2739\n",
              "ENTJ     2364\n",
              "ESTP     1589\n",
              "ENFJ     1227\n",
              "ISTJ      994\n",
              "ISFP      700\n",
              "ISFJ      520\n",
              "ESTJ      386\n",
              "ESFP      288\n",
              "ESFJ      145\n",
              "Name: type, dtype: int64"
            ]
          },
          "metadata": {},
          "execution_count": 5
        }
      ]
    },
    {
      "cell_type": "code",
      "source": [
        "test_data"
      ],
      "metadata": {
        "colab": {
          "base_uri": "https://localhost:8080/"
        },
        "id": "FfpVEl8eFu45",
        "outputId": "abb868bc-0eac-4033-8823-547904d9a0bc"
      },
      "execution_count": null,
      "outputs": [
        {
          "output_type": "execute_result",
          "data": {
            "text/plain": [
              "       Unnamed: 0                                              posts  type\n",
              "0           96021  khale hosseini book liter everi singl one make...  INFP\n",
              "1           33212  display passion come natur make feel self cons...  INTP\n",
              "2           89866  hard final commit colleg know could stay one p...  INFJ\n",
              "3           98577  capit describ injustic shock econom orwel aldu...  INFP\n",
              "4           62330  good stress even stress stress howev let forge...  ENTJ\n",
              "...           ...                                                ...   ...\n",
              "21209      103821  express cuivat fi random burst creativ high em...  INFP\n",
              "21210        8791  sens would give ton context exclud deja vu use...  INTJ\n",
              "21211       36269  hear watch coupl video form neg bia disagre co...  INTP\n",
              "21212       78831  abandon mention cloud badli myer case platform...  ESTP\n",
              "21213       67191  situat someon give order like fuck hell tell w...  ENTP\n",
              "\n",
              "[21214 rows x 3 columns]"
            ],
            "text/html": [
              "\n",
              "  <div id=\"df-4376cac3-6cb5-4df9-bf51-3378f36a19ee\">\n",
              "    <div class=\"colab-df-container\">\n",
              "      <div>\n",
              "<style scoped>\n",
              "    .dataframe tbody tr th:only-of-type {\n",
              "        vertical-align: middle;\n",
              "    }\n",
              "\n",
              "    .dataframe tbody tr th {\n",
              "        vertical-align: top;\n",
              "    }\n",
              "\n",
              "    .dataframe thead th {\n",
              "        text-align: right;\n",
              "    }\n",
              "</style>\n",
              "<table border=\"1\" class=\"dataframe\">\n",
              "  <thead>\n",
              "    <tr style=\"text-align: right;\">\n",
              "      <th></th>\n",
              "      <th>Unnamed: 0</th>\n",
              "      <th>posts</th>\n",
              "      <th>type</th>\n",
              "    </tr>\n",
              "  </thead>\n",
              "  <tbody>\n",
              "    <tr>\n",
              "      <th>0</th>\n",
              "      <td>96021</td>\n",
              "      <td>khale hosseini book liter everi singl one make...</td>\n",
              "      <td>INFP</td>\n",
              "    </tr>\n",
              "    <tr>\n",
              "      <th>1</th>\n",
              "      <td>33212</td>\n",
              "      <td>display passion come natur make feel self cons...</td>\n",
              "      <td>INTP</td>\n",
              "    </tr>\n",
              "    <tr>\n",
              "      <th>2</th>\n",
              "      <td>89866</td>\n",
              "      <td>hard final commit colleg know could stay one p...</td>\n",
              "      <td>INFJ</td>\n",
              "    </tr>\n",
              "    <tr>\n",
              "      <th>3</th>\n",
              "      <td>98577</td>\n",
              "      <td>capit describ injustic shock econom orwel aldu...</td>\n",
              "      <td>INFP</td>\n",
              "    </tr>\n",
              "    <tr>\n",
              "      <th>4</th>\n",
              "      <td>62330</td>\n",
              "      <td>good stress even stress stress howev let forge...</td>\n",
              "      <td>ENTJ</td>\n",
              "    </tr>\n",
              "    <tr>\n",
              "      <th>...</th>\n",
              "      <td>...</td>\n",
              "      <td>...</td>\n",
              "      <td>...</td>\n",
              "    </tr>\n",
              "    <tr>\n",
              "      <th>21209</th>\n",
              "      <td>103821</td>\n",
              "      <td>express cuivat fi random burst creativ high em...</td>\n",
              "      <td>INFP</td>\n",
              "    </tr>\n",
              "    <tr>\n",
              "      <th>21210</th>\n",
              "      <td>8791</td>\n",
              "      <td>sens would give ton context exclud deja vu use...</td>\n",
              "      <td>INTJ</td>\n",
              "    </tr>\n",
              "    <tr>\n",
              "      <th>21211</th>\n",
              "      <td>36269</td>\n",
              "      <td>hear watch coupl video form neg bia disagre co...</td>\n",
              "      <td>INTP</td>\n",
              "    </tr>\n",
              "    <tr>\n",
              "      <th>21212</th>\n",
              "      <td>78831</td>\n",
              "      <td>abandon mention cloud badli myer case platform...</td>\n",
              "      <td>ESTP</td>\n",
              "    </tr>\n",
              "    <tr>\n",
              "      <th>21213</th>\n",
              "      <td>67191</td>\n",
              "      <td>situat someon give order like fuck hell tell w...</td>\n",
              "      <td>ENTP</td>\n",
              "    </tr>\n",
              "  </tbody>\n",
              "</table>\n",
              "<p>21214 rows × 3 columns</p>\n",
              "</div>\n",
              "      <button class=\"colab-df-convert\" onclick=\"convertToInteractive('df-4376cac3-6cb5-4df9-bf51-3378f36a19ee')\"\n",
              "              title=\"Convert this dataframe to an interactive table.\"\n",
              "              style=\"display:none;\">\n",
              "        \n",
              "  <svg xmlns=\"http://www.w3.org/2000/svg\" height=\"24px\"viewBox=\"0 0 24 24\"\n",
              "       width=\"24px\">\n",
              "    <path d=\"M0 0h24v24H0V0z\" fill=\"none\"/>\n",
              "    <path d=\"M18.56 5.44l.94 2.06.94-2.06 2.06-.94-2.06-.94-.94-2.06-.94 2.06-2.06.94zm-11 1L8.5 8.5l.94-2.06 2.06-.94-2.06-.94L8.5 2.5l-.94 2.06-2.06.94zm10 10l.94 2.06.94-2.06 2.06-.94-2.06-.94-.94-2.06-.94 2.06-2.06.94z\"/><path d=\"M17.41 7.96l-1.37-1.37c-.4-.4-.92-.59-1.43-.59-.52 0-1.04.2-1.43.59L10.3 9.45l-7.72 7.72c-.78.78-.78 2.05 0 2.83L4 21.41c.39.39.9.59 1.41.59.51 0 1.02-.2 1.41-.59l7.78-7.78 2.81-2.81c.8-.78.8-2.07 0-2.86zM5.41 20L4 18.59l7.72-7.72 1.47 1.35L5.41 20z\"/>\n",
              "  </svg>\n",
              "      </button>\n",
              "      \n",
              "  <style>\n",
              "    .colab-df-container {\n",
              "      display:flex;\n",
              "      flex-wrap:wrap;\n",
              "      gap: 12px;\n",
              "    }\n",
              "\n",
              "    .colab-df-convert {\n",
              "      background-color: #E8F0FE;\n",
              "      border: none;\n",
              "      border-radius: 50%;\n",
              "      cursor: pointer;\n",
              "      display: none;\n",
              "      fill: #1967D2;\n",
              "      height: 32px;\n",
              "      padding: 0 0 0 0;\n",
              "      width: 32px;\n",
              "    }\n",
              "\n",
              "    .colab-df-convert:hover {\n",
              "      background-color: #E2EBFA;\n",
              "      box-shadow: 0px 1px 2px rgba(60, 64, 67, 0.3), 0px 1px 3px 1px rgba(60, 64, 67, 0.15);\n",
              "      fill: #174EA6;\n",
              "    }\n",
              "\n",
              "    [theme=dark] .colab-df-convert {\n",
              "      background-color: #3B4455;\n",
              "      fill: #D2E3FC;\n",
              "    }\n",
              "\n",
              "    [theme=dark] .colab-df-convert:hover {\n",
              "      background-color: #434B5C;\n",
              "      box-shadow: 0px 1px 3px 1px rgba(0, 0, 0, 0.15);\n",
              "      filter: drop-shadow(0px 1px 2px rgba(0, 0, 0, 0.3));\n",
              "      fill: #FFFFFF;\n",
              "    }\n",
              "  </style>\n",
              "\n",
              "      <script>\n",
              "        const buttonEl =\n",
              "          document.querySelector('#df-4376cac3-6cb5-4df9-bf51-3378f36a19ee button.colab-df-convert');\n",
              "        buttonEl.style.display =\n",
              "          google.colab.kernel.accessAllowed ? 'block' : 'none';\n",
              "\n",
              "        async function convertToInteractive(key) {\n",
              "          const element = document.querySelector('#df-4376cac3-6cb5-4df9-bf51-3378f36a19ee');\n",
              "          const dataTable =\n",
              "            await google.colab.kernel.invokeFunction('convertToInteractive',\n",
              "                                                     [key], {});\n",
              "          if (!dataTable) return;\n",
              "\n",
              "          const docLinkHtml = 'Like what you see? Visit the ' +\n",
              "            '<a target=\"_blank\" href=https://colab.research.google.com/notebooks/data_table.ipynb>data table notebook</a>'\n",
              "            + ' to learn more about interactive tables.';\n",
              "          element.innerHTML = '';\n",
              "          dataTable['output_type'] = 'display_data';\n",
              "          await google.colab.output.renderOutput(dataTable, element);\n",
              "          const docLink = document.createElement('div');\n",
              "          docLink.innerHTML = docLinkHtml;\n",
              "          element.appendChild(docLink);\n",
              "        }\n",
              "      </script>\n",
              "    </div>\n",
              "  </div>\n",
              "  "
            ]
          },
          "metadata": {},
          "execution_count": 6
        }
      ]
    },
    {
      "cell_type": "markdown",
      "source": [
        "### Small sample (optional)"
      ],
      "metadata": {
        "id": "DCqfA8cZEvsQ"
      }
    },
    {
      "cell_type": "code",
      "source": [
        "# train_data = train_data.sample(n=1000)\n",
        "# test_data = test_data.sample(n=200)"
      ],
      "metadata": {
        "id": "ALGKoMyjE22m"
      },
      "execution_count": null,
      "outputs": []
    },
    {
      "cell_type": "markdown",
      "source": [
        "## **Feature Selection**\n",
        "by 家怡 & 佳圻"
      ],
      "metadata": {
        "id": "aPiLpOAyCqel"
      }
    },
    {
      "cell_type": "code",
      "source": [
        "from sklearn.feature_extraction.text import TfidfVectorizer\n",
        "from nltk.stem import WordNetLemmatizer\n",
        "from nltk.corpus import stopwords"
      ],
      "metadata": {
        "id": "G2SJUVkFCxgv"
      },
      "execution_count": null,
      "outputs": []
    },
    {
      "cell_type": "code",
      "source": [
        "class Lemmatizer(object):\n",
        "    def __init__(self):\n",
        "        self.lemmatizer = WordNetLemmatizer()\n",
        "    def __call__(self, sentence):\n",
        "        return [self.lemmatizer.lemmatize(word) for word in sentence.split() if len(word)>2]"
      ],
      "metadata": {
        "id": "pbCXymJmC32I"
      },
      "execution_count": null,
      "outputs": []
    },
    {
      "cell_type": "code",
      "source": [
        "import nltk\n",
        "nltk.download('wordnet')\n",
        "vectorizer = TfidfVectorizer(max_features=5000,stop_words='english',tokenizer=Lemmatizer())\n",
        "vectorizer.fit(train_data.posts)"
      ],
      "metadata": {
        "colab": {
          "base_uri": "https://localhost:8080/"
        },
        "id": "wLrb6RTIC8Ob",
        "outputId": "d5dab98d-f265-4f53-9c73-fa6ef00d9e20"
      },
      "execution_count": null,
      "outputs": [
        {
          "output_type": "stream",
          "name": "stdout",
          "text": [
            "[nltk_data] Downloading package wordnet to /root/nltk_data...\n",
            "[nltk_data]   Unzipping corpora/wordnet.zip.\n"
          ]
        },
        {
          "output_type": "stream",
          "name": "stderr",
          "text": [
            "/usr/local/lib/python3.7/dist-packages/sklearn/feature_extraction/text.py:517: UserWarning: The parameter 'token_pattern' will not be used since 'tokenizer' is not None'\n",
            "  \"The parameter 'token_pattern' will not be used\"\n",
            "/usr/local/lib/python3.7/dist-packages/sklearn/feature_extraction/text.py:401: UserWarning: Your stop_words may be inconsistent with your preprocessing. Tokenizing the stop words generated tokens ['ha', 'le', 'wa'] not in stop_words.\n",
            "  % sorted(inconsistent)\n"
          ]
        },
        {
          "output_type": "execute_result",
          "data": {
            "text/plain": [
              "TfidfVectorizer(max_features=5000, stop_words='english',\n",
              "                tokenizer=<__main__.Lemmatizer object at 0x7fe8fc483a10>)"
            ]
          },
          "metadata": {},
          "execution_count": 10
        }
      ]
    },
    {
      "cell_type": "code",
      "source": [
        "feature_names = vectorizer.get_feature_names()"
      ],
      "metadata": {
        "colab": {
          "base_uri": "https://localhost:8080/"
        },
        "id": "eAjfz8YkC-q_",
        "outputId": "230f4c0b-4ed1-4158-90de-18c9163d41e0"
      },
      "execution_count": null,
      "outputs": [
        {
          "output_type": "stream",
          "name": "stderr",
          "text": [
            "/usr/local/lib/python3.7/dist-packages/sklearn/utils/deprecation.py:87: FutureWarning: Function get_feature_names is deprecated; get_feature_names is deprecated in 1.0 and will be removed in 1.2. Please use get_feature_names_out instead.\n",
            "  warnings.warn(msg, category=FutureWarning)\n"
          ]
        }
      ]
    },
    {
      "cell_type": "code",
      "source": [
        "train_post = vectorizer.transform(train_data.posts).toarray()\n",
        "test_post = vectorizer.transform(test_data.posts).toarray()"
      ],
      "metadata": {
        "id": "t52HlkaiDBWc"
      },
      "execution_count": null,
      "outputs": []
    },
    {
      "cell_type": "markdown",
      "source": [
        "## **Support Vector Machines (SVM)**\n",
        "\n",
        "*   SVM: https://scikit-learn.org/stable/modules/svm.html\n",
        "*   Save model: https://scikit-learn.org/dev/model_persistence.html\n",
        "\n"
      ],
      "metadata": {
        "id": "KlAC0ngiJQlm"
      }
    },
    {
      "cell_type": "code",
      "source": [
        "# Accelerate existing scikit-learn code through patching. (https://intel.github.io/scikit-learn-intelex/)\n",
        "# Import scikit-learn after these lines.\n",
        "# Need more RAM to accelerate the training process.\n",
        "!pip install scikit-learn-intelex\n",
        "from sklearnex import patch_sklearn\n",
        "patch_sklearn(\"SVC\")"
      ],
      "metadata": {
        "colab": {
          "base_uri": "https://localhost:8080/"
        },
        "id": "Hf0JciDeSiUA",
        "outputId": "e80d88ea-410a-4db5-ce85-3d4e7752739f"
      },
      "execution_count": null,
      "outputs": [
        {
          "output_type": "stream",
          "name": "stdout",
          "text": [
            "Looking in indexes: https://pypi.org/simple, https://us-python.pkg.dev/colab-wheels/public/simple/\n",
            "Collecting scikit-learn-intelex\n",
            "  Downloading scikit_learn_intelex-2021.5.3-py37-none-manylinux1_x86_64.whl (69 kB)\n",
            "\u001b[K     |████████████████████████████████| 69 kB 3.6 MB/s \n",
            "\u001b[?25hRequirement already satisfied: scikit-learn>=0.22 in /usr/local/lib/python3.7/dist-packages (from scikit-learn-intelex) (1.0.2)\n",
            "Collecting daal4py==2021.5.3\n",
            "  Downloading daal4py-2021.5.3-py37-none-manylinux1_x86_64.whl (22.5 MB)\n",
            "\u001b[K     |████████████████████████████████| 22.5 MB 1.7 MB/s \n",
            "\u001b[?25hCollecting daal==2021.5.3\n",
            "  Downloading daal-2021.5.3-py2.py3-none-manylinux1_x86_64.whl (284.3 MB)\n",
            "\u001b[K     |████████████████████████████████| 284.3 MB 1.8 kB/s \n",
            "\u001b[?25hRequirement already satisfied: numpy>=1.15 in /usr/local/lib/python3.7/dist-packages (from daal4py==2021.5.3->scikit-learn-intelex) (1.21.6)\n",
            "Collecting tbb==2021.*\n",
            "  Downloading tbb-2021.6.0-py2.py3-none-manylinux1_x86_64.whl (4.0 MB)\n",
            "\u001b[K     |████████████████████████████████| 4.0 MB 38.7 MB/s \n",
            "\u001b[?25hRequirement already satisfied: joblib>=0.11 in /usr/local/lib/python3.7/dist-packages (from scikit-learn>=0.22->scikit-learn-intelex) (1.1.0)\n",
            "Requirement already satisfied: threadpoolctl>=2.0.0 in /usr/local/lib/python3.7/dist-packages (from scikit-learn>=0.22->scikit-learn-intelex) (3.1.0)\n",
            "Requirement already satisfied: scipy>=1.1.0 in /usr/local/lib/python3.7/dist-packages (from scikit-learn>=0.22->scikit-learn-intelex) (1.4.1)\n",
            "Installing collected packages: tbb, daal, daal4py, scikit-learn-intelex\n",
            "Successfully installed daal-2021.5.3 daal4py-2021.5.3 scikit-learn-intelex-2021.5.3 tbb-2021.6.0\n"
          ]
        },
        {
          "output_type": "stream",
          "name": "stderr",
          "text": [
            "Intel(R) Extension for Scikit-learn* enabled (https://github.com/intel/scikit-learn-intelex)\n"
          ]
        }
      ]
    },
    {
      "cell_type": "code",
      "source": [
        "from sklearn.svm import LinearSVC,SVC\n",
        "from sklearn.metrics import classification_report\n",
        "from sklearn.metrics import accuracy_score\n",
        "from joblib import dump # saving model"
      ],
      "metadata": {
        "id": "WEUU1q72LlH6"
      },
      "execution_count": null,
      "outputs": []
    },
    {
      "cell_type": "code",
      "source": [
        "train_y = train_data['type']\n",
        "test_y = test_data['type']"
      ],
      "metadata": {
        "id": "eG8jFzKwfVwE"
      },
      "execution_count": null,
      "outputs": []
    },
    {
      "cell_type": "markdown",
      "source": [
        "### **Linear SVC**\n",
        "\n",
        "*   [sklearn.svm.LinearSVC](https://scikit-learn.org/stable/modules/generated/sklearn.svm.LinearSVC.html#sklearn.svm.LinearSVC)\n",
        "*   Regularization parameter (C) = 1\n",
        "*   Multi-class: one-to-rest\n"
      ],
      "metadata": {
        "id": "-mMvhVs7RTal"
      }
    },
    {
      "cell_type": "code",
      "source": [
        "# model (30 sec)\n",
        "model_linearsvc = LinearSVC() \n",
        "model_linearsvc.fit(train_post, train_y)"
      ],
      "metadata": {
        "colab": {
          "base_uri": "https://localhost:8080/"
        },
        "id": "AhpLqiy-QpmB",
        "outputId": "37d10789-801c-4ae1-e8c9-757e131923c2"
      },
      "execution_count": null,
      "outputs": [
        {
          "output_type": "execute_result",
          "data": {
            "text/plain": [
              "LinearSVC()"
            ]
          },
          "metadata": {},
          "execution_count": 15
        }
      ]
    },
    {
      "cell_type": "code",
      "source": [
        "# Save model\n",
        "dump(model_linearsvc, '/content/drive/MyDrive/碩一下/資料探勘/期末報告/lemma&stem/model_linearsvc.joblib') "
      ],
      "metadata": {
        "colab": {
          "base_uri": "https://localhost:8080/"
        },
        "id": "vq5iMV_8RcqR",
        "outputId": "0b2b4824-f6e7-484b-cfed-1cc2e4de15a9"
      },
      "execution_count": null,
      "outputs": [
        {
          "output_type": "execute_result",
          "data": {
            "text/plain": [
              "['/content/drive/MyDrive/碩一下/資料探勘/期末報告/lemma&stem/model_linearsvc.joblib']"
            ]
          },
          "metadata": {},
          "execution_count": 18
        }
      ]
    },
    {
      "cell_type": "code",
      "source": [
        "# train\n",
        "# train_predict_linearsvc = model_linear_svc.predict(train_post)\n",
        "# print('train classification report \\n ', classification_report(train_y, train_predict_linearsvc, labels=np.unique(train_predict_linearsvc)))"
      ],
      "metadata": {
        "id": "ogZtPAX8RDyt"
      },
      "execution_count": null,
      "outputs": []
    },
    {
      "cell_type": "code",
      "source": [
        "# test (1 sec)\n",
        "test_predict_linearsvc = model_linearsvc.predict(test_post)\n",
        "print('test classification report \\n', classification_report(test_y, test_predict_linearsvc, labels=np.unique(test_predict_linearsvc)))"
      ],
      "metadata": {
        "colab": {
          "base_uri": "https://localhost:8080/"
        },
        "id": "70_KZDF-gQ3l",
        "outputId": "a562c1f7-c0da-44b8-fe5e-c335604486b5"
      },
      "execution_count": null,
      "outputs": [
        {
          "output_type": "stream",
          "name": "stdout",
          "text": [
            "test classification report \n",
            "               precision    recall  f1-score   support\n",
            "\n",
            "        ENFJ       0.75      0.58      0.65       307\n",
            "        ENFP       0.79      0.75      0.77      1233\n",
            "        ENTJ       0.87      0.74      0.80       591\n",
            "        ENTP       0.82      0.80      0.81      2345\n",
            "        ESFJ       0.74      0.39      0.51        36\n",
            "        ESFP       0.70      0.46      0.55        72\n",
            "        ESTJ       0.90      0.79      0.84        96\n",
            "        ESTP       0.93      0.87      0.90       397\n",
            "        INFJ       0.80      0.81      0.81      2993\n",
            "        INFP       0.79      0.80      0.80      2427\n",
            "        INTJ       0.81      0.86      0.84      4486\n",
            "        INTP       0.82      0.87      0.84      4992\n",
            "        ISFJ       0.81      0.56      0.66       130\n",
            "        ISFP       0.69      0.47      0.56       175\n",
            "        ISTJ       0.80      0.58      0.67       249\n",
            "        ISTP       0.84      0.78      0.81       685\n",
            "\n",
            "    accuracy                           0.81     21214\n",
            "   macro avg       0.80      0.69      0.74     21214\n",
            "weighted avg       0.81      0.81      0.81     21214\n",
            "\n"
          ]
        }
      ]
    },
    {
      "cell_type": "code",
      "source": [
        "# accuracy\n",
        "accuracy_score(test_predict_linearsvc, test_y)"
      ],
      "metadata": {
        "colab": {
          "base_uri": "https://localhost:8080/"
        },
        "id": "p3jjRK2Elpoh",
        "outputId": "7afa7e1e-54f8-45c8-ab6b-1402b95e3aae"
      },
      "execution_count": null,
      "outputs": [
        {
          "output_type": "execute_result",
          "data": {
            "text/plain": [
              "0.8139436221363251"
            ]
          },
          "metadata": {},
          "execution_count": 23
        }
      ]
    },
    {
      "cell_type": "markdown",
      "source": [
        "### **SVC**\n",
        "\n",
        "*   [sklearn.svm.SVC](https://scikit-learn.org/stable/modules/generated/sklearn.svm.SVC.html#sklearn.svm.SVC)\n",
        "*   Regularization parameter (C) = 1\n",
        "\n"
      ],
      "metadata": {
        "id": "FkJa4QQWRedE"
      }
    },
    {
      "cell_type": "markdown",
      "source": [
        "#### **Linear kernel**"
      ],
      "metadata": {
        "id": "poTZoCbok1Gz"
      }
    },
    {
      "cell_type": "code",
      "source": [
        "# model (5hr)\n",
        "model_svc_linear = SVC(kernel='linear')\n",
        "model_svc_linear.fit(train_post, train_y)"
      ],
      "metadata": {
        "id": "JTZRu0EiRhZJ",
        "colab": {
          "base_uri": "https://localhost:8080/"
        },
        "outputId": "880feaae-2d9b-44c8-ad6a-d74dc6155395"
      },
      "execution_count": null,
      "outputs": [
        {
          "output_type": "execute_result",
          "data": {
            "text/plain": [
              "SVC(kernel='linear')"
            ]
          },
          "metadata": {},
          "execution_count": 15
        }
      ]
    },
    {
      "cell_type": "code",
      "source": [
        "# Save model\n",
        "from joblib import dump\n",
        "dump(model_svc_linear, '/content/drive/MyDrive/碩一下/資料探勘/期末報告/lemma&stem/model_svc_linear.joblib') "
      ],
      "metadata": {
        "id": "iSleyUXpqbC9",
        "colab": {
          "base_uri": "https://localhost:8080/"
        },
        "outputId": "01ac2e77-f098-406e-afb8-786eb2ddbc45"
      },
      "execution_count": null,
      "outputs": [
        {
          "output_type": "execute_result",
          "data": {
            "text/plain": [
              "['/content/drive/MyDrive/碩一下/資料探勘/期末報告/lemma&stem/model_svc_linear.joblib']"
            ]
          },
          "metadata": {},
          "execution_count": 16
        }
      ]
    },
    {
      "cell_type": "code",
      "source": [
        "# train\n",
        "# train_predict_linear = model_svc_linear.predict(train_post)\n",
        "# print('train classification report \\n ', classification_report(train_y, train_predict_linear, labels=np.unique(train_predict_linear)))"
      ],
      "metadata": {
        "id": "QyMWLSU2Roli"
      },
      "execution_count": null,
      "outputs": []
    },
    {
      "cell_type": "code",
      "source": [
        "# test (1hr)\n",
        "test_predict_linear = model_svc_linear.predict(test_post)\n",
        "print('test classification report \\n ', classification_report(test_y, test_predict_linear, labels=np.unique(test_predict_linear)))"
      ],
      "metadata": {
        "id": "baaOz4-JY7Op",
        "colab": {
          "base_uri": "https://localhost:8080/"
        },
        "outputId": "01082c1f-87bc-4bef-f0f5-b90ff7783f87"
      },
      "execution_count": null,
      "outputs": [
        {
          "output_type": "stream",
          "name": "stdout",
          "text": [
            "test classification report \n",
            "                precision    recall  f1-score   support\n",
            "\n",
            "        ENFJ       0.75      0.67      0.71       307\n",
            "        ENFP       0.81      0.78      0.80      1233\n",
            "        ENTJ       0.86      0.74      0.79       591\n",
            "        ENTP       0.83      0.80      0.82      2345\n",
            "        ESFJ       0.87      0.56      0.68        36\n",
            "        ESFP       0.69      0.51      0.59        72\n",
            "        ESTJ       0.85      0.77      0.81        96\n",
            "        ESTP       0.96      0.88      0.92       397\n",
            "        INFJ       0.80      0.83      0.81      2993\n",
            "        INFP       0.80      0.81      0.80      2427\n",
            "        INTJ       0.82      0.86      0.84      4486\n",
            "        INTP       0.83      0.86      0.85      4992\n",
            "        ISFJ       0.78      0.59      0.67       130\n",
            "        ISFP       0.66      0.54      0.60       175\n",
            "        ISTJ       0.76      0.61      0.68       249\n",
            "        ISTP       0.87      0.78      0.82       685\n",
            "\n",
            "    accuracy                           0.82     21214\n",
            "   macro avg       0.81      0.72      0.76     21214\n",
            "weighted avg       0.82      0.82      0.82     21214\n",
            "\n"
          ]
        }
      ]
    },
    {
      "cell_type": "code",
      "source": [
        "# accuracy\n",
        "accuracy_score(test_predict_linear, test_y)"
      ],
      "metadata": {
        "id": "FXPk1C4cRs7e",
        "colab": {
          "base_uri": "https://localhost:8080/"
        },
        "outputId": "10b82011-131c-46ee-f177-70b39db92c45"
      },
      "execution_count": null,
      "outputs": [
        {
          "output_type": "execute_result",
          "data": {
            "text/plain": [
              "0.8196474026586217"
            ]
          },
          "metadata": {},
          "execution_count": 19
        }
      ]
    },
    {
      "cell_type": "markdown",
      "source": [
        "#### **Polynomial kernel**\n",
        "\n",
        "*   Need accelerator\n",
        "*   Need more RAM\n",
        "\n"
      ],
      "metadata": {
        "id": "AsqsOMA6mN7K"
      }
    },
    {
      "cell_type": "code",
      "source": [
        "# model\n",
        "model_svc_poly = SVC(kernel='poly')\n",
        "model_svc_poly.fit(train_post, train_y)"
      ],
      "metadata": {
        "id": "V6RnSjWwmN7L"
      },
      "execution_count": null,
      "outputs": []
    },
    {
      "cell_type": "code",
      "source": [
        "from joblib import dump\n",
        "dump(model_svc_poly, '/content/drive/MyDrive/碩一下/資料探勘/期末報告/lemma&stem/model_svc_poly.joblib') "
      ],
      "metadata": {
        "id": "N8aSb7QBpfIU"
      },
      "execution_count": null,
      "outputs": []
    },
    {
      "cell_type": "code",
      "source": [
        "# train\n",
        "# train_predict_poly = model_svc_poly.predict(train_post)\n",
        "# print('train classification report \\n ', classification_report(train_y, train_predict_poly, labels=np.unique(train_predict_poly)))"
      ],
      "metadata": {
        "id": "3TmcdXAXmN7M"
      },
      "execution_count": null,
      "outputs": []
    },
    {
      "cell_type": "code",
      "source": [
        "# test\n",
        "test_predict_poly = model_svc_poly.predict(test_post)\n",
        "print('test classification report \\n ', classification_report(test_y, test_predict_poly, labels=np.unique(test_predict_poly)))"
      ],
      "metadata": {
        "id": "yRob9CtQmN7M"
      },
      "execution_count": null,
      "outputs": []
    },
    {
      "cell_type": "markdown",
      "source": [
        "![poly.png](data:image/png;base64,iVBORw0KGgoAAAANSUhEUgAAAiIAAAE6CAYAAAAr2TlBAAAYI2lDQ1BJQ0MgUHJvZmlsZQAAWIWVeQdUFEvUZvX0BBiGIeecc84gOeecERhyzhmVKBJUBAFFQAUVBBUMJBEVEUQUEVTAgEhQJKmggiIg2wR973+7Z/dscbr7m1u3bn1V91ZVXxoANnpSREQIihqA0LCYKBtDHW4nZxdu3DTAIH8AcANxknd0hLaVlRnyC/x5/s+yMgygredziS1b/3v9/7XQ+PhGewMAWSHYyyfaOxTBjQCgmb0jomIAwPQhcr74mIgtvIhg+iiEIABY9Bb238HMW9hrB4tv69jZ6CJYCwAyAokU5Q8AcYs3d5y3P2KHiHDE0ob5BIYhqqkI1vAOIPkAwNqB6IiHhoZv4QUEC3v9y47//7Dp9dcmieT/F++MZbuQ6QVGR4SQEv8/p+P/XUJDYv/0wYtchIAoI5utMSPzdjE43HQLExDcHuZlYYlgWgQ/DPTZ1t/CrwNijex39Re8o3WROQOMAKCAD0nPFMHsCGaMDbbX3sWypKjttog+yiIwxthuF3tFhdvs2kfFhYVYmO3ayQ7wNf6DT/tG69v+0fELNDBGMBJpqMakADvHHZ6orrhABwsEExE8EB1sa7rbdiwpQNfij05UrM0WZ34Ef/eLMrDZ0YGZQ6P/jAuW9CZt94XEAqwVE2BntNMWdvKNdjL7w8HHV09/hwPs4xtmv8sNRqJLx2a3bVZEiNWuPnzaN8TQZmee4avRcbZ/2j6LQQJsZx7gySCSidVuXysRMVZ2O9zQKGAGdIEesoJikcsLhIMgENi/0LKA/NqpMQAkEAX8gS+Q2JX8aeG4XROG3G1BEviEIF8Q/bedznatL4hD5Bt/pTt3CeC3XRu33SIYTCM4FM2K1kCroc2QuxZyyaKV0Sp/2nFT/ekVq4/VwxphDbAif3l4I6xDkCsKBP4fZKbI0xcZ3RaXsD9j+MceZhoziJnEDGHGMa+AA3i/bWVXyyMwPeo/zLmBORhHrBnsjs7r36NDCyKsFdA6aHWEP8IdzYhmBRJoeWQk2mhNZGwKiPTfDGP/cvtnLv/b3xbrf49nV04UJSrssvD66xndv1r/taL7rznyQZ6m/9WEs+EbcA98D+6F2+EWwA3fhVvhPvj2Fv4bCe+3I+FPbzbb3IIRO4F/dKQvSc9Kr/+nb9Ju/1vzFR3jmxCztRh0wyMSowL9A2K4tZHd2JfbOMxbUpxbVlpWFoCtvX1n6/hms71nQ4xP/5H5zgCwB4lv8oF/ZEHHAajrBoAp9x+ZoCsALMg+e+2Zd2xU3I5saztGTgw8oEJWBQvgBHxAGBmPLFAEakAL6AMTYAnsgDNwR2Y8AIQinOPBPpAGskAeOAaKwSlwBpwDF8EVcB20gHZwDzwAj8EAGAJvkLj4AObBIlgBaxAE4SBKiA5igbggAUgMkoWUIQ1IHzKDbCBnyBPyh8KgWGgflAHlQYXQKagSqoWuQTehe1AvNAi9giagWegr9AsFowgoehQHShAlhVJGaaNMUXaovSh/VCQqCZWJOoo6iapCXUY1o+6hHqOGUOOoedQyDGAKmBHmgSVgZVgXtoRdYD84Cj4A58IlcBVcD7chfn4Oj8ML8Coai6ZDc6MlkNg0QtujvdGR6APow+hT6IvoZnQX+jl6Ar2I/o2hxLBjxDCqGGOME8YfE4/JwpRgqjFNmG5k3XzArGCxWEasEFYJWZfO2CBsMvYwtgLbgO3ADmKnsMs4HI4FJ4ZTx1niSLgYXBauFHcZdxf3DPcB95OMgoyLTJbMgMyFLIwsnayErI7sDtkzso9ka+TU5ALkquSW5D7kieT55OfJ28ifkn8gX8PT4IXw6ng7fBA+DX8SX4/vxo/iv1FQUPBSqFBYUwRSpFKcpLhK8ZBigmKVQEsQJegS3AixhKOEGkIH4RXhGyUlpSClFqULZQzlUcpayvuUY5Q/iXRESaIx0YeYQiwjNhOfET9TkVMJUGlTuVMlUZVQ3aB6SrVATU4tSK1LTaI+QF1GfZN6hHqZho5GhsaSJpTmME0dTS/NDC2OVpBWn9aHNpP2HO192ik6mI6PTpfOmy6D7jxdN90Heiy9EL0xfRB9Hv0V+n76RQZaBnkGB4YEhjKG2wzjjDCjIKMxYwhjPuN1xmHGX0wcTNpMvkw5TPVMz5h+MLMxazH7MucyNzAPMf9i4WbRZwlmKWBpYXnLimYVZbVmjWc9zdrNusBGz6bG5s2Wy3ad7TU7il2U3YY9mf0cex/7MgcnhyFHBEcpx32OBU5GTi3OIM4izjucs1x0XBpcgVxFXHe55rgZuLW5Q7hPcndxL/Kw8xjxxPJU8vTzrPEK8drzpvM28L7lw/Mp8/nxFfF18i3yc/Gb8+/jv8T/WoBcQFkgQOCEQI/AD0EhQUfBQ4ItgjNCzELGQklCl4RGhSmFNYUjhauEX4hgRZRFgkUqRAZEUaIKogGiZaJPxVBiimKBYhVig+IYcRXxMPEq8REJgoS2RJzEJYkJSUZJM8l0yRbJz1L8Ui5SBVI9Ur+lFaRDpM9Lv5GhlTGRSZdpk/kqKyrrLVsm+0KOUs5ALkWuVW5JXkzeV/60/EsFOgVzhUMKnQobikqKUYr1irNK/EqeSuVKI8r0ylbKh5UfqmBUdFRSVNpVVlUVVWNUr6t+UZNQC1arU5vZI7THd8/5PVPqvOok9Ur1cQ1uDU+NsxrjmjyaJM0qzUktPi0frWqtj9oi2kHal7U/60jrROk06fzQVdXdr9uhB+sZ6uXq9evT6tvrn9IfM+A18De4ZLBoqGCYbNhhhDEyNSowGjHmMPY2rjVeNFEy2W/SZUowtTU9ZTppJmoWZdZmjjI3MT9uPmohYBFm0WIJLI0tj1u+tRKyirS6ZY21trIus562kbHZZ9NjS2frYVtnu2KnY5dv98Ze2D7WvtOBysHNodbhh6OeY6HjuJOU036nx86szoHOrS44FweXapdlV33XYtcPbgpuWW7De4X2JuztdWd1D3G/7UHlQfK44YnxdPSs81wnWZKqSMtexl7lXoveut4nvOd9tHyKfGZ91X0LfT/6qfsV+s34q/sf958N0AwoCVgI1A08FbgUZBR0JuhHsGVwTfBmiGNIQyhZqGfozTDasOCwrnDO8ITwwQixiKyI8UjVyOLIxSjTqOpoKHpvdGsMPfKa0xcrHHswdiJOI64s7me8Q/yNBJqEsIS+RNHEnMSPSQZJF5LRyd7Jnft49qXtm9ivvb/yAHTA60BnCl9KZsqHVMPUi2n4tOC0J+nS6YXp3zMcM9oyOTJTM6cOGh68lEXMisoaOaR26Ew2Ojswuz9HLqc053euT+6jPOm8krz1w96HHx2ROXLyyOZRv6P9+Yr5p49hj4UdGy7QLLhYSFOYVDh13Px4cxF3UW7R92KP4t4S+ZIzJ/AnYk+MnzQ72VrKX3qsdP1UwKmhMp2yhnL28pzyHxU+Fc9Oa52uP8NxJu/Mr7OBZ19WGlY2VwlWlZzDnos7N33e4XzPBeULtdWs1XnVGzVhNeMXbS521SrV1tax1+VfQl2KvTR72e3ywBW9K631EvWVDYwNeVfB1dirc9c8rw1fN73eeUP5Rn2jQGN5E11TbjPUnNi82BLQMt7q3Dp40+RmZ5taW9MtyVs17TztZbcZbuffwd/JvLN5N+nuckdEx8I9/3tTnR6db+473X/RZd3V323a/fCBwYP7Pdo9dx+qP2zvVe29+Uj5UctjxcfNfQp9TU8UnjT1K/Y3P1V62jqgMtA2uGfwzjPNZ/ee6z1/8ML4xeMhi6HBYfvhlyNuI+MvfV7OvAp5tfQ67vXam9RRzGjuW+q3JWPsY1XvRN41jCuO357Qm+ibtJ18M+U9Nf8++v36h8xpyumSj1wfa2dkZ9pnDWYH5lznPsxHzK8tZH2i+VT+Wfhz4xetL32LTosflqKWNr8e/sbyrea7/PfOZavlsZXQlbUfuT9Zfl5cVV7t+eX46+Na/Dpu/eSGyEbbb9Pfo5uhm5sRpCjS9qsAjFwoPz8AvtYAQOkMAN0AAHjiTu61W2BoK+UAwAHSR2nDymhmDB5LhpMmcybPwN8lYClJxBZqPE0I7SN6BYZyJsAczNLPpsh+jGOeS4s7n2eQD8+vIuAsGCwUKuwmoiPKIbok9kC8VCJYUl2KUuqddINMqqy1HI/cJ/mbCgcVrZXYlT4o16skqGqr4dWe7ylX99EQ1/iq2aK1T1tHh6DzTveOXp1+hUGB4QEjkrGmCbPJkmmfWb15hUWlZbvVlA3GlsWO1Z7aAXZYd1xzBi7krkQ3yr3ovcvukx4Dnh2kG17V3qU+ub6Jfv7+dgE6gfJBosE8ISyhVGFw2PfwyYiByFtR56OPxqTEZsU1JaATfZM69oH9ggdUU4xTXdNi049mFGcmH5Q/OJWVf8gqWyCHIhfkoQ7THBE+qpFvccyxwKXQ5bhTkUOxXYn1CYuTpqWGp3TKNMpVKuROS5wRPStdaVqVcW78gnH15Zr5Wpo6gUsyl9Wu6NWbNzhe9bgWcD3iRnzjgab05oMt2a15N/Pbim+Vt1ffbrzTfXekY/zecGfDfb8u5q6H3SUP4nv8Hu7tdXxk/di0z/CJUb/d08iBs4OvnlO8kBrSHTYe0X+p/ErgNfH16puZ0Zdv742de5cx7j9hP2kxZf7e8oPltMlHlRmmmfHZ3Dn5ufH5iwtJn4w+k32u/WL4ZWrx3FLCV/dvlt/Nl4NWOn8e+tWyobe5uet/GRgNz6LHMVPYRTKYXBEfQFFOGCeKUsVTP6BloUukf8Eoy5TO/JZVgS2LfYCTlcuJu4CnnXeUb5l/RWBO8InQOeEoEQ1RMtEXYmfEgyQUJH5LPpA6Ku0owyXzUbZeLk5eXQFS6FbMVbJUplMeVilVdVXjUBtFosBNg0VjRPOElqu2oPaazpDuNb3D+r4GewxpDKeN2o2LTeJMfc28zAMswi1DrbysLW3UbEXt2OyJDiiHFcePTsPO913qXcvccvcmuQd6OHnqkaS8mL0h7zmfId8uvyb/6oCSwMyg8GDnEK1QoTBKJBImIsYiv0fzxHjElsbdi3+ZMJW4kLS6j2I/5wHhFO5UbOq7tKb0/IyoTPeD9llOhwKzM3Iqcq/kNR1uPtJ49Fr+lWO1BRcKzx4vKyouzi/JOZF+MrE0/JR/WWB5asXdMyJnL1YJnSs8//zCag3xImstX50oEgdKVzTq9RrMrzpfC7medeNc452mweaxlpnWb23wLaZ2sdtqd7TuKnXw3EPdm+zsud/UVdNd9uBYz8GHSb1Rj2Ie5/S19zM+3T/w9hnrc80XdkN+w6kjF14+ffX9De2oxFuzsYh3J8ZvTTybHJuafD8/jUG8nzY7OE+zIP1J4bPgF6ovPxenl0a+Pvp283vlcsqKww+hHys/21eTfqmtEdb1NmZ3/S8JzaMqYHe0CAaHWcLO4ubIJsmXKPAEAUptogtVGvVlmkHaTXoBBn3GIKaDzGdYGlm72R6yP+C4xVnJlcCtw/2L5zyvKe88Xza/EH+ngLvAqmCRkLTQI2F/EZxIjaiR6EexLHFh8W4Jb0kgWSG1R+qldCzydtMgayY7I5chzynfqmCjsKB4UIlLqQV5a5lRSVFlVL2kpq32bI/3ns/qyRo4jTJNec1hrSRtTu1WHUudV7oBupt6VfpWBuQG9w33GckbzRlXmbiZMpsOmxWb21pQWfRaZlipWX23brAJthWyfW9Xab/XgcXhhWO+k5HTpnOTS4grv+tbt5K9FntX3Is8BDwaPbU9X5MSvHi9XiL7SICvoZ+Sv0qAcSApKDSYFKIZSh06GnYhPDRCIWI98n5UbrRVDEPMm9gzcT7xgvHTCacT9RNHk0KS6ZOf77u1/86BrpT7qTfTatNLMjIyww+6ZukfEs3GZL/IKc11yePPWzs8fuTJ0Zv5Z48dKHAtVD3Oeny1aLj4esmJE0dOFpZWnrpR9qD8ZcXc6bWzlJXcVXLnjM67XQivPlCTc/FwbWod6ZLSZeLlr1c+1a9eJVzjvC57w6oxuamx+Werys2IttJbV9tbb9+603t3+Z5h580u2+7lnpJeuUcv+o70ew4YP9N+oTMc8oo4Oj/ZP7f8fXXL/zv/g9sqWEUAjqchGWoWAPaaABR0IXnmEJJ34gGwogTATgWgBP0AitAHINWJv+cHhJw2WEABaAAz4AJCQBqoIpmxJXABfiAayS7zwWlQD+6Ap2ACfEcyR3ZIBjKEPKB4qAC6DD2EplFYlDDKDBWNqkDyvE0kr4uDb8K/0Ybo4+hJjBwmG/MOq4otxa4hGdYjMiWyGnI28gI8BT6HAk9xjMBKqKGUp2wnqhPbqJSpblEbUb+hiaGlpr1Cp0c3SG9HP8hgyfCM0YPxJ1MpszrzGMt+VjbWNjZ3dnL2do44TnnOb1zXuaN4FHjWeXv4SvgDBPYIEgXHhW4IZ4t4iWqLCYoTxdckPku+lxqSbpJJlpWRHZPLlleQ/6LQqliolKjso2KmKq3GtIeoLqlRpiWmfUSnV/eLPpkBgyGLEbsxv4m8qYVZpPlJiy7Lr9Z8No62R+16HNCOek5Zzn2ujG5ee+vc33tiSTReWK9l7w8+o75z/lQBpoHFQR9D9oQWhX2OMImsiybERMa+jjdIaE2SSK7ez32gLJUxrSADn5l2cPlQUPZ8bt7h0KNNBTTHWYs+ldSe9DjFWDZQceSM4dnlqvzz9Beyq1cuBtd+vXTsin4DzdWl69ONM83zrR/bptqX7jLd073v3u3ZY9ur+VjqichTxcGw5z9H0K/JR8+8o5u484E4s29e+1PDl7Wvit8NVvA/jvx8tDrz68Paq/XGjWO/vTalt/ePLf/jAAHQAhbAA0SBHFAHRsAOeIJQkAxyQCmoBTfBY/AWLEIYiBWS3vZ+IlQEXYX6oU8oKpQcygWVgbqO+gBzwR7weXgBrYjORA9hRDBpmFHE92U4gAvADZHpk7WSS5HX4UXwlynkKe4SrAhTlAlEcmIxFQ/VVSR/fUMTT8tI20LnQPeJfj8DnuEkowTjI6ZwZibmDpZAVnrWDrZwdn72UY5STicuZq5X3BU8PrzSfIDvBf8lgUxBNyF5JJebE+kTvYGcYvkSGZL7pGKkvWW0ZAmy/XK58qYKTApLiq+UepSbVapUD6sl7YlTz9Fo1fyhLafjo5unV63fbHDL8JbRbeNekwkzlLmohYPlQasW6wVbfjsP+wqHMSde5yCXZjfcXkf3Ux7dnoOkTq9a72yfQF8bPyN/54D0wI5gyhCv0PZw1oikyLfROjG1cVTxEQmPk3iS4/YNHFBIOZ/Gll6UiT+YnLWQTcqZzEs6Ip2POva28FpRXIn8ia+l18piK1RP/zpbXSV7ruL8x2qhmoCLV+uYLpVfUa//dLX0usqN/iZS81prVZt1O7hde9esY6nzTJfXA9WHPI/Qj588iXuKHch9RnheNeQxYv4q5E3N24/jXJNW79Om78wyzR/7LLj45FvRyuFV4zXZ9dMb738v7fofDcgBNbL6eYAYUAS6wAq4I77fj6z8StAIHoIxZN0TIEFIC9oLJUNl0G1oAkWOeJ2EKkYNwAywL3wbzY5ORc9hnDFPsLrY2zh13D0yM7K35NF4KvxVCgcCTGihjCTKEH9SdVOX0sTSOtMZ05swWDOaMCkxi7AosHqwJbLHcHhx2nFZcJvzmPOa8Znz2wh4CEYLHRGuE3koOitOKaEk6Sd1SnpYllXOR75BYU3JSvmJas4eZw2M5jGtdR1T3QzEgy0G7YZ3jPqN10xNzZotJC0vW0vaNNvp2g87hjrjXS67ObjTeFJ4efi4+r73VwvIC5wOtgnpCzMPfxbpGjUTkxzHGT+W+CC5Y39Fin3qr/TKTIcsrkOLObfzDh/xyzcsYCl8XORXvHIio5TmVFW5YsWTM36VUFX5eeULQzWxtWx1Dy+n1Btelbpu0JjSXNWa3+bcznR75G7ZPef7uK4LD+R7bvXqPxrpS+iXGoAHF5/PDA2OFLwSel3x5vdb/bHcd48nqCbtp86+n52W+Rg8c3b24dzcAuYT+2fpL3qLjkukrz7frL7zfl9ePrLCvlL3Q+XHqR+rPx1/Nq8yrkatNq+u/dL6lfmrd424Zrt2Ym1gnWxdaz1h/dr67AbPhvNG4cajjY3fMr99fp/4/fj3702ZTd/Nk5t9W/6P9pOT3T4+IIIOAJixzc1vggDgCgHYKNjcXKva3Nw4hyQbowB0hOx819k+a6gBKN/6lgQet/5K/e/3lf8Ft7bHoJyuhgMAAAIFaVRYdFhNTDpjb20uYWRvYmUueG1wAAAAAAA8eDp4bXBtZXRhIHhtbG5zOng9ImFkb2JlOm5zOm1ldGEvIiB4OnhtcHRrPSJYTVAgQ29yZSA1LjQuMCI+CiAgIDxyZGY6UkRGIHhtbG5zOnJkZj0iaHR0cDovL3d3dy53My5vcmcvMTk5OS8wMi8yMi1yZGYtc3ludGF4LW5zIyI+CiAgICAgIDxyZGY6RGVzY3JpcHRpb24gcmRmOmFib3V0PSIiCiAgICAgICAgICAgIHhtbG5zOmV4aWY9Imh0dHA6Ly9ucy5hZG9iZS5jb20vZXhpZi8xLjAvIgogICAgICAgICAgICB4bWxuczp0aWZmPSJodHRwOi8vbnMuYWRvYmUuY29tL3RpZmYvMS4wLyI+CiAgICAgICAgIDxleGlmOlBpeGVsWURpbWVuc2lvbj45MDA8L2V4aWY6UGl4ZWxZRGltZW5zaW9uPgogICAgICAgICA8ZXhpZjpQaXhlbFhEaW1lbnNpb24+MTQ0MDwvZXhpZjpQaXhlbFhEaW1lbnNpb24+CiAgICAgICAgIDx0aWZmOk9yaWVudGF0aW9uPjE8L3RpZmY6T3JpZW50YXRpb24+CiAgICAgIDwvcmRmOkRlc2NyaXB0aW9uPgogICA8L3JkZjpSREY+CjwveDp4bXBtZXRhPgo+buJ/AABAAElEQVR4Aey9D3hU1Z3///b3JJhgEkhsUgoKRSgNWyfsEu0SkTgSdYm6E7VEbRNX0naDuM8jYftd2FjL9/nG3bJxd4X4bQ2i2+BKqJh0NfkWh4oJIcgmBZOuM9oEmhgTSMDEZpCZOiMzz3N/n3P/zNyZZO4kw0DmzpzLE+bOPeeeez6vc+6dc8+fz/sagTbwjRPgBDgBToAT4AQ4gRkg8P/NwDX5JTkBToAT4AQ4AU6AExAJ8IYIrwicACfACXACnAAnMGMEeENkxtDzC3MCnAAnwAlwApwAb4jwOsAJcAKcACfACXACM0aAN0RmDD2/MCfACXACnAAnwAloNERcGBkZgSuCjGyU3ogtMik6rHtxzTXX0F8O9lodEcxl8KRcvXuRU7QXE69mQ/NzG6X8TAh3YP9jd2J3pPLosmFkbGIOpFxH+FrBUURNSCTrVNQYxTPCCXACnEAcEQjeEPH8HgsWLMDvI9NuIKQuHKD0Frz8+4jgTfnGeoyP9qEKVoy63RFJM1QiCbMzcH/BEiQFRPT0HkDRti/Q3jeI4doipPiFJyHDkIf5sxP8job7xfOHl7Eg6xdBGoiRvVa4ebx650W2Tl29fPMrcQKcACfACSgEJv11HLO24qj1fRgo1sHXm3GWflkX33EvDJlSdBb+S/NxuJKWoPC7D3uPwzOGY2/9Ch09F5G2JAf3mtZhIZ3rGbPi7aNW/I4SNPS/i+ZDZ3EJi3H/OsOEH3UlY95P1xAOvf4WTp4Bltx6OwrvWol0lo2kFKRTiyCT0rzojSztjPV24nDnCZwddeGGnEI8pLqOY6QbzY3v4qwrCTfl3I5161Z6Gw7Bw2zoPHQMF2alwHT7fN/VPCNofft9nP/kOB2bjU//8Hv86bqvI2t+OlgWPbZevHvsE8zKM+EbGRI738ku9Lb+F5qPn0Xajdkw3ncPsjOT4LL1479bjuHDj0eBrGzct/5eLEmhc73X6qckTuP15q8j5VIKbntgLeazYI1rucjm18nmUVcabjE9grXZ6WI2WLm8a3VjweyzMB/uxQ2rTXh4bbaYd18+J9mjcm59uxdLb8nEieZmfIybYHrkAWSLBeNAd3MjDn5wBpnLjShdv0bkK16r6wLm4gwOnzyLFXeXwrTKx7L/GJ3T8TGQlo0HNpiw0Nva88Da+i4SDbn4ouMg3u29iOy7HsC9N34efp2axCR+iBPgBDgBTmBmCEzaI+IcG0L3yePU1wCcPdOLD7o/wPBFj5jDoeankZVTgIGkG5E08DJysu7GsTEW5EJjWRbyq35HP6xpOPXyVrz+oU08B+4L+KT7KPZQgtbz/ei1fICeT8STpPBg/zu68VjyIhS+OoDMTOBAYS7+tUNOUz7n0oRzbfjlw3k4cNqFrDTg5cIcfPu5Y1IsSq9kQS5ePk+/8Wku/Lzw/+B3SnJaYa5xnGjvxG/qCpCX+yvYlWt6nBj64AN8ePIDOnIePZaTOPnRCCRS1DgY/wTtR95EQX4efnXKexbFdaF5SzKWF/wLvsxMw1hLER7e/T9iqr9/+Yco+Dmll5WF83R8aep2DLEQamyM99K1PjpNX9JwprcX3T2n4ZQvFuxanpFD+DbZ/PxHXyLpghkFyzO8Q1muM0dQWJCLnMojSLq2HyUFy/HiVIaQXGfwbFE+Fi1YjtdOfYlzB6rQLNrHhoZSkVv0JjJvzMTvivOR+pg0lCVeqzAfedUnkTnnHIryFuC5TqkO9DZuxNL8YgxQs/SjA0VYlPw0+hWIxOpIRSGWE4/cnR348sJJFG14C7Zw65RImf/HCXACnAAnEDUEmGfVyTeLYIRR6HKrQt19QjkgmGo7BLvTKTjtfUIVfS9t6KNI40IN7Veah1UnqHfdQp0RgrHWoj6ouW+pNZHX12pKWdmcdF11huxCjQFCdZcvhhLT7bSLeRxsqfSm4eypo32D0D6qxPJ9aoUpsdw9tXR+jWBXDsif0vFawRlwXPrqFmoD8ujsq6d0IKhRud1qu9yC3U62DrdQGUCotfiu6O6poXOnfi1LrVGAodab5/YqCCg3C+xqdgtLq1ToES/tFupNrGynUD7OLsHEyrrFv6wlhhDqLaOCk+rHuIXZSbypeOwWxs4kWGRIXdUGAcY6yte4UE1pVTQNyrgsQil9r/GWqV2oNbI8N0zCd/p1atIi4gc5AU6AE+AEZozApD0iYivJJc27uKSeI+L6nN77geZNeUhNTkZy6lI00NDIbMcXdDQd364tx47CBeKkzaItL6B7zPtaS+Eu+kfbpanP53BfughD9V2UsrIlISUpcIhDCVM+x7B3Yw4Sk1PFPC4q2AEY05BIwUnZa1FttCI/iya55tyJp3e3QukQ0QpTUnZ9MbH/hYVJxy95e0KU+NKni4ah/DfP55/RgQr82Xzf8YQEya7e5meJXyJSU5ORuqAAbRQljWVe3qRimfq13HRxww+/7R1+mptJTYiO075eHcOtuEG8dAIMBUYMXPyTcinNTyoZFP6FygCK7XFLlaUkJwvJVD8yckrENPrP0uRaMSOFWCwPudyYVwy0XYTbMQAzxVq8OEO6XsJirKY6pa52LMCUd/Mkw3jTr1PSRfj/nAAnwAlwAtFCIHhDRM7hrIDffTYfo8biBDWdxD+LRcBLG+iXg7ZVT7wEt30UPV1m3LRrM3J/+q7/j/MfWSzVryr7qrn9EdZzNFdCa2PjR6o0HdZfomzPCnTZpfw5u+h9u01pCizE1iMCxocH0b79QezYVICXu5WmiFaYnIFgWQ92XD5tlvgZGOljfK5up7E4nl78c9F2VLUMynx7QM0GfPZFQONNwi2mGvjfxGsRw/MXvNGkXMzyERP5ScHSVaQUvCcE3bkeiYEmuVntqAb133jrhyBYsMFAE4VYXCs1POT0Lp45Le0lzcYy+ZjycYnlSSkytkv1ZnXODUqw/+e065T/6fwbJ8AJcAKcwMwSCN4QSZiNG9CGg239cLnozZP9aKYsw9/SL+Pm517HEB3wuBw04bIRrf1sOakL3a3HMEL9F9kr78JfVdChj8+rGiIp+PNiA9o+OoUxSs/hCHznnQjixr+gt+ZdW9FoZXMJPBjqPIRj/erzkvD1cmDba4cw5nDA5lD9srtpnya6vvCjbdQjIv24uoY60XysF8lZC7HmgfuoT4I2+QdPKwweDzHwwPkndm0XLtI+YxJq81Acj+eiOJn2yz9dpH36TielLLudGhjN+Nkrx8SlwGyS7KFjQ2Jys+l/p5gnDzr37qRYARvrdbB+hNO0hNdFDBWLg11r3rICYEcNjo3QeQ4r/nNTM4xPrvb2kASkfllfUxbnUT/JNvyk0UqUiJGNJhrv3Y9eERUrg2147dgIFeUIDh/YB1T9BU08/jruLqU69bNmsA60kc5fYDPFvGl+ckBelCaM+vD065T6bL7PCXACnAAnEAUEgg8KuYWO2goa16fxefWYvd0iVLExe/k4mwNQ38PmMNiFOppj4DtuEprE474rjHfVi3MLxDgmNj8g1OYU2mvLVWnS/IMe/5kY9p4mb5rGmi5BcA8KNap8GGh+BozSHAlnjzQ3w5vH0hphUJ6aoRVm72LzG9S20b4q/+JcC0Pg3BF5bkPAecrch3FLgzj/Q0m3tK5HhNFV52OuhNV650tQFGefUFNK8yvEdE1ChwhR61rjQkOFEp/l22dzYL4tNUZBZBiyWLrE+UPStf0jj3bUCdRh4+NlqBRYkUlzRAKOyxXAPdouzj1S7K2oo3L0bmRbwBwbbxDtTL9Oqc/m+5wAJ8AJcAIzTeAalgH6AZj25rDZ4E5MRnqKd52lmAbrJWG9J0kpKaGXgU7xqixNO6WZOo00Wf5oEsskc0roTd1hhxMT8856XYKHTTGz04rmgs3mpPks6ZRP34lS7wZjqDroCw5rz0U86EpIT6dhkiu+sR4vDxISkpAkz+lxdL+A1A2zYLc8ATflJTVdWuLsy4qHWNDKosRUqlMB44G+SHyPE+AEOAFOIMYIhN0QiTEO3JwrTMDR/SxSc2kJsvAT1eTjK3xRnjwnwAlwApxA1BPgDZGoL6LYyKDHMYKes8Dy7PkR6ymLDTLcCk6AE+AE4psAb4jEd/lz6zkBToAT4AQ4gRklEHzVzIxmi188+gmEKbDnsmJjzhZ5JU30WzkTOQwu6OjA3iIm9Mj84GxEdzDtwzAy3d+6G0U5Utp7e30JO0asJInQDOtY6FViYVyWnxJpApqimJG+GE+PE4gMAd4QiQzHOEwlTIG9pDlYkve1OOQ1dZODCzqmYP3ecYz2mWGwnlZWnk894aAxR/Czgk341j91YZh87Nx3A5sk7cKhZ+8kp3o5KCougvmMM+jZPCB6CGiLYkZPPnlOOAE1Ab48QU1Dr/uiCJ0VmYuB4yRGeOkGI77/PUlsjpkkidsB38gcw0Hz+5h1Uz6J0a2SfImQyF7jgV+hh1y1rLiPhOhWzvdRCCI4qCWwF0z4kCU61nsMHZ+4kVdWiK8G1LxgondMYLHrT3Mx6+wJHCdNPOOjpVjDlBSv9haG0J+UxWmKG7KTNAQdU2i1UUpyFq6PkP2KwOUuSq/60igs71/An61dSN/s5OOmEB2Dr+DE/UupWTL1Lbh4JKURpE6xetP6xq9wvP8ibry1EKUkVOmtIlrsterv1LM8pZjB7FLur7vWSnlmTK3kUWetIV0UbLyQmQVb17v4YDQLD5SVSiKhIe5ZLR7K9fzu5wcW4oQowNlPtkwUxZySgTwSJzBDBHiPyAyBj+hlRRG6AuTkVOBi2hy0lJDY3JZDXmdnrvNM3C4HSyn8/JcXcKB4hyT2N3YMRRlLUXz8S9yYeQFFuQuwpVlyrAYNwcFgAnvsLTqo8CEZfPGTj3DkNzXIzyvBKdUvm5bo3Zkjz6IwLxc13eTlzboJ+Ys2wao6N6IctRILQ+iP8Zi2uKEqD7KvPdWRyO8qApcs5f4eC052HsfvP2WA07H+J1uxauFXIbkDnOK1tcQjg9YpG3Z/JwsFJcdFccvnSajybkWokl02GHut+jvF7E45moZdrjNmur/MXtmEM+YCFLzFGgQuHH+2EPk5udh5Jg3XWstIJLRMqr+a96w2j0nvZ1r5riWKOWU7eUROYCYIzLQjE379CBCQReiqOyTxP7coqkeChbLDMEVwTvmuXFEUxEOV0EcCe04SCeyqK/UK5IUWHJwo5hda+JBdWRJT9DlD0xa9Y07WUNkiZdkd3JGaYtMV+wxD6O9yxA2Zg8Bggo4C5YUJUvoYXq7VkwhcepOcmA/n+LDQ09Mn9PWp/3qEwVG7oCUeGaxOec+RtSvtHdXk28gnkMjsnUxkUav+erMfoR1vHicRzJTEI30ODbuozhqqmVM+ydGgoapdzsWoKPBY2UKJaNyz3msF4RHsfmYX0RbFlLPBPziBKCPAe0RmovV3Ba7JVF5yFqaKKScsyIaR9nxv1LRnKMAyvxENBw3jtFGs7VhKAnvJ5Pxtw/P7YFghOVELLTg4UcwvtPAhXU4WU6Q9aQshesccuxvmzpXiklO7mdymK/R3OeKGV9XOyQQuNTLwhwObsHz5Uixdqv5bjsd/eVpTWDJYnfKIGkV5mC9VX6R8k0kFXMSfVOU9kb12/dXIflhBUxHFVBIOlGC6fs51cpA02PTrD1lvCfUQ0t9k92xoHpPdz2KS8u0VTBRTisP/5wSijQBviERbiVxGfs5flJ/cnkv4I/3z26x+3+gL6fTcRD/y1V1egTomYGh5bYOsQxNacFDqsvd/7IYUPpyQjdCid4GnzNz3aQr9iRm9DHFDscz8+aptDxSkVIdFcj+wnA1PNHnrDL1YefePPLWSLqslHhmkTokyQufBNLzZ5hk/Q3MsArdA9qHqb+D5l/tdwy6xtawMYHkwcLKN3V6+bZZShsnIMpLSdJrSMAEmvWenwmMiIN/1DL5dvscJ6IEAb4jooZSmkMc0ivNm83/TqLQH3ft+Tg/yAmSqH4YULj7fvGklIIeUCa3b/g+JFpI7fBL2G+vvxKHOITGGluBgMIE9NiYeXPiQCQXSn/1PlP4fceEi5ZSJAiZMVfTOm/Go2tES+rsscUPWUCwPIugoEmjDeyf7yS2+DWqtx0jCcdnGMDJyFkxy8tzZAYyNjFEJa29a4pHB6lTK4r+gHpBmvPWuNK+i4+ABushaaM9J1q6/2rmcfqiWXQmz6e6zHsAJEpb0jHXgP/bBN5mYgtpe/CWstCLa0f8Onm8DHlz1DTEDwe7ZqfLwv59lm4KIYk7fYn4GJ3AVCUTZUBHPTjgE5PFmepp7xeZqO3yD2eIYtiz855+8U2ipoXkhKpG68npJfI8GsYMIDmoJ7GkIH9qlcX71tdg8ADbPQUv0jo23G2stUrYjPjfCn4bmN41rBxP6Y+mFLW5I504QdFRlsKu+0ltu1WpRRFWcKe+K9WfinBPG3r+8JsYJvIaWeGTwOiUIfWY2L0Spv0Z/wcyg7LXqb2DOLu+7tl3DKqFNo1BqhGAS62zg/UDHq1vozqJNZE72BrlntXgEv59ZupOJYl6e7fxsTuBKE+CeVenpp/vN1Y07k3+Ef3cewZ85bfAEiOiFsk8UFSQ3EcmpKZA16rynhCM4GJ7wod5F7yYK/XkhUj/C1RI39F1zJve0xSOD1inqIXNRzxxbvhxYD7Ws0aq/WudNP0zLLqn+Jqemq/LuwO47U3HgEQuOPLFcFIJMUYQsp3LPhslj+nbxMziBmSXAGyIzyz8yV3d04prUPLTbBazxm5AameR5KpwAJxAOAWqIXJOKTVUdEH6yyj8Bfs/68+Df4pqA12dQXFPQu/EpN6PH0gPRIabebeH55wRihkAKSod7YPTcMNEifs9OZMKPxC0B3iMSt0XPDecEOAFOgBPgBGaeAF81M/NlwHPACXACnAAnwAnELQHeEInboueGcwKcACfACXACM0+AN0Rmvgx4DjgBToAT4AQ4gbglwBsicVv03HBOgBPgBDgBTmDmCfCGyMyXAc8BJ8AJcAKcACcQtwR4QyRui54bzglwApwAJ8AJzDwB3hCZ+TLgOeAEOAFOgBPgBOKWAG+IxG3Rc8M5AU6AE+AEOIGZJ8AbIjNfBjwHnAAnwAlwApxA3BLgDZG4LXpuOCfACXACnAAnMPMEeENk5suA54AT4AQ4AU6AE4hbArwhErdFzw3nBDgBToAT4ARmngBviMx8GfAccAKcACfACXACcUsgIZ4s94xZ8dZhKy6pjU7JhmnNbLSaP0T6X67DmiUpYuiYtRVHhzNx/zoDnL3HYO4+ozrrElJuugemVfPpmA3HGs04IyY6C9nG+7FyfpIqrn53Rzobse9wD5C5AmU/NCEzRG1hfN84aAVmSTbPmjULly6l4PaH1mEhIRnpbsa+xiM4h8V46InvY81CibU+CDlwbP8vYP7wcyy7qxgb1mZPK9v9xxrxW9tNeMi0EkrtcA11Ys+rzTiPubh5tQkPU5ohEE/rmlc28vR5sHvqsPW8L1t073l5OPrRuG8/jp9yYvGthfjuw2tC1jdfQtG7N9TditYT7+P00AXMXZaP0kfXwfd4mJxhqPsoeq3lOeMEwiMQVz0irjNHUFxSAvPRozgq/plh7vwYjoF3UFRSjPwHf0HNCmk7c6QCxYVmOOnrwDvbUaI+z/wmPjh7UYro+hRtTWZKz0xxivHuEDtD/9tY5wtYkFeMc3Pm4NyBImR9Z7eXTTDrPBcHcPRNxoL4njyKquJiYvIbuOnX1cbSyy1C/9wV+CZakL/oNhwa8QRLKsqOe3BoSyryS1owbyFQVrAcGxv7p5xHz0gzluYTi2feE+sTO9HV34jkRXl45WwyFl57Di/XtcE+5RRnOmJ4PM4ceZbqw8t+955UA4bwdOpSFB8Yx62rF6KlJB9ZZY1wzbSZl319G976UQFe/d2XVG/mwlpWiAXJz2JETDc4Q6376LKzxBPgBKKRgBBHm72rRoChVnAH2Gy31ApUNuJfbde4GGqpNYpx7fRN3DfWBZwV+NUt1BogVMvnB4bq67tTqDdBMFR3iNnuqSsV2dT3OadhhltMw1hrEc9przIIqGiRz3cKdUYIStg0Ep2ZqOPtgoHqR8Mgu/y4UE3lDEOVMDyl3IwLNWRraYVJgLFWYPVJoBrYUEppVLVPKYWoixQmj64ao2Co6Zlojr1D5NsuwRGcXdVU32qIdIxto2ayyyB0MDunzND/PooxItwcTkAkEFc9Ikik5ob1FNq7u9HZ2Ul/x9Ddr/SBmFBdZcKmHx2Y5E0sDWhrwSHveVbYJrzMu/yHfKKx1TnVPHk+gbkZ+KHpFmCsGcvL9olnfvb5BKODpugZehsllMY203KK48KZ960wfjNTjp+EJWsNaDtunYR10CRnLMAx8DtQ7vFN6g3p3/+P2EajT7C+jyFH6Cz1Nz6FzWn1qN5YSHVIHhT0DOI4IS3PPIMXtjyGxzY+i9ZepR6GTnOmY4TLI3FWGqybN2Hjxo14+oVGDCldHgnXYQUZZW7thcdjQ9tBM2CcJd6uM21rRK7vccFmG8Oxg7+h5FbgOuohnCpD//soIrnhiXACUUcgvhoi4uSFXSjI3YC8vHL6y8dLv/1ULpQ03PWD/43Stk14nZ6Qs5Oo8eHd2P4+bN2wAeXl7LznMKA8RL1xYmjH9QXOkjlp7kHsfbgIFU1dqC8FWiwDUzby/defoR+TOtw+n566NCtiZaEJbZveQj/j5ujGvu30a07DW7oYyEpkk16Wwd3figdLTqOlpwUmyENzWkRsx/Bg8T6YX/ke5qubqa7P8TGdt2dTCVyri1FwfSsKlt+B1rGpN/S0LnvFw8LkkZh2CyqqH8fdd3wLH20uxiJlmCLJgH9uMGFH0XIkJmagcHsbams3QE8ziLSYd79YiIyMLOSX7YKp/scwsElCU2Tofx9pXYWHcQI6JhBPPUN2Cw3NUJev3APsNV0amjEKFhqzsVD3McobhHY2HEHDOCyuMkyjPTBhj52hGXuXYKKhCKOJhlNoOMFJQwl1NBxR2T7qZaa54+4Ryun8yhbV4IXdIlSwIQ067v0z1U0oC810ZyhQPXRXTuMz7sEGssEodbEHzZNbaConWyuahHGnUxhsqaJzqoS+cbvglvmW1/fJZ48KVSKvKfINes2rExAej4C8jbaIwzE1FuIxzIYsINS09wlO57jQIQ4FVgh9gWOoAUno5qvbLbjdTqHHzJ4/EJqG3cKUGE52H+nGaJ5RTmDqBOKsR4QeAxqbm97WDd+vgnFPMbY/T33n1/tH1nx79wzATC/5yooI/zN19i3lRqw20kgCDa2Y658gm/rQQrbNZX3K4uZCd/N+7N3bjMnmm451NGAPSvHd29iqInlLMWCnxY3R4WHY3U7QnBEYVmfr4q03IVHuHTPV4l/W0/jMF5+RUWliF7tk3WQ8XBg5TaG7ipCRnIxFBdvpy3YszbgN7+NG0KAXrr9R6XVLxY1G4Mz5KfSy0HkzvYXi4bFZ0bh3L/Y3dwcfekvPpLVTtLlp4O48A2XCPXlLkJSUjlX3FdP3FozFSq9jQgISEpKQvY5W2pFlvUN2hGJI0TDpfcQC+MYJxBiBOGyInMfAyAiGhoakv5GAsfmUNaiqNqKNfnjpt8ZvY1NM1Fv37i144VAvHB4PbD2nQL/bSJudrI6i0/1M5BXS9EwU4BsZHvQ3/ycNTBmRvyxdtseDEztLUFa20zfO77XUgcP/Rj+6lWVSF7Ry3DMGq3UQyVkZ+LR9D/JpaObJwpuV0Kj+TMq+HRWUQ+PqbyGV1g69sXMTUPoYlntbnZPxSMETh91wu+lPEDDeVU0pVGNUsGBVSiZWVwI7/u1XYkPO1vtrlLUBq1cuiGoOSuZC8XAN0Oq0sjK/VUL0s4rWxlb0j9ngctD+K8/R/WLE7ctSkDCb3WjN6HyfrSfxwHr4IH0uVjX0lCvr7NMzgub9zeilZ4zL5YC1uVl8RtyUmYxQDGn8cvL7SGcIeHY5gSkRmHrnif5jqrtDCY7YTQpDjXBGXDVjErqUMRvqNjaycJM0NNNTRyse5GEaNYXRDqmrVUnLWNWki6EGtQ1B9519QpXRN4xS3SIuGZGj24U6WlVDv8Y+ZkpCcpd7fU/AQJazS2Iqc69skFbTKKdF++e4pV4cSpDKulzoGFWPG2jwUIixYUGqa0oVE+w9AnUKSXWQmJiqzTQEpp9Ni4fdUifZJd8/olVOi0DTjLz2stUjNS3K0JRTaK+RVmYp91K1eZLVNfrBI+XU2SNQA1ZlM4SKug7vqj0thkKw+0hvDHh+OYEpELiGxaGbn29hE/DQG56L3uMSkJLifUUOO7XoOpF6emx2JCanIiVJGZa5jBxSz5GLVhB4aLAnIuldRlbCOpXy7nBRSaekRGgIzgMH1R3ote6EwcPlcFD5k8VJxDCgSnlcVDeojmCSsLDKK0pO8lBviN3pRmJqOlICbEYYDKPELJ4NTiBiBHhDJGIoeUKcACfACXACnAAnMF0CcThHZLqIeHxOgBPgBDgBToATuFIEeEPkSpHl6XICnAAnwAlwApxASAK8IRISEY/ACXACnAAnwAlwAleKQODUqSt1nahIN/Lqu8kq5V0gZV421uSvRHqMUJ2u+q5YyEFUVD22Xrxl7vb6FyX9YtzzsAmi49WoqB2hMjG5UqrWWWPdh3Cwd1z058skiWfNYqrNRqxbKflXCYuv1gWvatg0edDy7dY3DpPSsLyRMjPhwE2kVp2T+AdN1WbllOj+9GCoux0nyGXubQ+s9dZr21A3WlrfQ8/p85hz812kKrxWVhV2oPvQIbxn6cH5C8DNpOj8EKkvS9PdtcKimwLPHScQDoG46hGJuPqu4xS2F5eg5MBRfHjSjKKCXGQkPo3eGHDEFI76LhBcRdVFCsdq5eMW8we4qBOP5sy3RTjquxfPWvCmWVJ6Pnn0NRRTXal+T/opDo9vOLf4lTgnHB4X8SEpVEuq1ydx9OfFVB+KYaFKoHe1Wc9IKx67JhGLcguojJ9V+dax4eVFuSh+cwDXzptLqsIFyLr7BfKoQpvrNHYWFmPgyzmYN3ccJaTo/Mhu5rwoRJgUg//PCcQWgSks8Y2ZKBFX35V9Y9RaZA8Qo5JKa3WH3nVDw1Tf1VBRVdjrsjJNWSlVwzqZTcMg8z8SJl+N5K9qUAR4DJsryG1AlTDRqb3+1GadfU1CZU2LYGlhqsFGlW8dtzA+qnoWiNIAsvpuQIGRvzvRz4wqtjeGVpg3Et/hBHRMIEYGEabYOFSp786+RP3C5F96VubNJGfGNqa+C1F9d8ORJ8Qjvv/I86OovpuDueJ51+Gbtxig+Bn1xku9TvIKzzTS9Lwp6rvV01TfVamo5t37VVlF9RFJRZWJfFmZ8urvgNlL8MjGv8Xa7AkEo5LapEqp5Kidqe/On6Iym7VxB6yGGhQspFvO0yepG0+Xb5TQuXweY9hXyATgeqDoMSumKWqz5trlyqGo/0xaYsJPn6JODitzVa/eEpCe6avjjs+ZNMD16gjkg8gG58WzeO84HS74Onnu9W1aYb5YfI8T0D+B+GqIiKP1TH23RS45K8rpYfjvzJs5+XO/6wdbULo9l9R3N2DNpOq7H4jnWa0r0GV/TZwLwpxTv/iLPZi/Og0Hq8rQRg2aHV5X6GJ0/f0nq+8WqNR3b23IxQFS331qpQhrcptkFdVFpKK6Q45R22MW9WQcpNdSXl6NO+6+Af1NJaQ2uw31PXZ8L3uKv+STX/HqHJ1EKbVm+bPTuPYQflnWjPKm/ys1XsPlO40rXtGol8nD1XsQ22BAe2H2hGzqWW1We6RxCDtzSBqgsgW3eKu8DXtuy8BmeUTGPHwvubZTNq0wJQ7/5ARihICOe3OmnfWIq+/S0IyJXDgbS8uFiooKobK6XrAM68lRdxCEYarvTl1FdVyoIffmhuquIBmIrsNqaYCpq+/6bBCHpdRqvWHy9aU4s3uXy6OlkoYhShsmurTXudqsxEU9NKOU07gkiUAu/lV61GIgaREJTvuw0FBJStcBMhJaYUrK/JMTiAUCvgZ4jDSsLscMpr67kqnvpuZjeweldP1qv+SY+q40q913mOmlPrK1Bk8YAkN8cXS3J6vvbmPqu8NMfbdXVN81+Knv/hcs47TypdS38sVPRZVqlqSi+oyoorrE+xbIaKTiK6L0Khsei/5tglJq79uU6UD13Yk8JMs8aH1pM6g7xPcmHJJvdDMJxYOp777V1IVLGTl4yLTS/55xdaOGusuq2u/wP04mK2qzFrVqc3Sj8Mud92Hq3WHBDjRuyUBZcxUG3U9hvt8Z5OqeKfOmzMf6H/w9qSC+ig8dT5AoohRJKywgGf6VE9A1gbhaNSOVVOTUd5WSv0Sy9rG1hae+q6WiOnTsEI71jpBWi4uWOb6Bf6FGzv23LNQFttBKqZOp78qm2TrwzB6gZuMaVbd7KL7RjSUUj8nVdyWbht55jRRoy/G9vMDZIfpWm7WNjeGTYbYepg0f/2EIYza2dM6DY8/9NYp3AfWWx5E8Sorf/RRGQa7+Vuw/1I0x0t5x2Yaw/2dlFL8QrMGuFSZR5P9zAjFGIBa6daZqg7pLmYpRUsW8DPVdgRRF2dBMTddkc92nmqsojReW+m5wFVVLnb+6qqmqQfATsI1SDEq2NJVSSVM3mBpxX3051bNKQa1dLKapyVe5avR+avGYVH1XNEXiZKjumGiYrtVm7eJQo/eZwp4tRqbcbRdqRZVq+VkjP3PYqjpnT730/FGeQzAJDRbpOaIVNhEcP8IJ6J8AF72LsYZlZM0JT303mIqqV4U0Umq+kTU2dGoRV0oNj2/ojF6lGBHncZXyHTWXkZS7SZgXqekpqh4zlkGtsKgxgGeEE4gIAd4QiQhGnggnwAlwApwAJ8AJhEMgDueIhIOJn8MJcAKcACfACXACV4IAb4hcCao8TU6AE+AEOAFOgBOYEgG/hWZTOkPHkcIRvVu9YAy/6TpPgmUkW8b+I9k20blqSra8NNGmEr6bhWwS8Vo5PzaW8oYlyhZE9I5Vm7HeVvyy4V0MOOfiTtOjuHfVwoBx8WiuXNMUeSNTtIX+SNisuRGNR8hJ3tdWYH3peqo3fmucoxkG5W2aPDRE76T7ZZrpRTkdJXtj1lYctp5XvpIypvLckOrHGy834OQ5J1b81d9gw7psXzzac4xY0frfA1h8xz0wZMbGM8XPQP6FE5AJxFWPSDiid58Nv4+WFiZcZiZBKxLq+jkT7jLD3PkxTSejzfUp2pqkYyUk4vXuUGws5Q1PlE1D9K53P7KWF+AkOdS/deE5FOUtwo7WEZ3ciOGIvFHV0BD666RlnblFr2Lerasxt/955C4ogVU3Yonh8AguescmZoYjKqiHynPmyLMoKXlZFvtTPzd68XcZy1FCXlVvXZGMssLl2Li/VzbJhUPP3onUBTkoKi6C+UxsPFP0UF48jzNEQP8Lf6ZugSK8xmTH1Jt6WW+tvBTXUmsM8HToFmrJG2iNInCnTkDcl8KrY2Ipb5iibBqidyJP1Hi9aTaUMs+qkyzjnMA1Cg6EKfKm1LeJFsieZWssclCPvpaBh8lDzcFP9C4C6anTjqb9rhqjYKjpmZAlyduuSbDIDyOJR6XseXVcaKiqFjoG+8RlwbHxTJmAgB/gBLwE4qpHRFRfs55Ce3c3Ojs76e8YuvttchOQid6ZRNG7yV9MXTQoQ2+5QZ2XSeEz1J6M7GUV0TtT+KJ3Ho9NFr2bJWJf/O0HKY8ncXLIBteYFd37gLybAp1aRdaMSKU2qcibVRK907yGV+hvIzZueQ6tvUpdS8WyAtIA/MhKzq08GKG62EzaKzff6BNI00x3hgPD5uHNtyJ6VyyK3l1+et6Eo24ncVYarJuZ2ONGPP1CI4b8Hi63YJ48OJ7x9RWU9w5RSBGkSLT+J1uxauFXRXWsqDOKZ4gTiDCB+GqIeEXvNiAvr5z+8vHSbz+VkTLRu/+N0rZNJHrnwmw/0bsIU4/25GRRtjSV6F19KdBConeamyx6t4NE7xITM1C4vQ21tRtE0buUld9HLfYhf1EGkrNySBSvHD9ev0QzuagJnETkzQTm3D/E5hX6uwM3fLaNhP4ysL+XJHtpZsy6p0l4cU8JspITsSCPvGpW/Rxr9dEuA8LlIeNSRO/+lyJ6d5nphSiFGQ1OTLsFFdWP4+47voWPNhdjUfKzYAOSCXO+Qv9vx2GxPjjwzkvMs2rahIaHPkQQZhQxv3gsEPD2jcTBTriidxIayXti8G5S8qJIQzfBw3UEOExRNi3Ru5565lm1XOgYtgvO8R6h2khDM1XtuoCiHroLR/ROMlIt9Ed1hdlf2SSMOp3CcJfkZbO2xx4XPAJF7yLDVwfoZO+xNRZWzk6hpdrk865qINE78q7a4VcFQj1zdGAzzyInMAUCcdYjot10ZKJ3BiZ6t6cY25+nsYPrteP7hXoGYKaJZzExt10WZWtjonf1TPSuTxS9m+snercfe/c2Y0Slfe4nepeULovetYjaGl98dhaG6o1YRStDktKz8Z3HTbBu/x2UwQo/llH2ZYLI2xefUQ4DRe8m8vA3QyX05ziNA23Ak39zLzKTkjB/5cOoMxLrzhA9Tv4Jzti3UDyY6F3j3r3Y39wNv5EIlmNF9K7cJ3oXKr0ZMzTSF07PhKj1SJ5U2ZNi7dYmOMeHMTruxvjeJ+lYGuYGrGNk6/SoC0r8n//HCcQqgThsiIQvehdYCbp3b8ELh3rh8JCr7p5TNM5Pj5LZyYHRdPg9lCjb5CJvWqJ34nSJba/BaqOWi2sIh98kWuVfJx3e6N9CibyxVR8ndpagrGyn3xyAoEJ/SXPw52T2geZ3aREsYCM13+fbgNXZN0Q/DMphKB7TFb0LlZ4uoEyayTG0Nraif4zmRTlo/5Xn6BlhxO3L2DJtD4asVown0lCl8338Y+4mGKrKkS2/ybhsYxgZOQsmo3fu7ADGRsYmNuomvSY/yAnokMAUek1iJoq6C5iKSuoWnYLonQRg4tDLaEeNr2uV0jNWNZHMVYxsmqJswUTegoveCfYegeYCq3iVCy2DTt3A0hJ5E4KI3mkJ/Y3ScIxBqYOs7lTWC6O6oSEIWjzCEb3TSk9HWPyzSqKYNLVKVecNQk1LnxyH7iGjKqy8ThhWLedjq228zygxDWPAsI3/pfg3TkDPBLjWzGU3HiVxKg9NQExJiYmBGRWR8ETZgonesYRdDhuc7sRJRL5Ul43W3TBE3rSF/lyw2chHRGIq0lMC+uSjlYE6X2HwUJ8+YT/S6U24wMwccDkc1P9BE1STaFgyoJil+yEZ6emx9uyYGdb8qvokwBsi+iw3nmtOgBPgBDgBTiAmCMThHJGYKDduBCfACXACnAAnEBMEeEMkJoqRG8EJcAKcACfACeiTQMCIpT6NmGquIy96txgnG804I3sdSpmXjTX5K5EeI1QjLXqnlFP/sUb81naTLBqoHI32z+mLso11H8LB3nHZSdUsEk28hJSbjFi3cr7KWFpNsf8gHNn3wOR3XBUlKnenySOE6B0TCNQSgItKBHKmPI4RdLS+g44PTuPLa5fhvkdJwHChJGA41N2K1hPv4/TQBcxdlo/SR9chUBPTNdKN/3qnF9n3PCQLZnpgPfQWrOPyg4U+bqKwVYEnRjMUnjdOYBoE4qpHJOKid45T2F5cgpIDR/HhSTOKCnKRkfg0eic4T5hGiURJ1EiL3ilmeUaasTS/GCXPvAf9SHmFJ8p28awFb5qZYOJRnDz6GokmlqD6vfMKCvGzd+/DKCgpw86A436Rou5LODw0RO9cWgJwUWf8hAxZXlyAfBIwvHDtPDitZchddBtax9j0VBve+lEBXv3dl5i3cC6sZYVYIHtW9SUyhhcW5KKkrATvnVfuCBeObKV75GUmpnkU5jfNOHuRpcc3TiBGCeh5yc90866IkKlWyYlJqJf1Tkv0ztklGGlpXa0ihDfaLi7JrO4Yn27Woix+5EXvJAPJuygtWSytII+Sxlr9LHWOhCibLAjYMKiqfcNm7xJeU01XlNUBjexEgIda9E5bAE4jH1ES5LaPe8UcaWGzUE0elk21iqChKpOjZlqSa/BbhttTX07imtJS3RqvYKbkUbVWWemrSoLvcgKxSCCuekSurOgdtVRTr5OcsUruEPXbdL0ConcMRn/jU9icVo/qjYVAm9ztrANKkRBlszbugNVQg4KFyridA7vXFaLA3AWm4zOgAw5KFi+fh7/onZRuMAE45arR+5mQkq7yqGzHOfKwPG/+bF+GaVmyjRyUHTv4Gzq2Al4HxWOtWF5yGu2//ndQFfDbZpFX501L7ySxvC3Y3WwVl//6ReBfOIEYIhBfDZErIHqXRpXhxV/sQXPjXmz8di7aYEL+Mn2oqAatx1dA9A62Y3iweB/Mr3wP80Ud46BXj76AyxZlG8Ivy5pR/k8PkK6qtA01/wSbrDXYsS4Hl85OT01gxgFdJo9A0bupCsDNuN1TyEDnC49jFwk6brnHJ+jY/WIhMjKykF+2C6b6H8MgugxxYe8PC+j7K1izcLYsoehz5f6VvArU1P8d8pZ8gU1FOfjO7u4pXJ1H4QT0SUB5PdNn7qeda/YWXgO78JSoCKuc7rC20e5ZJGatxFYaO8j551+jPY81Maa2Xf/ZRzhyfDauL62HpfQhGKR5alM7OUpjMetffeZBaljVwmnKwevPAN8qn6eZW8/IISwqbkZNex/Kb83A/7z+FPKWV+Ju97/io3/Mh7WiCX+Z6iLX1p+L6Xxqc5DuTAq5gtPDtge5S/eARO+QP/sECijLlVPMtqP7LVIbNqJj7ULpDE8vfly0C1Utg0hwDeLMH4E/fn6BpAIA/fg1C5/Hf/8nKc2WNuBWuVWWtOQhkAAcqROnooQRMpDPWdr002cmZpd6/LYgb3MbmgbNXlftLGTlk4fhftKDvnf3YHnhcjQb3biltwplzaXoemUBHENtYo/Y5xc+pZ4Pdj+kYP1Pd0qJYj3W3PAFlpa8i7EnVkIvAs1y5vkHJzAlAvr4DZiSKZcfiYnerWSid6n52N5B6V2/OmSiTAz+ka01eEJ6zQkZXxcRZNG7bUz0bpiJ3vWKoncGb5+yC93N/wXLeAruKTVhvlyL/ETv6Niq+4rJ3GdI9M6FkdO021aEjF0+AkszGtBht2BVlDfcJoiykTbMRNG7iTwkSz1ofWkz6eo04RbFTs8X4hvw9oJFJAQvb9YC3HZtByxbVylHovYzFA8mevdWUxcuZeRMXBmliN61+0TvvAJwfzsCO7KQMPAKMnKPTxCAi1oglLGR1uewtHgX6i12mBYGeElNSKDGRQKy19HKKIrbO2TH4qEztLcPuVn7vGZZC5bi2o5xbF2l9JtJQV/NZg2zfrD5qpn8ie3lxXdiiEAsTnwJZpPdwrRhKgXL8LAwODgo/Q2PC9JkVaPQJQvFtFfLOg8m9YTKSSS55cmqvklmwa6sv+Pt1UyWvELoc7qFvqZK2ldrXUgy9v7HSNi8p47iQajrGCaD3YKFTcQjaXNxLq/bLbjZH4WMd1XT8WodaasMChVkl7G6nfI/LtSXk0ZIaYNoi1Syk/MQw+SJnYF1RGRBPASiwCY3Gms6pKR08b82D2nyKTEiHafAaduDTRVU9uVCn2rOLqsrgxaLMGx3CvbhDqGcWBuq2nVBgmVyvKNWrPem2nZhdFR6tgyPko6Se1hoqm8SeugZ43TaBUsTq/cQGvokjSWpDogJiJPeqzsktSHnYLvQ0GIRxhmPUYtQbQysb7pBwzPKCUyJQJy1r9ks0h3IWbDD15SkCYRn6tlx31DMmrKfwLitjYYl/DcWy39lbqLqLP+4ev+25qk3UWVeiqXJUhdGNQ0jqHsukkRcN4izbhRbk7IfRXtNC/LzFoA638Wt2twjj4mzd0JpS0ykN0Z6ydOPTvFCbLfU446cfCRuYzaUo2P0Aa897MhkPNjxfvM+WGkQ54GV/m+5CfSWLG2puGkF22O1Sy9bCB6J8r20eFaAgL0Drf+xC4bqDixRzBdNdqH1qRyUtcn2l9dhuHKNXmBg4IRZzGvzpnxkbZKyzWy0PDUXR0qKUKSypKKuAw8skXpMvHUgeZb4HMmaK98RX/SjuEC5g+hkYyU6qu/3q2+qJPkuJ6B7AlxrRvdFeCUNiLzo3ZXM7RVPO0ZF2cLmFmEesSoA5xU+TE2f+hwgjwcOlx1uEohMp3lUfOMEYpkAb4jEculy2zgBToAT4AQ4gSgnEGfLd6O8NHj2OAFOgBPgBDiBOCPAGyJxVuDcXE6AE+AEOAFOIJoI8IZINJUGzwsnwAlwApwAJxBnBPzmrse67cHUdx8yrRRdNNt6j+G1BjPOYy6WrcjDPfesEZUy2XFzN1v3r2xMRZV8AqyaTwdsOOZV4J2FbOP9soKmElfHn64xdLZ14Oysxbh/rUHlxlrLpuCqrMy/xL6X38KZL+fA+Hg5eZQM8LegleyMhwW3SztrHgx1t+PEx8BtD6yVfK6EUKLVTi9aQqfPwzbUjZbW99Bz+jzm3HwXvvvwWq9fDD2r74ZXIg50HzqE9yw9OH8BuPmuYjy0NtvvHutv3Y//+H8fIvlrC3H3o6VYJSv6hnc9fhYnEL0E4qpHJJj6LvkJgqN7NzKW56PFORcL53yJV4vy8R//YxNLbuCd7SgpKYGZlDCZGuZR85v44CxzZUab61O0NTGVTDPFKca7Q4qCphSs1/+HyEHTNclZyCssQnHFkSkq5WqosrqsKCMHV2WkwzHH+SbyF31bVijVAyENuzSy7xlpxWPXJGJRbgEp7z6LIe/abw0lWo30oicoHB42vLwoF8VvDuDaeXPRUlKArLtfwBgzSufqu2GVi+s0dhYWY4Aa5fPmjqOkYDke2U03h7x17y7C0oISOKkRcu25A9jx1odKEP/kBGKPwJS8jcRIpGDqu8y8rhpy4FWpdqIkOd9iYZZacnBmrGO7GptbqCXHVNVeBU2NqDoI6mmoFurae4T2GrLdoHbsppF5DVXWwSbm3KxSYK7OhMEG2QGUThRnNezSoCE4+5qEypoWwdLCHFn5HOYFnqNWog0Mi8rvYfEgV3CjKvdmYh2QlGj1rr4biTLqqlY5gCOlZiM5PvOqekfiAjwNTiCKCcRVj4i2+i7JXe74LxzrH5OVLn0OuERnZ20tONTdjc7OTvqzwsa6Ufw2l+60MfyyH/Ale/1WbFiTjbnT8LOlpcr62Sfk4710FQneOfDC48z1O9BsPkHfon/Tsksr90lLTPjpU2vxjUyfs7yJ8SdTop0YK5qOhMcjAemZPqdujs8/I5PonvNu+lXf9ZoQxg7znWIbseK943RywdeRSh+O0yfImWIF5g+QkGbRY9jyXKOqNy2Mi/BTOIEoJxBfDRHRe+UuFORuQF5eOf3l46XffioWUc53d6DCsAv5S7OQeM01eOzZRox4u9LZD8k+bN2wAeXl7LznMOANi/ISvprZC6HKaixYhqHmH2HzDXVoqSuFqPR1NfMX7rVC2BUq2QltVtUJgUq0qqDo3b1MHsAQduaQC9LKn4j6O7Gkvju9QrNhz20ZyFiQg81M1+kf7pW8p4p8d6HomVO4+wfkl9VcjEWFu2k2Gt84gdgkEGcNkUtUikx91wIacKE/AS99L1ss2YTMVdhpcWN0sA/tTTU4u70Y617olEv9LLkkr8UJiwUW+hOE17ByEmeH0+g8iM3aJFrFVFkLkNfwKqnUjoOer+LGnOG3tezE/UUdaKndgEWi7NsluOXw6P+Y3K7LzbekRLvdq0R7ueldvfPD5WHD3iIS+yNpheGfrhV/eBX13RJS373mmlQUtehTfXf67NPxZLcbTvswGioNKFz3iqqH0IAWul/Wm9bjX1+pB9oO4JQeug+nD4GfwQkgzhoioUo8AZkLl2CN6Sn8ezVg3XfC7y1EcxqqZwBmmmump3UgoWgED2fqu/uxd28zRlSv+xNUWb9g3e9pEEV7Z1Gv0r491EB5E2upEff5xQEgT+qKDn6d6AjRtEvM4uQ8lNx7l6Z5d+QQRYm2XK1Eq5wVvZ+heLDVUY1792J/c3eANpMDjVsyUNZchcHup2iYTtmSsHZrE5zjwxgdd2N875MUkKYr9V3Fkul+Mr2ZpJT5WP+Dv6cHzgF8SI2NBKbFRMNWc9k4DW0JafOkHf4/JxCjBOKwIXIeAyMjGBoakv5GpA5P6/7nsPdYL2wOF1y2fnnMdhl8o9oIEPACundvwQuHeuEgXQhbzynx7T9ttixcpfcK47JhZGwEw+KyhjFiNgabdzjKgxM7S1BWttNv7Dop+3Ya2aZpmau/RWPdNryxk7rfSx/DcnqufsNYIBLJ+2YG2GqSH20mKbhHbtGFkJeWXVIxT86DhdnGxvCJCLENH/9hCGM+iBh65zWqM+X4Xl6mlIxO/g/FwzVwBMVlZSh55j3VaisPjj331ygmDcV6y+NIHqX7r594iHWKljhbrRhPzECy8338Y+4mGKrKkR3DrXpXfyv2H+rGmMNBz5sh7P8ZE7krxBJqpCctXUO1og07X++m+WoedB+so7BlmBvDPHRS9Xk2rxSBKJ5IG/Gs2S2SXDexFFdtiJ+yVLkkda8+XiG0D0ta5T11pklXjox21PjSoTSNVU2CPeK5npkE7RZ/2xir6g5l1YNdqDMxVqVCV4DB45Z6gTrWZS7lQseoovfuphU4pV5ehkp9sQpuFyufYDzsQg2tpPKrb0ZlBZJ0Dqm0zkwBX+ZVtXjYLXWSzSbFVolRrVhn/HlIdYpYGFXHy+sE+da7zFxG7+nOnnr/egGT0GBR7i9BGO+SGcr3Um2HuN4seg3iOeMELoMAF72jXwnf5oHLRe8g1MORkjLJJBBfRNUenUO9KB56t09J4a8sIhgNVVZJYVWniqIadqkqRPzsRphHrKrvBq8Q0rPDSROlUklhN3Dkjh4s4uq85KQUJE0IDJ4qD+EE9EaAN0T0VmI8v5wAJ8AJcAKcQAwRiMM5IjFUetwUToAT4AQ4AU5A5wR4Q0TnBcizzwlwApwAJ8AJ6JlAXI08Rl70LlkleAekzMvGmvyVSI8RqiOdjdh3uAfIXIGyH5q8AmWaFd7Rj8Z9+3H8lBOLby0kYbM13vPiTfTO4xhBR+s76PjgNL68dhnue3Q9VnqFy0j0rLkRjUc+AL62AutLKWz+VOclaZbAVQqcvuidL2NjaN1/EI5sEo5c6VvE6yAPo63/PYDFd9wDQ2Zsz7diz6I3DtJ6f9n50KxZs3DpUgpuf2gdFia50N/ZhsPtJzF04VqsLPwOHlizZOIcEh9QvscJ6JpAXPWIRFz0znEK24tLUHLgKD48aUZRQS4yEp9Gr3eZq37rxljnC1iQV4xzc+bg3IEiZH1nKp4dh/B06lIUHxjHrasXkrBZPrLKGiVfEnEoemd5cQHyi17FhWvnwWktQ+6i27xCf520lDWXwubduhpz+59H7oISWHVTb8IRvfPdC717H0ZBSRl2vndePujCoWfvRCp5GC0qLoL5jKbHHl9COt7zkB+do28ysUwS0Tx5FFXFxSSa+Ru42UuM4ySW5hXCfA6Yl9yP4vyl+Lv9vTq2lmedEwhB4DJW3Oju1IiL3jm7/MWpRtvFpau+Za66QyRn2CnU01JLZWlpT5207La+z6ltEIl1saW77fKSXmcXE3urEdiixHgUvXPbxwUfsXGhmpbymmotRGNcXNZrqGH7bOsRTMStRi+CiWGJ3kmWCsNm7/JuU40iejguNFRVCx2DfSKXWBGOlC2ewodbvN+MYt2g6G67MG5Xlr3LopvyfTSFxHgUTkB3BOKqR+TKit5Riy/1OknGS+++3j2fwEy+2X9ougUYa8bysn1ic/azz1VuVCdr4CZchxV03NzaS0ugbWg7aCbvZrNEsnweuQAAQABJREFU7PEoepeQkq7ytGvHOeqJnzd/NqsoWEb+3awfWcmhlwcjJKTYDANuvlHtPm8ywNFxLDzRO5Z3B3avK0SBuQv1flJD6Vj/k61YtfCrykhFdBh6lXLhGXobJXS/bTMtl66YkIL0FN/47oWxP3rvo6uUJX4ZTuDqEtBd0+kyMuxzaGagN3X2B6G8vkdM0T3aIVSonE+VVjUIw/LrrKVW6hEwGAwC+/M68qIeEfYma6ioEZoa6oRy8XyT0BHg5Osysjwzp9qlnp46S5/oaKqiqUugHw7BVKe8wQfP1mADOX8jJspfbY8EsavGKBjreqSekdI6gUTvJnUSFzzlmQuR6k250NXXQm/zRqGlp4XK3Titcu4g+4FyQcYhCKMtXkYiq6r2mTNwmlcOl8dgUwXZXEO9RG6xXhm9PSJKBiQHcPHWI9JRTc8UY92kzhAVx2e66S1TipJ/cgLTIBBfPSK4MqJ313/2EY4c/wDXl9bDMnwAq/Q055B+BSfbSBkGrz7zIMpQix2mHFyiOZXfWjJvsqjeY56RQ1hU3Iya9j44nePoIIXdTcsr0U8dKfEsetffuAV5m9vQNFgjuy2nnoGHC0DeZTHqdGK4i0TNtudjd6+eVM2mKXrn6cWPi3ahquUBJLgGcYZe8v/4+QWSR/BWn/jcIS5120ju4Cf3YMJjg6QQCpeXoLTOgqdW6qO3LD4LkVt9uQTirCESCtf0Re8uUpKPbK3Bzp078dOt34NhfgzM9k+5EauNJPhJ3cXm+idoeKEPLTSsMFdUr2MMJxd5c50/TWEm3JO3BElJ6Vh1XzF9b5H0ROJU9G6k9TksJYGVeosdpoVy3XCcxoE24Mm/uReZSUmYv/JhkItzmDsHiFf0b2GJ3nm+EPWWtxcsQmLyUmyn+mTdXoDbnu/0M1ga1Uz0OxbLX8Y6GrAHpfjubb7VQ6K9tk48tqAAaTUdeG0DzbziGycQwwTisCESOdE7pV5ccsfaLP9M5BWyh18BvpHhQX/zf2IfjMhfpryVTS7yljCb9aM0o/P9Efr0wHr4IH0uFtV341H0zta5GwsKtsFU2467510URRZHmMpb0hz8OZE50PyuKPtu630bz7cBq7NvoKPRv4Ulepe0Er9yu+GmPxqXAk3chZF+ZC1bV4kGu2xjGBk5C6axeO7sAMZIZJFIxfjmwOF/2w5UlsGgfn9xWLElIw/7DNWo/u4SjDCBTlmcM8aBcPPilcA0hnF0H9U3R8Q3hwGXIXonOC36Wu0wnRJ09glVRh+n6pZB1dnBRN6cfsJ2dE8J1WZpDg4tBfALiwfRu64a//kyjIeyEmm0Sy0OSIKJlfXCqIpwtO9OX/RObZFTaKA5R+o5ImwOEePj+5veHBx16rrZp3lC1B4T6r0Th6ScOxXRQDUP+TmlG9t4RjmBaRDgWjP05PNt4Yje+c6OvT0PbDY7daWnImUaqlseF4kAknAgJhHr4qJ36lriIr7Um5aY6rdKQh0jqvcjLHoX1bbyzHECnMAVI8AbIlcMLU+YE+AEOAFOgBPgBEIRiMM5IqGQ8HBOgBPgBDgBToATuFoEeEPkapHm1+EEOAFOgBPgBDiBCQR87vsmBMXegXBE75L/0IqmrvMgTSr6Y4sLL5E4FX2kZOMh00pa2mpTCd/NQrbxfhIvU0+B1y/HcETvPLZevPFyA06ec2LFX/0NNqzLlgCQGF5z82H09g+R9spCmL7zCFYtUVbh6IHR9EXeGIu3zN2i9xpm4SXyFHHPwybMF+86Bzob96H5+CkkL74TP3hSOa4HFiyP0+ThIaG7Nw7jvGIe3Uuz6D66SbxfPOg+dAjvWXpw/gJw813FeGhttsorrXJSbH0GvVdkM/tb9+M//t+HSP7aQtz9aCl5np3gaSS2gHBr4pZAXPWIhCN6Zx9+Hy0tJEx11IxiEqYq/jkTqjKTz4ePaYEqba5P0dYkHSspKca7Q7GxlDcs0TtXL/4uYzlKyEfErSuSUVa4HBtlsS7H6YMoKjkOzJmHZOuLyFuagcYhvXizCk/kzTXwDopLSmBmwmb012L+ABdFkz1offo25BUfING7FRh/pQgL7p6KqGC0PKfC4XERH9J9I4q8HT2Joz+ne4nuFwsD4jqNnYXFGPhyDubNHUdJwXI8spsqUSxvGvcKM7t7dxGWFpTASY2Qa88dwI63PoxlGty2eCcwjRU2uo8aruidZLhbqCUX7jUW2e/7BBpSeGy4pw5P9E7kC5NgkfW6hs3MpXelMDyBlVNkaSKX77rYwhR5U+rbBBtlscTqLlkLQBYLDCkqOCGhGToQJg91bqW6UTXpkuWualrGG+PLVTXvFaoPRlq6Wxv0WaMmyfc5Af0TiKsekfBF71hz1SV2sbuCOi+TwmOiYRuu6J1o/C2YJw/4ZXydSeB1YMjruZyWA4+Nob/71zhAL7yrs7+qC1xhi7wl0lCedRM2btyIjVueQ2uvTbJX7ghKUxyIJl1Hbt+As5/rozctbB7e0h7DvsJdMNUXI9N7jO4whw22ESveo44zFHydpAFjfZv8XnGcPoE2VGD+wF5sLHoMW55rxFDse3eL9cLm9mkQiK+GiKjtuQsFuRuQl1dOf/l46befinhyvrsDFYZdyF+ahcRrrsFjzzZiJF5vftcXOEtU0tyD2PtwEUj0TlRLbbFouyBPmPMVOms7DouaKQ6881IZS8WrqOqwvoKMrCwszS2mB201/naVTuaIsAYFlsHd34oHS06DRO/IkT1z7h9iS0xDeXk17rj7Dtzw2TYULM/AfsYm5SuiZ9XjXafFBEY6jpA/WnK7EiK5qAkOl4dsgKv3ILaR2vD/KpTnD4nHbdhzWwYyFuRgM5MW+Id7EcsT2DTvFZHvLhQ9cwp3/6CIYBRjUaGehu6ipqbyjOiFgP47daZugd1SQ0MFNZOqXEqpuIXRwT6hvalG7BpVvGBKYaGUQe3icENMDM2Q+i5TFTaamCporaSWSsNSle2hfH86hZZqlTdRUalYrUbsFsjFtzA+2C6UU/p6GZpRe+QtbxgU3IMNVI+m6/lzXKghhobqLrE6jXbUUhpqT6I07KcM1Uy9Ss9IzMvl0VJJdpc2UL3y31jdcNqHhYZKqneGWo371P88fX4Lfq9IfA1Ci3y7ufvqw6hv+qTCcx2fBOKsRyRU81Bb9E7zbM8AzDTcoJu3Wi1jwhS9Y9av3doE5/gwRsfdGN/7JF0lDXO9r7YJSEhIQPrCNdhIYiMDo7REQgdbKJE3NmzX3bwfe/c2YyTo/NtUfIWNv8hraDJXPQHBPY7h4XG4nT2ghhmTKNbFFoqHx2ZF49692N/cPVEvxtWNmh1AVfkdE+4VVjeSUuZj/Q/+noa0DuBD75CeLrBMM5PB75WERPYUuR5z5bGphLR500ybR+cE9EUgDhsi4YveBRZt9+4teOFQL0mZ09yHnlNi93ra7OTAaDr8Hp7oHRO6G7JaMZ6YgWTn+/jH3E0wVJUjm56rQ63NaLUOwUHu38doiGMnSZ9fn3adLtiEEnljdp/YWYKysp1+Y/lDxw7hWO+IaPNQ9xv4FxpyuP+WhaLNI93HYB0BsrI8eLvqYVJgrcADBn0szwzFwzVwBMVlZSh55j0EznoZeuc1uk/K8b083+wQF9WH/Ye6MeZwwGUbwv6fsSG9QizRB44w63DweyVp6Roi1Iadr3dTzaKlzQfr6BrLMDcm3nLCxMVPi20C8dQRpO5SplKVusanIHonMZo49DLawYZ6fN3rxqqm2OlODkv0jsTwjD4eKK8ThuUVND315X6sDKU1Ql9g33wUV0YtkTeBSr3OxOwuFdSjK5a6Uj+bTVUNwqjMY7CJrShSWJUK5kEdwaBy0uJhV0TbTIHDKxIn/yFPQXD2sKEHhQX7NAkNlvEorg2RyFrwe4WlPt5V58ektmPi2rNI5IKnwQlEAwGuNUNPQN8WjugdneMgkTeaWpeSEmuvLOGJ3knCdslITw/gIYukQa+swhB587gcsDvdkwoHKmHJ6ekThil8dTKK98LgEdwa6T4iVEhNT4npiapqBkHvFRaJ6o6NhvqSJxGPVKfB9zkBvRPgDRG9lyDPPyfACXACnAAnoGMCcThHRMelxbPOCXACnAAnwAnEGAHeEImxAuXmcAKcACfACXACeiLAGyJ6Ki2eV06AE+AEOAFOIMYIeD08xJhdk5oTefXdxTjZaMYZpsZLW8q8bKzJX4n0GKEaSfXdse5DONg7LntZJeVVkl5NucmIdSvni+yi/79pqs2SQSFtdo2hs60DZ2ctxv1rDTqbsDp9Hkyxt7u5EY1HPgC+tgLrS9eTUjVbo+tCf2cbDrefxNCFa7Gy8Dt4YM2SmJiwOtTditYT7+P00AXMXZaP0kfXQRHnDqa+y55Tbxwkp0SzpLuCqX5fupSC2x9ah4UB87+j/77hOeQEQhOIqx6RiKvvOk5he3EJSg4cxYcnzSgqyEVG4tPojQHX8JFW37141oI3zZIK7cmjr5GScQmq3zsfuoZGRYxw1GYBLZuHWp/DNclZyCssQnHFkQn+NqLC7KCZCI9H53N/jdyiV0lxeDXm9j+P3AUlsLJ7xXESS/MKYT4HzEvuR3H+UvydrNocNAu6CLDhrR8V4NXffYl5C+fCWlaIBcnPgtzHUNsruFK15+IAjr4pKxWfPIoqUv0uKfkN3DHygqOLouOZvLoEomEN8dXKg6KGKrty8LtsVw25la5sVx0jd+SqbwJ9m6C+K6uoelUyR9sFA/lDqO7Quw+EK6y+K6vNNgz6E/bDHU1fIqA2KwTY3NNQLdS19wjtNUb9uTMPi4fs4r7GIpdsjygjUNNF94rbLozbfXXBUktMSIpB73fRhCo8aia7DEIHiS5rqu/6negW6slHjbFW4eYXyL9wAjFBIK56RK6s+i41IFOvI8fMtMldqle3SRnBq10x9V0pj9bGHbAaalCwUB+veJevNkseywNszl6/FRvWZGOuDutKeDxSsayAOHxkxZjLg5HOTvKwasDNN5LwYUIK0lN8deHC2B9JymeWXjzeh77xyN+KzTaGYwd/Q3FX4DqvqZOr76oT9Ay9jRLyyLvNtFx9mO9zAjFFIL4aImILIbLqu2lUHV78xR40N5Jk97dz0Ua6rPnLdKIqG6wqXyH1XelyQ/hlGTn5/qcHoBtKl6k2Sw7u9WdzsLrBjofFIwHrnm4B9pQgKzkRC/LIjXvVz7HW5+ldvKKrdz/yt1tR8++PIFY8vHe/WIiMjCzkl+2Cqf7HMNA8D031XRX7919/hhpldbh9vrf1ogrlu5xAbBCIs4YIm1VaA7tggSD+CXjpe9liSSZkrsJOixukvgtS38XZ7cVY90LnlEr5+s8+wpHjH+D60npYhg9gVQw8QVkD69VnHkQZarHDlINLNL/wW0u0xbeSljwEUt9FyfJUXHNNKopaaKCKNnkur7jv6H4LO2BE2VpJc0U8qIv/9iB3aQHyGl5F/uxxUVdoqtnWr81aFk6XhwO7Hy6AobIJo04nhrvqge352N2rUrYbaUXh8hKU1lnw1ErdNFO1IIlhK588DLfbiR5zDZpLlqOZlBGncq/A04s60mSq/Mk9MdMoCwmLR4hLAnHWEAlVxtNX371IST6ytQY7d+7ET7d+DwZlSnyoS0Vz+BVT3/Wg9aXNQPkW3KKjxlootVlt9V192qxVPUPxmFR913EaB9qAJ//mXmQmJWH+yodBukQwdw5Il7J14rEFBUir6cBrG6QGrFYedBVGqsIJCUnIXncP9ZcCvUN2+j+4+q5i21hHA4khluK7t+llZZmSc/7JCUyPQBw2RCKnvqugvkRvO7G1RV59V+Rj68Aze6hPauMaXS3NDKU2G0x9V9Nmlw0jYyMYHmOxxjAwMgabTlZbheIxqfpu0hz8OVl6oPldWsQL2HrfxvNtwOrsG2jVjBVbMvKwz1CN6u8uwcjQEIZGbBRL55tnBM37m9FLtrhIN8ba3Cz2pN2UyRS6g6vvSlY7cPjftgOVZeJQjs5J8OxzAtoEYmLK7RSNiLT6ruC0+Gb+TzEPuokWYfVdZnefqMBbKQzqBoIvo1pqs8HUd7Vstlv8lZvpLtXVaistHsHUd0e76sVVZcxW9mesrBdGCZJTUeuVj4vhsiq2rwR0uOfsESrUNtF+RV2HvBpPW31XGG0RWdX36EuVWYelxLMcBQS46B099XxbOOq7vrNjby/C6rt6BxRRtVm9w6D8h8WDrSChHsTEVL+VMjFAI6gJispyYmo6VIuDxPia6rtBU+QBnEBsEeANkdgqT24NJ8AJcAKcACegKwJxOEdEV+XDM8sJcAKcACfACcQ0Ad4Qieni5cZxApwAJ8AJcALRTSCuvOQoYlKzUiR3lpccl3DTPQ/hluRP8Lb5Q6T/5TqsWSKtKx2ztuLocCbuX2eAs/cYzN1nVCXJBNtoKd4qtqzOhmNe4btZyDbeT0Je5LEoBrZwRO/g6Efjvv04fsqJxbcW4rsPr0GmXMvYss59L7+FM1/OgfHxcqzRlYJXOCJvtB6mtxW/bHgXA865uNP0KO5dtdC7YigsvlFTr8LhEUz0jhkVTnrRAcPjGEFH6zvo+OA0vrx2Ge57lMT8Firr0x3obNyH5uOnkLz4TvzgSRMU32TBRO9EccBDh/CepQfnLwA331WMh9Zm60wUMTrKhudCHwTiqkdEFJNqMYsiUsXFr8HcchRnL9IE1YF3UFRSjPwHf0HNCmk7c6QCxYVmUYxs4J3tJDpVAvNRSbTtqPlNfHCWeRChzfUp2pqYQJWZ4hTj3aHYWMoblugdeRB9OnUpig+M49bVC9FSko+sskbSVmWcrCjLyEEZiYrOcb6J/EXfRuuYh4XoYAtP5I15Cc1aXoCTWIZbF55DUd4i7GgdEe0Nj2+0oAqPR1DRO1rKemhLKvJLWkgcDigrWI6Njf3RYmzIfFheXIB8EvO7cO08OK1lyF10m1y3yYfM07chr/gACf2twPgrRVhw927pGaMhegfXaewsLMYANdjnzR1HCfF4ZDfdOHzjBGKVQBSs3LnqWeghUS2DV3yLFl9aasXlhFTGQi0T4aJNFN4y1AqkTyXtG+vYYY1NEsWrls/XiKiDoPBE7xRht3YGjTZnVzVxlcTLBpvKab9SGGYBgw0ib1NtF/sW/VtYIm9yvSH7lQWYDaUQDNUdZG+YfKOFVFg8NETvwkovWmAwzb5xbxkLJNVXbYBgYiJ1sihmdZd8Q8jCh/V9zmmI3glCVzUtd46F5czRU2Q8J1FGIK56RJTG5BfM57jLrXyVP02orjJh048OSG/wfqHk8LytBYe6u9FJYl2dnVbYJrzMu/xcmfudrrcv4YreJVxHkl7kLbO1Fx6PDW0HzV7xss8+OQ2UrsJ86oJ/4fFikUiz+YTo3Cra8YQn8gYs/vaDZNpJnBwih1ZjVnTvA/JuInGVcPlGCajweAQXvQsvvSiBQdlISElXDZvYcY46L+bNn818lolbWqKc16TrsJh2z36u9Jpqi96xpb22ESveO04nFXwdqXIy/IMTiDUCcdkQmbwQ03DXD/43Sts24fUhF2YnMbUVZWP7+7B1wwaUl5cjL+85DOjEC6ZiwbQ+wxS9Q5IB/9xgwo6i5UhMzEDh9jbU1m7w6mQYC5ZhqPlH2HxDHVrqSoGBaeVq5iKHJfIGpKz8Pin17KNhqAwkZ+WQxk45frx+CTWCv8BZsibNPYi9DxehoqkL9YSjxaITIGHx0BC9Cyu9masOWlfufOFx7KJy3nIPlXPKV0Rvsse7qBFO20jHEdGzKptBFlr0zoY9t2UgY0EONpP6rvkf7vXOLRIT4/9xAjFEgDdEvIV5FolZK7G1hgTZ/vnXGIG6IUI/G4ZanLBYYKE/QXgNK5W5aN7zIWr7qr7qepdZP13RO8/IISwqbkZNex+cznF0UGNj0/JK9NObYSLxbGvZifuLOtBCjZNFYHNsLiGwXyp6oU1X5I00RfZvwib6UeoYtsM53oNq4x7c/+wx0cRw+EYXm+nyCCV6N930oosGy01/4xbkbW5D02ANssX56gvxdAc1RctySQTyGizI3yxnOnEKonfpeLLbDad9GA2VBhSue0UXvYfRVyo8R3ogEJcNEaWnNLCA3NTLYfh+FYx7irH9eepHv94/htKh6n9U/uYZgJm6ZGNivUyYoneu8+zNz4R78pYgKSkdq+5jQzAtGGO9R7Pop3ffHlKvfRNrqRH3+UV6+8/TR3dzKJE36uJAd/N+7N3bDBJW9W5ffHYWhuqNWDU/BUnp2fjO4yZYt/8OtpB8vUlE5U4oHtMVvQuVXlRCCMjUSOtzWFq8C/UWO0yq1WCZq56A4B7H8PA43M4eapbSJj6AQoveJZBYXlLKfKz/wd8D1gP4UCVUHHB5/pUT0DWB+GqIMKGxkSEMn/8jcOEsCWuNSD+S6iJMWYOqaiPaqFHh1ylCXwMbMN27t+CFQ71weMgVes8psds1bTYTtNL7Fp7oXcJs9p7fjM732coQD6yHD9LnYlyXAHzDWCBCyftmBjwk9/6jzSRv/sgtuuhuDiXyxmw9sbMEZWU7QaN63o2NOFi3vQYrm1DkGsLhN6mPvZw1vkLx9SYRlTuheExX9C5UelEJQZUpW+duLCjYBlNtO+6edxFDJNo3Ira+aTim+xisdDtkZXnwdtXDpKZbgQcMrDs1uOidq78V+w91Y8zhgMs2hP0/K6P4hZA9C6iuzHc5gRghEGWTZ69oduxdkwuNSatmTIIyuZ0JThmZWJVJWjXTU2eiWevSvjqDox3+6RmrmsRVNuo4ut0PS/TOKbTXlIorYuj2ED+rzT0yArdfmKFSX6y0RN6Cit7ZewSa/6ziUS60DMpraDT5Rn+t0eIxXdE7Zq1WetFOo6uGng9yfVc+pdVRtECsqUIVViqYlfKnJ0WdUVU3yuuEYbdkqbOnXnUOi2MSGizSar5oZ8HzxwmEQ4BrzdCT4/I28kPicNH7TQJSUmJiYEaFIzzRO4+LeFAvEfUrI4l6Q9SbJPKViPT0SSbZqCNG435YIm/UGUKrH5zuRKSSzf44wuMbNWjC4qEhehdWelFDI2hGFNG75HT16hopenDRO+m54qRJVBPrTdBL8QBOQJcEeENEl8XGM80JcAKcACfACcQGgfiaIxIbZcat4AQ4AU6AE+AEYoYAb4jETFFyQzgBToAT4AQ4Af0R8B+y1l/+p5XjyIveJasE78h/0bxsrMlfifQYoRqWKBsXvfPWybHuQzjYOy77l5mFWf9/e+8DHWV173t/XStgogmSKJQLbSjC4YbVDp4D0ku0xJEUjmk9k/on2prYmttzg9S1anjPfaHxKHet+N7S8Z4Wx9Uai54GK+EUk1aTUzoc7UQI0uGKSa8z9k2kSdMMJNDETtCZ15kys9Z+f8+/+Zf5kwwhmWfm96yVPP/3s3/fvfcz+9l/fp+FEizRiLs2LKdrkgHgQkFk8MYMIXXBCXS/+iYuahYtJD0uAzerkMjEADjthsxdJ4feafEm+w8fhbeMYJly+vsxdPo43uw5A9ela7Gh6j58dctqeQyR9p7SHBMtJK0uXy7EF++9CxEzg7WAec0K6F6BnGoRmXXonfcD7K2pRe2RE3j/jBXVlRtRsuAJDERM4dRrDkkPysbQu8j0/vi8A69ZFVDimROvoIbyivlt5ac4MQAuMoRM3U4HUvcx3icw5AkZHHkGJ35cgxqCRDoIOolkALhMlSAiXomhd+GLBg4+gMraeuxX0x/eM1hTXgXrBXIHXzCEmoo1eOzwgHyD/J56TdXqzAkZ0llb+x8IZMkHTlgV3mIFVAXSmWqj93tmDXqnQq1aHOqUzPEeYaBpfGa73qfapQllU6FeDL2LU0JUbdpHpDmaSQBwcW7NuEOzAKkbtUrTWpvFOBmnTKs3CYc6fVU5pwISM874qRFKCL3TLh21yu8FeuUKk0UFPQY8wu1RDabrZMimCojUblPWAdFGU8CNEkSPF1YgSxXIqRYRrfZ5daB3FHrR9YozVnJkpeslXSgbQ+8SJruzYx+cBgsqS6XP2sQAuIQBZNCJK4fUTeBQ1bMwtdWQazdtSQ6A067KxHVC6J0cWXJtf1cVKq0KT2hYMyCvEMWF4SaOSxPkZNG4cIrTxKDr16glP3h7TOu0O3nNCmSdAjlZEYmfiulB7yRfos//9AC6Og5ixxc24ji5OK9YWxz/EXo5mi6UjaF3CVLYhX+r70LD//NVKDkjCQAuQQgZdfgKIXX+gaPYAwP+e1WZbFZqAFxGWZ80MlHQO7rS1fUUdjot2HfXelw+P4UaIYflHziMir1OWH7wYAgQqT3k3Z8/SRWUVnxxebjSop3jNSuQLQpwRSSUkulD72788Pd469R7uLGuDY7RI9isQ19dIRnUDamCxdC7SFXSh7J5+14n8i7BFLeWqgGmAsBFPjdTt9PX47c/I5fldXuxSa2v56++FzazCbXriggOV4RqG3Vw0kJjWXW1TIHeBQfwz9XPotn2VeT5R3COGj3+8tElQkJEmEW4g6p1tahrdeA7G2I+YOj+1j2EQnhq+5QKSkQIvMkK6F6BnKxmxzJjtFSUoHcbJOhdUQX22unojbdrp+S1BL2L9Z0qMWQf3G3Bo4bYM1G36mtHhbLtoSZh6+ijZPMAbMTeMUjQGHmRIG+/hMNdiO11Jmgfa1HQO7pUgd49KfN8rg9B7wZl6F2fnqF3A78mFRbJDJ1keijnguj+CVFXGzpxq1ZB9Z7FkePAt1u+jCWS69kND6DVWIvXTg/j0TLlR1i5NzP/T4HUxeghQe9e7+zF5ZL1uNe0IbrM+Ptg2UejQ3ruiDiuAuD+2xg8WIq84ZdQsvEUFmvZLTNliIpVXOhd8BOZMb23ciX2alc7K3HbtXY4dm8GJk/j4RWVWGSx45VHpqb7hL2d2DR1cNwmzbLihRXIXgVyq0VklqF3Wra4HEjK5dUu09E6FZQtPuSNoXfR0Ds5wSftePIAYNmxJezePf8G/C2dPNL1GxntPkk/5D88Dtxe9mld5JFUkLq40DvVMtcbrxAWsQEPlYdHhyQDwOlBkITQu/wN+EUggAD9CTEOM9U1jFTpkCshXid2lZTjkMEM89dXY4xAea6xyQhzvXjzX6j60lSPbPrGiTCQN1mBsAJZOgg3rlmzDb0TPocw0Uh4S6/eZ8nEkSsplI2AXTLMrS4MCpSDYOhdCJyoSjrY1kCzQ5rESIzE471toZkUVBqFsalNnkESc1nG7iaD1CWC3mlwQA0IFzYuMQAufE3mbiWD3oVj7RPtdZTO6qwZn6OV8kUE9E7aNlhoPpW6EHiT6i2irV+dkacd5zUrkIUKMGsmXCfjrSkKpAdlY+jdFCETHEgCgEtwR0YdnmVIXWIAXEZZzZFhBViBWVaAKyKzLCgHxwqwAqwAK8AKsALTVyC3xohMXxe+khVgBVgBVoAVYAXmQAGuiMyByPwIVoAVYAVYAVaAFYivgI4myMU3YCZHNZjUwkLF9ell72XcvP1e3FrwJ/za+j6K/8td2LJamWM54ezGidEluH3FBP6j9yIBy0B/0n2XCUBFq8IydWriZAT4biHKVIjXTOKVqdfOFHqn6RsP1rXcN4DXrX0h3xCEf8P2B8JTfzNVg3C8Zgh5U2+cGOjGv7X/BsO+xbjT9DV8eXOpOnsmx6B3sh7JbfaOOdH922GsumM7DEv0OR1+6GQH/vfkzVOnLSMWekeCJAFESnINdR/Gv/77+yj4T6XY9rU6bC7V5n/LYvI/ViBrFMipFpF0oHcfjr4Lm00Cl1kJWkagrh9LMCorrKf/CNkvkf/PON6pHKsliNdvXNkxlTcd6F0yWJd/+A2CnNXCKkPPTsBmfQ8S70wfSzqQN4nldhhL11XiDNZiU+kFVJevxL7uMdnk3IPeAYlt9uPY03eiaMV6VNdUw3pOn2UoONaFNRU1qH3ybcRaMAV6hySASMohfS9UY01lLXxUCbn2whHse/19fRQVjiUrkI4CWTgTKKVJM4XeKQEGRIuBpupqgLspT1HOm7NiKm+a0LsoTaJhXfLUaUNL1BW62UkT8qaBzLQJmNL0TWXqai5C75LZ7BbtzWZhHxkUFipj+ixDZJ8Roq7RJGBsEZ7IzB0PepcEECnonJGm7oZgmpFh8TYrkIUK5FSLiFZRmzn0TrrTL3cr+BM6L1POa8/Q9Tpd6F2E0VNgXRKfxLkTO3bswI5dz6B7INJ5U8SNGbiZLuRt1RfuIWvO4IxrEv4JJ/oOAeU3S468chF6l8zmYtz/1G7qeviU1quXgbkgeZSGOr6Dxxe1wbyjCjge6Zw+EfTuetxCQVq7BxAMTuL4UWsIeuc9+w6OoxHLh4lfVf0wdj3TARd5feaFFchWBXKyIhI/MZNB7+LfkbVH04XeRQgyBda1YBEaGsy4Y9sd+PSHe1C5rgSHB7wRd2TwZpqQt8IN/xUtOISKlSUoWLqeeDMN+Of7V5OhuQi9m57NkT/hGZwjoqM2eRL31ByC9aWHsDw0Ckq5JCH0LhkgUs5vz6L6yQ+w7VvVVFupwcqqF6Cfqnu0PLzHCqRSgCsiIYWSQe9CFyXdkIayZsuSDvQuZHscWFdh2UP4yU9246H7H8JTr7hBTfD4ftfZ0C2ZvzFzyNvA4Z3YSZUP+6gHPnc/zMYDuPvpk2RqLkLvssHmeLk0iK7vVsDZ2In/UuQnN+0f0UUf4c+TXmrpSAy9C44dw8qaLlh6BuHzuWFvrcPOdU0YCo2bMtDYtP2433Q//tdLbdTKcgQf6KTeHk8lPsYKJFMgJysiyaB3Bgl6d6AGe39I7eg3JpMu5lxwGFYCw+lzrH+MLSr07rgEvWuToHeDMvRucRT07jAOHuzCWOjFGQ5Dg3V9PSGsqwg3rZKu18f37xTI2ycfUtxjoXdT9fjkw/MwmHdg8/JC5BeX4b5vmuDc+ztMatC7b0jQu3wsl6F3pDVB7/SwpNJDgt51HDyIw1191KGpLtO0WanMJyqhWmCZtPZjTKpPP1uNkoICrKyU8HZ7sabkNrx7KQy9W1CwBnvp/eDcS9C7H55GFCAyv1gFRNpkQGTeAuktciMWFyl25i1apmzwf1YgSxXIrYrIFULvYvNA3wu78NyxAcJ6kyv0/g8I5kU/T9cVxF6mw/30oHeKofFhXa6Tx3ByYAxeP3019r1KrSHA3beW6kKbVJA3Cdr2zv5a1NdHQ+/kYTF7XoFzkmprfhfefI2MbvgsinIRepfCZv/kBMbGztMkV+DC+WFMjE2EKzEZnUsK8eibCtguIATcvWaKrRnjwoHNNyWG3iUDROav2ULtaMex/+d9lLOC6DvaSmGuxeKs+MrJ6MTkyM2XAlk4ADehSelC75QAPfKsmcgR/eN2SxS4ytjcGT1aPmFMdHAiLegd2ZUA1uVorYvSytTcLsbpza2XJRnkTYO5ATEQQE+/aJbhgBrcrEHYRpQ5NLkIvUtmc6/FGJU/aOSmsEdNPdFHTvE46J1A8LqpUY+G3gmRDBAphLs3GorXYh/VhwAcS1YgDQWYNXPFNcAg/F4/fbfkobAw2z5Z0oPeJZI06PfC4wtgQUERCvN16EsvTcibAnNbgKLiQtWZmaZQLkLvdG6zlnSztE4GiKQXC6TGtIJ86trTYXGZJYk4mBxQgCsiOZDIbCIrwAqwAqwAK5CpCuTWGJFMTQWOFyvACrACrAArkKMKcEUkRxOezWYFWAFWgBVgBTJBAa6IZEIqcBxYAVaAFWAFWIEcVSCnhkBpdNjZo++uwpkOK86p7jAKl5VhS8UGFGeJqrNJ3y2VxvEGJ3DsUCt6zl7CsrUV+HrdXViiG61mn757uuMQuk59gIJVd+Jb39YTiVh6W6ajRyL6rh9Dp4/jzZ4zcF26Fhuq7sNXt6yOGdirjzf0VPquF4nSOTg5gFdfbMeZCz7c8vffwCN3lalGZo8e+kg1juV8K5BTLSKzTt/1foC9NbWoPXIC75+xorpyI0oWPIGBkBen+U7e9J8/2/RdEG306Q1LUVV/CstKl+HMy69hSDc6zTZ9N4juJ25Dec0RLNt0C9wvVWPFNj258E5Pj4T0Xe8ZrCmvgvUCsKxgCDUVa/DY4YH0M+883TmVvpsknf0DeKxkHWrJydmmWwpQX7UOOzSbs0SPeUoGfqweFUhjyq/ub5k1+q6vN5qSOd4jyHO5MNvdOtdo9um7o7Ym8hPRIAb1qMxs03fVfGPuVb1NqCTWtkGN05vhIqWlRxL6bsAj3J6wUxmNWqyvUhSHvpsknRWfRibhUM0etTZS+WgSsreQrNAjw/MwRy+jFMipFhGtonh16LsUetH1ild4vUNnrgJ99+L7dqqH/B1+99wTqK7egee6nOR7RR/LrNN3VcMXaZ7M86+H5PH+/Ec+XQiSnh5J6Lt5hSguDPfRXZr4S4hEqwtBKJJx6bsp0/lWLFPNLvmsxOK1wyXxZLJAD72kG8czMxTIyYpIfOnTo+9KcLjnf3oAXR2E7P7CRnLMbELF2uL4j9DL0atA371uESl1YCd+/NHnsfPh1Xi8ej0e6xjShyKzTd8tvAl/S5af6lWgf2P2t2Q8gG7c4aWlx/Tou/6Bw6ggKIvlBw+iUB+5A0hE302Sznk33ETW7cWbMoHaizd+Uk/7ixD7DaNLPfSSbhzPjFGAKyKhpEifvnvjh7/HW6few411bXCMHsFm3bxBQ8ZP2Zht+m5AGg9isODfn3oId92/G9T8jgPNR2nIo16W2aTvluIJewsO1W/ENddcgxUVj6siaE0ketBkpnpMg7471o2qdbWoa3XgOxv0UplPQt9F4nTOX30vbGYTatcVUR4oQrWNOnVpicJA6lIPPeRdjmOmKZCTFZFEr3vpx3Km9N2PKUUf3G3B/v378b3dD8GwXDfftYnz4lWh75JSTj8C6lMX5EtVHYT21cMZuUpFmyWiHfq6ZkDfJSuXbH4UIuDG6KgbAV8/Qc5oSZQxM0yVVHqkRd+dPI2HV1RikcWOVx5RfpQzzOwE0UlC36VaduJ0zsfW3Z3wuUcx7g7AffDbFP4iLNZ6qHSrRwKZ+DArkESB3KqIzDJ9V9P1ckAffftafFOvZ5++u+r2e+ixVvzvIXo7E4n2DYlEe/fnoYfv3lmn75ISY30n4RwDli4N4tfND+AAGvFVgz6a0lLp4R9+CzX19ah98m2ESkYy+q7XiV0l5ThkMMP89dUYc7ngGptMnU0z4ook9F1KzsTpHITL6YR7QQkKfO/iuxt3wtDcgDLpO0bXemREonAk9KZARg2dvcqRmW36rvA5hIlmyVh69TW+f1oyzzJ9dwpt1NAkHFMRpdOK2nxcNNv03ZFOaZaERuWtE1aVyjsftqXzzGR6eBwqOdbUEkWhTUTf9WnXh/QgXYhgq8dSFUvfTZzOHtFq1NKf1g2tYlSdQZNNeqSTt/ie3FOAoXd6qznOaXxnl74rRT0xiXZODUvvYbNM39VoxAXFxdBlh15aeuQefTdZOivloQDFxbrMAemVI76LFYhRgCsiMYLwLivACrACrAArwArMnQK5NUZk7nTlJ7ECrAArwAqwAqzANBTgisg0ROJLWAFWgBVgBVgBVuDqKKBNFrs6oWdYqImgd5vVKbeTAyfxSrsVF7EYa28px/btWyCdko5b+85FWHMZhTdvh2nzcjo2iZMh8N1ClBnvxoZsmMJLljH0LiLJ04G8eYfQ1fUmBoZcuHRtKUz3PYjNq8PzhGaqb2Rs5n87HeidFusJdB8mHzJlVIY2SGWIYHjHjuFtRz8uXgI+/6Ua3Lu1TJ/jZjQTI9f+CZw+bsf5hatw91aDalcqm69E38iH8zYrkPkK5FSLSCLonZRM3r4XULKuAjbfYpTe8Fe8XF2Bf/0/yhTC4Tf2ora2FtYTJ3BC+rO+hvfOSx5EaPH/Gcc7rXTcStfU4Deu0IRF5bxO/zP0LjLh0oO8ec8eRXXtKeCGZShwPo/yNSXocCl+v9PRNzJG87udnh5anAcOPoDK2nrsf/uicsh/FvurajD81xuwbLEbtZXr8OALRIPLgsXV/QyuKViK8qpq1DS+FZ7OnNTmK9M3C2RjE3JNgdybKCRELPRO0qDXYhBo6omQIyA0DJcM4TK2RpyLtxkQLQYC3mXFVF6G3kWlcFqQt6gQaMcn5w9Ta7+83WaCMJjt8kX9rXXyVN7sht6peoxaZTAkvWeFydKrHoxe9Zr1O3032hJ617SbRWtPv+ixGGlKcvR05shro2yelfwWGTpvswKZrUBOtYholcz40LsbgX2/xMmhCRXGlodwvxV5AT1uw7G+Ppw+fZr+nJicQmzzR7tn1h6mxzVD76JSLT3ImxYETYGemMBQ369whD7yby/7FDAL+mqhz8c6fT3IzftdVai09qKtDhiOibw0lXVyzIm3qREJlZ9FUcx5Pe6WEc7gkS1lWBwLkVGNiWdz+vrqUSGOMysA5GRFJF7Cr//6PjQankXFmqVYQPyPh5/uwJjER5EXyR35Iex+5BE0NDSgvPwZDIfOqZdk04qhd9GpmRbkTQnC63wJJUuXYs3GGhyHGf9tM40RmQV9oyM4x3tp6uHqego7nRbsu2s9Lp+HQqoORX0SB24rQcmK9XicnO5a/+8vR3wIhC7Kso0ENqepb5aJw+bkkAJcEVETO2/JZux3BDA+MoieTgvO763BXc+dVs/SW9PQgnccDjjoT4hXsCGON+4EHz26zE5S1evlJ+9BPVqwz0Q/HO8Bn1u9bHq2BAfQuseJpqe2hwiquQi9k8QqNPwjAgFiiYz0EE9mDx45OCBreEX6Ti8VrvJVM4TeUZ745+pn0Wz7KvL8Izj3F+AvH12CN9SyWIxv9wXg84yivcmAqrte0hEQMV2pk9k8Q33TjQLfxwpkgAI5WRFJzBbLw5LS1dhi+g5+YCZG26F3aE5MeEk6DDU4DCs1vWeFf0SG3oUTnbZSQd6oiSMu9E4JhLr48vJQXLoFO8wGDI/TtJCU+kY9PuN2UukRF3oX/ATS8O69lSuxoGAN9lJZce6txG0/1Cr7pDPplF+4HPd/6/+ik0fwvn7QzGmnUTybU+mb9sP4RlYgQxXIrYpIEuid8/AzOHhyAJNeP/yTQ2o/9dooKFtsBabvhV147tgAfdXROID+D0Atylh0XUGGJvVMosXQu0i1UkHeaNAH3tlfi/r6/XBFdNm5urvQ7XTB6/djYqgb+6mV6MZF11PQqfSNfHrmbafSIz70bgN+QS1DUuuQEOOgOhmMRNp17N4MP2lz+FgfJrxeKnsuHP5RPRldhdVxWh0zT40UMZLeORNjGJ2QrpvA8NgEJimPJLM5lb4pnsinWQH9KZDZY2lnN3aJoHfSUwY7myIgZNKo/UbRo1Ko+ltNcUe8j9stUfcYmzujIF+zG/s5Do2hd1GCJ4O8CUr1VpoFA9SJ3giQX39bQ1T+MNRZxKBPDTapvlGPzsidZHokgt6FDfGJ9joIozprxtffFqUTYBLtDj0i78IWalsyBC8S5kfbZrtbpLI5mb5a2LxmBbJFAWbNRNUdg/D7gwhSC0dh4XQ/x+geakUJ0tC6wsKs6JiJUIShdxFiUMOHn1o3KKUpb0w7pdV7qOMhTv6YfX2j4nu1d9LRI2GclHLkCwBFxYU5MFBVEiKFzbOqb0Lh+QQrMO8KcEVk3pOAI8AKsAKsACvACuSuArk1RiR305ktZwVYAVaAFWAFMlIBrohkZLJwpFgBVoAVYAVYgdxQIOw8NAfsnX3oXUEE8I5mZS4rw5aKDSjOElVnCmXT9IXqUGXhwoW4fLkQX7z3Liz3DeB1a1/I+yxhA7H9AROW60arNCBkSaB3E85uvOm8GC51hWW417Rh+mNPwnfO01YaeoRiGgu9oxOkVcehwzj1gQ+rNlXh6w9swRLd5I2QYfE34kDvkpWV0vwgnMdeh9N9WQmPVjdvvxcanDP+Q/goK6BfBXKqRWTWoXfeD7C3pha1R07g/TNWVFduRMmCJzAQMYVTr1kjHSibrO9rEgCQwIBnTqC5poZAgP+BAP2g+IffQE0EONBmfQ8fh5xZZbpK6UHIkkHvzr31NGnzoqIVAROtp/9IQxf1sqSnh2bdFOgdXHiiaA1qjrix6fZS2GorsLS+g7yz6H9JBL1LVlYkvzRv7aay86JSlqxUps7rp7DoP9HYgrlXIFum/8zEjlmD3vl6hZGm47U41DmZ4z0y0EuanqfvZfahd/LUaYJ+6XKZFQhZJPROgiwahcEiAfB0uFyJHvGgdx67XG561KnPvl4zTee1CL2XIillpwe9CwgJgmhscaiZwSMsBNBsGdRh3uAoswJpKJBTLSJaNe/qQO8o9KLrFX6G3n29zwKULej6NWrJw9se0zpFdomf4dyJHTt2YMeuZ9A9EOmzVkuZzFxfGYQsDvSOzFywcBGcjyt6PPFcR5QjtMxUIRyr9PVIAL3Lux63UPDW7gGaOj+J40et5O1sIWIdCIZjoJ+tVNA7yZIpZYWOLSQG5841d1J52YUXupw6ai3TT9pwTDNHgZysiMSTP13oncQMef6nB9DVcRA7vrARx2FCxVoCm+l5mQUo27s/f5J+TFrxRW0QyIJFBAw0445td+DTH+5B5boSHB7QiQ/vK4CQxYXeUd5YsOhWNJq/iW13fA6/f7wGKwuexphe8kyaeiSE3uUb8D/bTdhXvQ4LFpSgau9xtLQ8EuIU6UWWdOM5paxQQDeVN8LS9hjKV3+CndXrcd8LfekGz/exApmvQBqtKLq/RW4WN/fGsSMgCHonCHond7kYzHb5GkeLUfasqjnFDN1IXTMm6pox1jWIxsZG0WRuE47RKVeFLtfNhke1y2QQMLYInwiIVmoqbuoZn54JgX7RQLo02UYTXO+Wm54NcdMgwS3zeNjjaAl5/mxoHxGBkXbaNwp7hBfVxNELCHJrLgh6J2tiao3THTNuk7smLI5pBZj4UXN0Ji09KE/UUZ5otpF+kldZyk+GZpvwBIQIUHcNvSmFpWdQ+HxuYW+to/1GMUjnsmXR3iFTUjhlWSGvz22SHmYxzdKXLZKxHTmkQLaMS59RjS9xk68CvVtSKkHvHsdGCXpHLAxtkaB3sR41JZDXg7steNQQe0a7S4drFcq2h7pWrKOPks0DsBGkzHC9ll0kyNsv4XDTzJe6qTNfJuztOIA6OG5bnsD4Ity0SjqlzgpIcFWmHJ4CIRv4NUVtEUJyyNC7RHpI0DuEoHePSNC72KV4CWQ5yKuoHpZUekjQu9c7e3G5ZH14JlAE9G6vZqSToHfX2vHbL52lIyZsL1+NfNJq81dqaP9JTNBo1azgzWj2xlmnLivAp8oIzIMheXB31swkiqMFH8pdBXKra2aWoXdatrkcSMrl1S7T0ToVlC0+5E0x0Is3/4V+aprqEVk3c508hpMDYzIAztX3Kr5PlZy7by3VhSapIWTx9UgMvaPpqx3dGJqYJDwAbb/0DAETjfji2uliBeZXtlR6zBR6l3ed1MHZhdPvSp1TNHX1zaO0XhVR0Ztfe6/o6Qmgd0qY8cuK33USHd1OGcDpnXDi+X/aQxijbVipfQdcUYT4ZlYgAxXIodYfMdvQO+FzyF0zlt5sGN8fkxOSQtniQ97kENRuhrb+6C4qh9zcLoHhlD9Tc7sY11HTe3IIWXw9EkLvKN9I3RSaFtTWJCw2fU2RSKbHTKF3gjr/eixS90NYE7M1ThdWTBbVw24i6F2ysuLrb43SAsYmYc+GLl89JBjHcV4UYNZMVOUwHehdVABZtjO7ULag3wsPUc0WFBShUGqD19uSDoQsCfTOT9h7yXdIXj5B9HQoR1oQwCRpHvQTPJKAk9CrHklsm/Ep0sHr9yAQWIBiggDywgpkswJcEcnm1GXbWAFWgBVgBViBDFcgt8aIZHhicPRYAVaAFWAFWIFcU4ArIrmW4mwvK8AKsAKsACuQQQpwRSSDEoOjwgqwAqwAK8AK5JoCehwil3YaacTLhYUL5TAuey9HUS0nB07ilXYrLmIx1t5Sju3bt6DgD93o7L0IAsnSn3TfZSLK0ipES52MIPAuRJnxbmxYnh0+RZi+G5nVZk6bDXrHYO9+A/b3zuKv167FV752PzaU0sDDIE3ZffVNymfqQvlqIeWpm3WVd2auh6uvG93vvIuzrktYvLYCdV8jKrNaVIKTA3j1xXacueDDLX//DTxyV5mmjq7Xk64+2LrfRv/Zi7jh818iqvDWKVRh/1gffvnGAMqIsKu9O7JVD10nJkf+qimQUy0i6dB3PaPvwmYjmiwRUmuIJlvzY4mIGUFL9f8ZxzuVY7W1NfiNKzt8ijB9N7LMpUebdTy/AhXVL+PStcvgc9Zj48rb0D0hzZP5GO9THpIpxSfO4MSPKV9R3nHohrCajh6TeP2fKvHy7/6KZaWL4ayvwgrNrb1/AI+VrEMtOc3bdEsB6qvWYcfhgcgE0On2JF5cuRE1rw3j2mWLiSpciaXbnsNElDUTeG7FRtTW1+Lti+q7I2v1iDKcd1iBsALzMml4nh86U/quEt2AaCG31BaNtDvFBuW8OSt8ijB9Nyp506TNBjxu8pChLW5hpvxjChFWteNCjFobyW9Es35ceKepR9hi2hqX3LobZDf5in8fk3CofmUUPZpEIkBAVDgZvUOu/ccjfAzJaADFZi3asq8Zg1H2G6L5I8pePTSrec0KRCuQUy0iWvVr5vRd6U6/7JDcn9CLqnJee4au10zfjUq+dGmzeYXFEUgADy7QF/+y5ddFhQ36Pj5U9SxMbTVYEnMmU3fT1UO2h/yqTE5O4OTR/6DdWyK8p96KZWpHcclnJRavHS6dMBETp1MeipeEAZjejz6kSwmrqy0T3VhXexY9v/oBARFil2zUI9ZG3mcFFAVysiISL/GT03fj3ZHFx5i+G524adJmIwM5/dw38SwasGv76sjD8A8cxR4Y8N+rdDQm4gr06Hu+CiUlS1FRL1W+/lnGAOTdcBNpshdvyjRmL974ST3tL4IykitKLh3vuLB//U5CHzyFW2X/ZH4c/MdK0uAlbCm9jjrrpEWhYOWGHjpOSo767CsQ3UCSG3szpe8qqnhkYmzirheP3HWT+LyOtGX6blRipUWbjQhhsF3qeoHoHAl31GinbU3k1ryuPaILRzuTuesr0oNIxIGAT/RbLYomo1J/jE/YzCZ5X9IJBqI+wzRNunHm6hSOmVu0miS7LKHuplFbE9lYJ3rHfcIzYpXpy83k5l/pncp2PcLK8BYrICmQky0iqei7W0wSfRdwSvTd6db9gsOwUtO7Oglgundl5nUqffe4RN9tk+i7gzJ9d3EINyvRdw/j4MEujEljL2MWjSj69Wyl734iNbHH0nfj6zHW/QzW1DyLNocHptKY3OHvg2UfjQ5puENX+WYKfTdGD4m+23HwIA539VGHZsxCKOK8vHyU3bWdeLvAgMtD//OxdXcnfO5RjLsDcB/8Nh1bhMVZMafPi45dJajvasZI33ewXJXjL65ztHUIG5cWoGhlFejVgb2Va/DD09IbJ5v1UAXgFSsQqUBO1cd8bjE6OiKsTQZhaOoUI6Ojgj5I5MXRZhatPf3C7fEJn3tQWKQvmEZrhDxTW0R6WxqFheBcHvrKczva5S+61hjYW0QAutrsMUtfpY1i0BcQg53S15sx4guVWn+MpE/UMc08j2iTtGuyaQfk9UiPVfT0jwqPzydGetvkL8Amm16GI46IRvpSN5p76IvVLdoayD5qxQgz++Lr4ba3yHnC1NIjxsdHxcjIiBjVMhypMtIptZQ0iMFwQFGaZe5Ocj1CcElqAQgN1QyMis62TtE/SgN4fR7h6DTL2rQPSgUwIEYcDjFKZc8zahcNpLWhuSdzzZ92zAKix2yU7WxzjIhxeveMDO+KUI4AACS/SURBVNJafecE5NYhCsxtF0ay2WwfV0POVj2mLRxfmGMKIJfsDb0gqdBTZUz+M9uVV6XyYxs+DkOj6JGbjTWFpna9jNuV5mUtLGNzp/Bol+t9zfTdqBRMRpsVlOpy07vU1B6RAXotEd0Nan4zmO1quMo94f2ox2X8TjI94tJ3ff1yZU4rK9K6sdWuVuZIC2NE2WtoFVFFL+PVSBRBemdIlXI17bW19s4J3eXrlSnerf1a5slWPUIW8wYrEKUAQ+/o7RBe0qHv0j1eooYiD4WFMU3v4YB1usX03aiES4e+GxVAlu2koUeIwFxUjMKYrhe/dxK+QAHRZrOtHKWX7qxHerrxXfpTgCsi+kszjjErwAqwAqwAK5A1CuTkYNWsST02hBVgBVgBVoAV0LkCXBHReQJy9FkBVoAVYAVYAT0rENNLq2dTUsd99qF3q3Cmw4pzEgSPlsJlZdhSsQHFWaLqTKF3sgjeIXQcOoxTH/iwalMVQb62hCBfEwPd+Lf232DYtxh3mr6GL28upZE1ellmDnmTwGWvW/tkj7ySlZdRiO0PmLBcNtqL0x2H0HXqAxSsuhPf+rZ2PEv1mAbozzvmRPdvh7Hqju0wLMmecSJ+12kceLlLhml+/nYTHthapuT7hGUlCOex1+F0qy8WCYhIQLzNGiFQL1mE48kKTFOBnGoRmXXonfcD7K2pRe2RE3j/jBXVlRtRsuAJDExxnjDN1Migy9KB3gEuPFG0BjVH3Nh0eylBviqwtL5D9iXhHziMpesqcQZrsan0AqrLV2Jf91gGWZwsKulA3ggKMPwGwexqYT0hQRNPwGZ9DwrXLojuJ25Dec0RLNt0C9wvVWPFthem77MmWVTn5Fw6eiQD/flx7Ok7UbRiPaprqmE9lx3gSCkp/EMdKFhZjpfOF6D02gt4sfU4JM8pycqKhJN4a3cNal9UwIjW16w4rxsgomwc/2MFZqZA1ByaHNmZNegdTbsz0tS8Fg2EN94j+8eYMj1Pd7qmCb3z2GX7e9RZiL5eyVeE4kvC0WKUt1UXCqK9jnxFhKayZrhAaULe5Onihpapxqn5xqzN9VV1a5N9aky9POOOpKlHpB3RoD+3aG82C/sI+e8hMGBWeCeWjQ3I+RzxfKIkKSvSdHBJh5bBSMV4mxXIXgVyqkVEq6JdHegdhV50vYK00jskI13oXd71hDEjb6zdAwgGJ3H8qJV8ni2UCRqrvnAPnTmDM65J+Cec6DsElN+sD8xb2pA3icni3IkdO3Zgx65n0D2g+ulVvdEu0lz85l+PVaTO+Y/00RKQth5ko7LEgv6Kcf9Tu7G59FPZxZcJjuAU5fOGJefw3K6H8fCOp8N5IElZkTRaeCOwc82dlHd24YUuJ7kH4IUVyF4FcrIiEi8504XeLaLAnv/pAXR1HMSOL2zEcXJcXbE2TNyM96yMP5Yu9C7fgP/ZbsK+6nVYsKAEVXuPo6XlERoZQeNnNvxXtJBL64qVJShYuh77CAD3z/dHA+AyVpd0IW8LFqGhwYw7tt2BT3+4B5XrSnBYArsV3oS/JWNP9Z6VTR6zvwXypq8fN+/p6qEmcDLQnzoqQr1S5yv/R/gjmXBgZy38t9eg8sZuygN3oHuCqhVJyopk9U3ljbC0PYby1Z9gZ/V63PdCn87F4OizAkkUyN7GnsSWzRr0TvWIaKxrEI2NjaLJ3CYco1rnQ+LnZ/yZNKF3gVGr7EXS0jNIbrzdwt5aR/vkJp5cmPe3SdsNwj7qIRf6/cJMnjT14sb7iiBvocR2y83tBnOvfGRcdf9ORVPWTFpbtK6a0D2ZuXGleiQG/U3FKGSmAtOMlVqOGtq0PpZx0Uzp3GQbF8nKSmzog3LZMQvNAXzsed5nBfSuQE62iGgt4lPrZ3lYUroaM4HeSfjuB3dbsH//fnxv90MwZMPI9jShd/6L0he+CdvLVyM/vxibv1JD+zZM0ODdTz48D4N5B438L0R+cRnu+6YJzr2/08UAzVSQN2lwYTIIoJLPinCT1P+izqFZsvlRiIAbo6NuBHz91D5ES+KMKZ3NmCWVHkmhdylAf0qvpk6ESJUiVI5upWtu/IzUbiotRfiMETh38WMkKyvypRH/PlVmoL0hdaBzxAneZAWyRIHcqoj4JzE25sLoxb8Al87DNTYm/0hKaek8/AwOnhzAJLlr908O4e1TdLByLabTyXI5oI++/enn2SUor5JefpX4m5Ighrp+Rp0qxogupyDe2V+L+vr9cEXMEMq7TnrhduH0u2O0pimIbx6l9SpI0F55uMSeV+CcpGZpvwtvvkadEQ2fpVdz5i/5ZV8EQe9gvP1zFN9JvLp/JxHcH8a60AzT+Hq4Th7DyYExeP1+uPpexffJ5LtvLZUNHus7CSfJtHRpEL9ufgAH6AlfNUidWJm/pNLDP/wWaurrUfvk24gtGa43XqEc0oCHyqPHB/knJ6hsnscEmX/h/DAmxiamknszX5qYGC7B7U3Avn/5hUypnhz4FeqPA7dvWIFkZcXvOomObqf8LvLSeKrn/2kP5bdtWClP+455BO+yAtmggN6bdGYS/9mG3gmfQ4ZVWXpDjNGZRCezr00LeucTPRapCybc3WAmOrG8ePpFcxQArEHYRvTTjZUM8pYIeueQu6bCWpia28W4StpVyLvauTph1ZEWUnom0yMu9E7JBDIcMN5sKam7NDLfxCc7y4Ho65+U72kGjGabyWwVSq5PXFZ8/a2h6+X7jE3UpamfsqKvBOLYZoICzJqhkh5e0oHehe/Ovq30oHdBagEIBqUBedQNE/MVp4C8FqCouFBHzszUlL0SyFtBEQpjxNAAcAXFxfoZqBqZydPQI/L23NkOwkstraAcHwvGTFhWqPx4/R4EAgsIAqiPlrLcSU+2dLYV4IrIbCvK4bECrAArwAqwAqzAtBXIrTEi05aFL2QFWAFWgBVgBViBuVCAKyJzoTI/gxVgBVgBVoAVYAXiKsAVkbiy8EFWgBVgBVgBVoAVmAsFuCIyFyrzM1gBVoAVYAVYAVYgrgJcEYkrCx9kBVgBVoAVYAVYgblQgCsic6EyP4MVYAVYAVaAFWAF4irAFZG4svBBVoAVYAVYAVaAFZgLBbgiMhcq8zNYAVaAFWAFWAFWIK4CXBGJKwsfZAVYAVaAFWAFWIG5UIArInOhMj+DFWAFWAFWgBVgBeIqwBWRuLLwQVaAFWAFWAFWgBWYCwW4IjIXKvMzWAFWgBVgBVgBViCuAlwRiSsLH2QFWAFWgBVgBViBuVCAKyJzoTI/gxVgBVgBVoAVYAXiKsAVkbiy8EFWgBVgBVgBVoAVmAsFuCIyFyrzM1gBVoAVYAVYAVYgrgJ5cY/yQVaAFWAFkirgxcnDP4X1/Y+w9ks1eGRrWdKrEZxA96tv4qJ21cKFWHgZuNl4NzYsz0dwcgCvvtiOMxd8uOXvv4FH7koRnhbOHK2D3jHYu9+A/b2z+Ou1a/GVr92PDaWFEU8PwtXXg3f+CNz21a1Yrr5ZJ119sHW/jf6zF3HD57+Erz+wFUsi3rreMSe6fzuMVXdsh2FJfkR4yqZ/rA+/fGMAZdvvlXWacgEfYAWyQAFuEcmCRGQTWIG5VSCIY7uKUFFrw7JSoL5yHXZ0DKWIwsd4/4QVJ06coL8zOPHjGtTU1sDxcRDwD+CxknWodQKbbilAfRWFd3ggRXhze9rx/ApUVL+MS9cug89Zj40rb0P3BMWdluBYNx6+ZgFWbqxETc3TcPm1uE3ixZUbUfPaMK5dthi22kos3fYcJuTTfhx7+k4UrViP6ppqWM/5tJsi1hN4bsVG1NbX4u2L8c5HXMqbrICOFbhG0DKv8Q9OwtlzEqfeH8DHWIry7V/BlrIl4Sj5XTj289dx5hywetMXUfWlDSjWvijinaNifvI39AXxpS3yl0dwwonfDFyHL21ZDek2eZ9eeH+zZAJHre9i4c0VqLt/MwrTiEewvxsnJpbjq/Q1qETJj75jb2DBxi/T140WybApvMUKZIUCkyexvqQCe0cE7i+dxDPrS7AHzRh1PIXl0zRw7NgurKgqwbh4CgV9z6Foow2OQCcMVGyUcwUYFd+bdnjTfGzalwW9kwgWFkNps1BsPvVtBzofNcA/1IXmo4X4+uffxfpKK3o9b2GD3FgSxOSEB8VLipXnujpwzcpm2D0ObC6cRMfTL+LT37wP79y9Bv6DbuzeoF6nxnLg8A6s+/5ZwHkcll43vhNzPm1j+EZWIMMUmPcWEe+7L1LhfZKqD4uwyG9HxbqlOOj0KjJ5+/BwwUpUvTyMJVQ3OVK1Ef/LPpn8nH8IFVUVGFC/SvznrKiq+AU8qvD+i2+hqnI91qxvxMW/XsKRmn34HQWZTjyKFpxFTeUDeFeNEsaOY2NVNT7gjxdVbV5lowLe4d/BCSP+M7WGDB3+LvZQxR7Od+FSi21qmydwqOpZmNpqEP7kuBXL1Lp7yWdvoSDsMwgv9ROv9Iq8UCVECsmDC2TzsuXXycHmrzbhe9/ZSh83i2IekxeuhNAZ70cf0v8b1WuKcf9Tu7G59FNYGHOXvDvRjXW1Z9Hzqx+gLt55PsYKZJMCUotIJiw+j0f4fOOirQ7CYLbLUXK0mKi1xizcoQj6hMcXSH7O1yuMMAq7R7nJ47BQGBah7gqPo4X2TaJXOxAKW9mYWTzcwgyIuvZBNU5GAWOr8MWEybusQDYpoJShBtE7aBMGKmu2fpswRZS5VLb6+lupDBpEj1qwfYNttA/R1i8VSo/obETSMpoq/Kt93m6hco4G0R9T0BVdjAneLSOimWxEk00obzAtlh5hMUCYe8NvOUFvkFYThKlNeq/0k7YQlkQvLC0YXrMCOlZg3ltE/C6pf/UaFBQVoaCgEt8/BKxapHwjBC5/DIP5Swg3WOajMF/5bEp2Tqooxv3KkGuQNELOUIm1kePM6Hh68SjG1zobcKjmKLzUpvNvO4+j6amvqM238sP4HyuQpQocwMY1lShvfxkV17nRNQMrf/uzeqBuLzapBTt/9b2wmU2oXVeEa64pQrXNIIdGJTXjlqGOXSh//Dg6Rywomzq2NEF8J3GweiX2GiwY/d5WtRs3waV0eKy7GfVddfgf21bA6/oThunYR5f+DGVESuL7+AwroFcF5r0i8v/+vBGHGjpBHxcQwoFnGoDh0BvoL3BeGE+gbYJzQenm4xjXukcCoZFj4XCkpuSYJd14lG7dQY3Uj+P5gy9gHzWifqMi3Ngc8wjeZQWyQoG8BWoXhKkF37+f+mc+kbocFuF6tWslOOlEx8GDONzVhymlz98Hyz6gueGOiAp7PrbupneAexTj7gDcB78th7dYDS9TRBvrfgZrap5Fm8MDU+nUWkgouqENKeZedOwqoYpFM0b6vhN3zIvy0bQgZOZfXDQgDoewcWkBilZWUTcYsLdyDX54WusDDl3KG6xAVigw7xURWUXqapVq+5MDXTAfCPeifubvaoBnd6PDKY0zp+lxp4/h5JDyakt4rnA1ttLVr50YoP8T6Ni/BzBObR8J0NkpSxrxQOEGPNVkwJ76vTCaH0NZ1EtoyhP4ACugewXyy76IRrLCePvnUIRJvLp/J7VwPIx16m+zf/gt1NTXo/bJt6F9D2hGu954hVpPGvBQeWSFncq20wn3ghIU+N7FdzfuhKG5YQYtDlroV289efoFrKjcA1NLD7Yt+xgulwtjE+Fq1uTEBP40Kr2njuOPf3BhYlI6F8TJZ/4BVHehyss3UTDugmuIzqm3+ScnMDZ2nt5SwIXzw5gYm5ArboZHXkEgEKA/+jhz2+lDhzqo7ePYvTncNkyHeGEFskeB+e5W8vS305gOqU9Y+jOKOiP1jVp61Wj5RE9Lg3pOuaYt1DGb6FxA2CPuMVB4MLZEjBGhMSMR+5r96ceDenTlcSfUxz0Y02msBc5rViDLFHA72mh8iFZuG4R9PDzyweOQxoDQOVO43Cnme+SxD9oYsLAkdFwqp1p4Da1iNBxc+LJ53Oq1SOPVIuJI22E7lHEeUefld4xHtNBYj6jjdJ/ZrowH6ZXHmkSeD49tC5lKY96kMSKt8viZ0FHeYAWySoH5n75LpRRBP7z+IPIKCyOaa6UTyhL0e+GhJpMiOh/b4JDonN/rRTAvPKZECyvpOs14DBymr8FaA9xid8R4lqRP4pOsgP4VSFFeZmqgn6bI+gIFKC6e2u0x07D4elaAFdCPAplREdGPXtEx9Tuxo2A9qDcJzT2jeGrL8ujzvMcKsAKsACvACrACSRXgikhSeVKcDHox4DgL3LQKZaXcf5tCLT7NCrACrAArwApMUYArIlMk4QOsACvACrACrAArMFcKxA65mKvn8nN0oMDY6Q4cerMfWHIL6v/RFAXrShh97xA6Dh3GKXIvu2pTFUG+FFf7oONdXW9igGYNXLq2FKb7HsTm1XpqRZoh5I0EkkBur1v7cFkV6zIKsf0BE03hTA6AS6htRp2YuR5S9P2u0zjwchfB7xbj87eb8ICMRwjCeex1ON2qUrS6mSBvmwmGlykLQ+8yJSU4HtmoQGZM381GZXVu08Tp57CivAYXbrgBF45UY+l9L9BEzVSLC08UrUHNETc23V5KkK8KLK3vkKckes8eRXXtKeCGZShwPo/yNSXocOnFRVM6kDf60R1+g8ButbDKoLcTsFnfg8R4A1GVEgLgUkmcEefT1GOoAwUry/HS+QKUXnsBL7YeV9ELfry1uwa1LypQPOtrVpxXhMoIa6VIMPQuY5KCI5KNCszFHKBxR4+w2qyi1WIRVnuv6GwxC0t7r+LqOOAWDlunaLGYhdnSKnr6x6Oj5BsR1laLaG62iDZrr3CHpvUF6D6r6B8fF72drcJstojO3hHl3sC4sLW10D1m0Wp1xLhUjg4+tJcgHgF3v+hst4mI2YlitNcmbA41np4R0U72NFvaRG+/Q/T09E/veaEHZ+KGT7TRtENtemJ/a508BTHl9GSPXZ7S2aO6z/f1muk+S4SLfs1Wn2ght9am1n7tQGav3T2yXe1y9iK3/hR3cnQhRlPE2tNLU8UNLSmuEmLU2kg6NYuYnJ/yvnm7IC09AqKd8A00qjtOtJXpry0KKSHO+fk/FPC4I9ANSh4wtTjkiPkGO0WTxUbvIym/R7p4Dwj3eITr9pF2Om9Q8RNu0U7vJ/vIYBwX74q9/W3kusBgpHskF+8R4cy/HBwDVmBWFZiTFpFzbz1GoLndODtsQ1X5Rvyr6xIer9mI18k5WTqwOaVCSF9RjVVYt3QpNu6346+XzqD6kdfpq30SL9y3FJX09S2B8n5YtR7bnjmZsg6ZKB55RUB7TSVeCJPt8CPCfbcOS66axvB00UpqAbhA8K4z2LhuPSoq3ggB9lI+NFMvCP4JVvLZ/Y+mW8knXBfW1R+SY/rhRylaMPKuxy10pbV7AEGiGR8/apWdyYV9Rko00gkM9f0KR8hd5O1ln8pUBaLilTbkbQE50nPuxI4dO7Bj1zPoHojXphQPABf1+IzbSUuP4AhOUTZqWHIOz+16GA/veDpKj4XEgtu55k7Sahde6HJmnDtzht5lXDbkCGWTArNarUkQmOS4x2CRvn576cvSRBingGijr8pm1bGPdNvMYHPSHeQsyEhfWA3tEV8qFE4MUMtjl75STMIxTV9j8eJhNxvoOZ1yS0dABnQpXz0hyJUatuygiL6AE/D0pEjrY/FI4EByouQYlB1NNXb2yjBCU6vyBZjMiJH2aMdPLSEHdJRiquM3Kj+UJpEww2Qhzv+5dCFvnv420dBgFm3tbaJZag0guxWwW9im2PwaPpO5W2npQXlKcswlaWBu7xStTUbaNgib3NToEe1NjcLS1i5azYoDQ1OL5tQw83Rg6F3mpQnHSN8KEN/l6i9yRcQs/Yg5ZDKuw0eeFFXipG/EJurUF5T0YpK8NWovIeW+RC8kpSIS27yv0HYbxKDWhSM3I8fxWBhjdrJ4KHRQqQJFFkRUSrSmd63iIe9HkH5jHqGfXfVHw2iiChh5iPRRFUxKr6ae5J0HgVGr/ENj6RkkkrJb2OUuncZwWlA45LpauEd6RIOUzjrpmomsQDVQ/0xAbmJPnaeiE9wtN8EbzNH52dZEP8510ZXp6Psyby8tPdQ81SATZSWbxmUabZNtap4abJO6As0Z2VU12C51o0F0jkz9slF0ieya0dLOLXuUhcESpztvKn131NZEz6gTveNEGx+xyu/EZtug/CGkhchrViCbFJiTrhkquAmXdGFzUoCX/0LN++s/HR22DJG5iE/Uo0H3ORkaFX3R1L1k8chfvQ3NRMhoP3YSr+9xwly/Jezh1emioYfK4v7j76kuNTVs3R0p/AxuNxI1g7pnrG2PkrfbQdioK2WxRjWj4ad9XYdx8GAXxiJ6a/wXyacKTNhevhr5+cXY/JUa2reF2Bog1fLy8lBcugU7aKDF8PglXUiTCvJGw1Lj6hFtXJHkboYWbQ4NbcYFwEXflYl7qfSIC72jPEUdfbjxMyowjyg1nzEC5y5qpSds6afKpEI0pA7sDR+f7y2G3s13CvDzs1WBea+IyMKmA5sLpUg0vq5w1d9RXaALr/9miK7ww370CK23orQwdEPijQTxoPmrqGmtw96qCuwl3Nd9tyrTTpVn7cOPugbg9w7g5eYD9KadCthL/MBMPbME5VXSj0El/qYkiKGunxEL1IiKtdp02yDe2V+L+vr9cIW5X8i7TvqR6cLpd8doTVMy3zxK61UyldXV3YVuqrR5/X5MDHVjP1Xoblx0PZ3P/CUV5E2yNZ4erpMEaRwYk2129b2K71PF7u5biVarLvEBcNrZzF2n0iM+9G4Jbm8C9v3LL+TK6+TAr1B/nD4kNqygKb0n0dHtxKSXxoxNOPH8P+2hBoFtWJlBzgUYepe5+ZFjlgUKzEXzTn+riWZgxHTNGKmvmEaCpw+bo64ZtXsn1oZBqzQuROmPlkaxd04DGJU8HvQE6nagn2ZhNEeP+h+x0cwI9Vl1dUpXRlaMb/cNimZKI802s02dkSSLrcDL5OZjrV9KPk4gQosywyZ0n1Xq0BJCngEQShOakVNnEXpiBCaDvEnjlVpluBk1p0fo4VBnG2lamJrbI2ZfKfdoM5NkkXT0L5keCaF3nn7RTGU2pIfZKo/vUsbJhI/D2CTso1O7PuZTHobezaf6/OxsVyAzPKumgGclAtvRCy3xQl/e/iD1G+QTSG+6X1Yp4pH4YcoZ5wvVWH/kHnjeeoRcV2XDQrNcJj1YUFCEwmmLSO0DpH0wnvaqvlIXTWFh5jirmnZKpZE/5LzrC8xYw2nHaT4vTEMPqfXISy0fU/IA5Rev34NAYAFB77Kj9Mxn0vCzWQE9KZAZFRE9KRYVVy9eWF+EnTQuomHVMA7QtMNWhxuPGLQujKiLeYcVYAVYAVaAFWAFYhTgikiMIDPd9U+O4Q/DLkxcCmCloRyrl0y3+WWmT+LrWQFWgBVgBViB7FOAKyLZl6ZsESvACrACrAAroBsFrsLnuxeHH/4HfLz73/GoIXVfr3fgIG6jQfK/7UwwrsI/iTHPAixfkjqseKp7nQfxDz8qhPUn99M0VF5mosCsQu/owdK0zkMvvo5zf70Bxm82YEupnlJk5pC3ib5jODrghjKPaiEWLiTs3c1G3LVhOanhxemOQ+g69QEKVt2Jb32bYHhXoTTOJL1ndu0M9QimAP0lgiXOLFJX7WqG3l01aTlgVgBXYfpuPkqoi2L5ddN8q37yMZxdU30JaGkT/MOLWLH0pzI4TTs2k3Ueefk4fmAMvpncxNditqF38DtRX7Ie9eSP5Abfa6hY+QV0T0Q4IclozdODvH183oHXrCdwgqB3Z068gpqaWpjfvkiWBtH9xG0orzmCZZtugfulaqzYNh2oYKaIlI4eyUB/iWGJmWIxQ+8yJSU4HlmpQOy0oMC4Q3TGAcWN2K2iZ1CZmDrusAmLuZkgdW3CEUGDkwBx1k6rsPXYxWCYTqc8IgEcTvaEaiD4k71TmAkC1WZToXGBUWHr7BRtFsnls1G00nY7wedGNY+pFGqieJA7QhlEZ27pFD2dzQSOsqR2u87Qu4isMPvQu5FOKR2bFM+SsmfSsAfdiAdn5mZakLcYU1QgYPsIZWCf4kLfrM31Vc+lhArGBDlvu7OgRxTob9qwxHmzWDD0bv605ydnvwJTWkSCF0+huuoZjER9rE7i5+VV+OUffHB1PYGl6ysxnP8Z5A+/iPVLt+HkhFJHC7r/hJ63XkNlRTl+8YEnouKWDA5HDdfOPShvegv51w6htnIdnnd6pdl9cA+8h/d/L3nrXIRzAwPo6z8LnxqvxPEIP2vR5aOoqN47LSdjDL2LSK6rAL378E+UjnWbsZy6JJ77puRxlVyfWd+hvcxf0oK8xZjl7NgHp8GCylLK2GoeXqTRAPOvJ7dvwPmP9NFud+V6xID+UsISY8Sch12G3s2D6PzI3FFgSl3L55DhVFZCQIyTsy5zO7G5AxIjBsI2NqgwQlrswuPzEaiOnF7R8TrpmtASmOJoLMRgUH0URcLhFDZMneiXWzoIhkeOoTS8thRkoF9yGCbxTiKWQOJ4JHtWRAgJNxl6R9JcBeidlOZGYsvILSN1rcImOfvSCSBQyVMNonfQRk7tjMLWb6MyMhPWzIggp6KioXNEzXcjolEqN60Kd2a0R3GKpxfU+5XqEQ/0lwyWmLCwztMJht7Nk/D82KxVYEqLCPJX4R6qdZwZGsIJy+PYU/MLDA06cRxNKCv6CFIPd9fOchQVFKCgaA3ayd3odV6N7CJV4PyRNA3pABC4TAyWB7FWHZu49ov3UCsIHdMWwyZ8Wh5SkgdDpRHDH/9/2hn4ZQ/ul7WPSOW4P0k85GfdE/GsquhnhUKO3vC7uvHwNdeQTUUoKKjE9w+Rc/JFyjDDv73vu8CBfyXiCtD/i+8Ty3wX1ktjZ1PZFf0IXe1JztpffvIe1KMF+0zrcfk94HOrlyW1ITh2DCtrukDQOxD0DgS9w851TRiiFoAF1Kp13LYfd1fbYWt5BCtlQs9lRDvoTxr8PJ88gI1rKlHe/jIqrnOTI/vpL96+17EPRtRv1dy7l+IJewsO1W/ENZTnVlQ8rgamNZFMP+z5uzJ9PX77s3pqHduLTaq7nWT5Zv7si//koY5dKH/8ODpHLChT32fxr4w8OomD1Suxl1rERr+3NcypirwkYnusuxn1XXX4H9tWwOv6E4bp3EeX/hz9Doy4njdZAb0rMLUiQj5BNz5oQvuPf4RONKCh7hSe2f8iDI0V1KwO+efD4vBJ1F75z+EQ+MkjEpckvCg/3zEv1WRwOBrAqC3KD5MSgnYsHkhOGt4aPx7ktdH5UWhwqvs8MWeioxcKNnKDoXcRalwN6N1CqtocOkA/5K9hK1XiPvqYXq/lnyX0WeYvqSBvyaF3NDD1J1TRoMrrrRETv5ZsfhQi4MboqBsBXz+VNFpiikymKpNKj7jQO82YOKC/1LBE7eb5XTP0bn7156dnsQLx2nqUplfigbQ4xIhVwV43WaVmZY/cdYK6VjHiI6S7zyP6be3CNqgANgLUXROgQaYEVhXNPaO0LQHkaVEHtzV19lN3jsqbILy8dJfSNRMeTCo14Uei0j29EjeGmsXHPXSvGl6yeIRQ9KPUrzMqWiQGiPosKSqJll4zcWIaO+U4ufs75a4ooyWMbO8PcUMisPZJ7Er0HL0c75H0ANlK6TzYKWHJI7siiPNjlNggkcdoDGZ/Kx2DaLWT9pTyjjZpgKpJOKhfLXTO4aZkscn6Ntmk6/SwKF0pEmcoINyirYFsr2uPwLLH10O2TM0jsd0uo709wjFCWgTGRWeTorXWcZP5iiTXw9Or8pdokHgsd2mkU3qfNIjBiEHnobwRJ99kihZue4uct00tPWJ8fFSMjIyI0fFwh7F7fFz0W2lgPOX/dseIGHdL5wKix2yUj7VJx0ZHxMggrdXbfO5xMTqqvA8bOx10fjzUBR0I0PtV0shtl8uK2U595bywAlmqgNSqMXWhMQImKlAt0i+I2yYXpE5ptL+0eByiWf4Rkn6IpD+DaJOhctrLWDuurLUXcCI4nDJrJlwRcUhjCSIqAILgaxYJJic/yyTsGlQsYTwE/QAqlSf5HgmyNY2KCEPvlOQN/Z9l6J38Uo4A4hmalEpf6HkZvpEM8iZV0ONB7ySTBuXKWJOIrWQoP8haWakT1pHwj1qGSyFHL5keCaF3qk5TQX+JYYmZogVD7zIlJTge2ajANZJR9IM948U7OYnAggIUpwEvm004XKJ4SLAxP7kwmwmsjWhtBN4KIq+QQHkzVoR6hBh6J6uWEHpHZ/3eSfj0Cja7wvwRm6U0IF5BcXFa+S02vDnfn3U9EsAS59wwfiArwArMpQJpV0RmFslshcNlq10zS12+mhVgBVgBVoAVSFeBOaqI0JdwlsLhstWudDMU38cKsAKsACvACsxEgTmriMwkUnwtK8AKsAKsACvACuSGAnGm7+aG4WwlK8AKsAKsACvACsy/AlwRmf804BiwAqwAK8AKsAI5qwBXRHI26dlwVoAVYAVYAVZg/hX4/wEhDv0R1wt7OgAAAABJRU5ErkJggg==)"
      ],
      "metadata": {
        "id": "v9tt39JL4pSf"
      }
    },
    {
      "cell_type": "code",
      "source": [
        "# accuracy\n",
        "accuracy_score(test_predict_poly, test_y)"
      ],
      "metadata": {
        "id": "OnY3Bk5gmN7N"
      },
      "execution_count": null,
      "outputs": []
    },
    {
      "cell_type": "markdown",
      "source": [
        "#### **RBF kernel**\n",
        "*   Need accelerator\n",
        "*   Need more RAM"
      ],
      "metadata": {
        "id": "w5oGAMfsm0IU"
      }
    },
    {
      "cell_type": "code",
      "source": [
        "# model\n",
        "model_svc_rbf = SVC(kernel='rbf')\n",
        "model_svc_rbf.fit(train_post, train_y)"
      ],
      "metadata": {
        "id": "kIrju9Apm0Ik"
      },
      "execution_count": null,
      "outputs": []
    },
    {
      "cell_type": "code",
      "source": [
        "from joblib import dump\n",
        "dump(model_svc_rbf, '/content/drive/MyDrive/碩一下/資料探勘/期末報告/lemma&stem/model_svc_rbf.joblib') "
      ],
      "metadata": {
        "id": "soZxwHLeqAoW"
      },
      "execution_count": null,
      "outputs": []
    },
    {
      "cell_type": "code",
      "source": [
        "# train\n",
        "# train_predict_rbf = model_svc_rbf.predict(train_post)\n",
        "# print('train classification report \\n ', classification_report(train_y, train_predict_rbf, labels=np.unique(train_predict_rbf)))"
      ],
      "metadata": {
        "id": "vnKg1d8Pm0Im"
      },
      "execution_count": null,
      "outputs": []
    },
    {
      "cell_type": "code",
      "source": [
        "# test\n",
        "test_predict_rbf = model_svc_rbf.predict(test_post)\n",
        "print('test classification report \\n ', classification_report(test_y, test_predict_rbf, labels=np.unique(test_predict_rbf)))"
      ],
      "metadata": {
        "id": "VaPT9g4Hm0In"
      },
      "execution_count": null,
      "outputs": []
    },
    {
      "cell_type": "markdown",
      "source": [
        "![rbf.png](data:image/png;base64,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)"
      ],
      "metadata": {
        "id": "V0yPDRXf8yTg"
      }
    },
    {
      "cell_type": "code",
      "source": [
        "# accuracy\n",
        "accuracy_score(test_predict_rbf, test_y)"
      ],
      "metadata": {
        "id": "7kwqR0Etm0In"
      },
      "execution_count": null,
      "outputs": []
    }
  ]
}