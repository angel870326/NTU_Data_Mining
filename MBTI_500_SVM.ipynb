{
  "nbformat": 4,
  "nbformat_minor": 0,
  "metadata": {
    "colab": {
      "name": "MBTI_500_SVM.ipynb",
      "provenance": [],
      "collapsed_sections": [
        "ClGFD3lTA_Z0",
        "aPiLpOAyCqel"
      ],
      "authorship_tag": "ABX9TyPbYG+vFiWoeILs0Py22nyQ",
      "include_colab_link": true
    },
    "kernelspec": {
      "name": "python3",
      "display_name": "Python 3"
    },
    "language_info": {
      "name": "python"
    }
  },
  "cells": [
    {
      "cell_type": "markdown",
      "metadata": {
        "id": "view-in-github",
        "colab_type": "text"
      },
      "source": [
        "<a href=\"https://colab.research.google.com/github/angel870326/NTU_Data_Mining/blob/main/MBTI_500_SVM.ipynb\" target=\"_parent\"><img src=\"https://colab.research.google.com/assets/colab-badge.svg\" alt=\"Open In Colab\"/></a>"
      ]
    },
    {
      "cell_type": "markdown",
      "source": [
        "> 2022.05.24 Ssu-Yun Wang<br/>\n",
        "[Github @angel870326](https://github.com/angel870326)\n",
        "\n",
        "# **MBTI Personality Types Classification - SVM & Model Saving**\n",
        "Source of raw data: \n",
        "https://www.kaggle.com/datasets/zeyadkhalid/mbti-personality-types-500-dataset\n",
        "\n",
        "### **Contents:**\n",
        "\n",
        "*   Preprocessing\n",
        "*   Feature Selection\n",
        "*   **Support Vector Machines (SVM)**\n",
        "    * Linear SVC\n",
        "    * SVC\n",
        "        * Linear kernel\n",
        "        * Polynomial kernel\n",
        "        * RBF kernel\n"
      ],
      "metadata": {
        "id": "pcZlkYKIDV-z"
      }
    },
    {
      "cell_type": "code",
      "execution_count": null,
      "metadata": {
        "id": "Dm1VlriQAW6R"
      },
      "outputs": [],
      "source": [
        "import pandas as pd\n",
        "import numpy as np"
      ]
    },
    {
      "cell_type": "code",
      "source": [
        "from google.colab import drive\n",
        "drive.mount('/content/drive')"
      ],
      "metadata": {
        "colab": {
          "base_uri": "https://localhost:8080/"
        },
        "id": "xf74Q0-AArPS",
        "outputId": "cc04a8d8-2ba0-4e59-bbad-2de82caa7427"
      },
      "execution_count": null,
      "outputs": [
        {
          "output_type": "stream",
          "name": "stdout",
          "text": [
            "Mounted at /content/drive\n"
          ]
        }
      ]
    },
    {
      "cell_type": "markdown",
      "source": [
        "## **Preprocessing**\n",
        "\n",
        "by 家怡 & 佳圻"
      ],
      "metadata": {
        "id": "ClGFD3lTA_Z0"
      }
    },
    {
      "cell_type": "code",
      "source": [
        "train_data = pd.read_csv('/content/drive/Shareddrives/110-2 資料探勘第4組/Project/traindata_lemma&stem.csv')\n",
        "test_data = pd.read_csv('/content/drive/Shareddrives/110-2 資料探勘第4組/Project/testdata_lemma&stem.csv')"
      ],
      "metadata": {
        "id": "vnagc32mEjka"
      },
      "execution_count": null,
      "outputs": []
    },
    {
      "cell_type": "code",
      "source": [
        "train_data"
      ],
      "metadata": {
        "colab": {
          "base_uri": "https://localhost:8080/"
        },
        "id": "qMpwqTrSFuHx",
        "outputId": "05df8fd6-e97e-4a41-a734-b566bd3ae0e0"
      },
      "execution_count": null,
      "outputs": [
        {
          "output_type": "execute_result",
          "data": {
            "text/plain": [
              "       Unnamed: 0                                              posts  type\n",
              "0           64196  user put sign usernam instanc meolem jumal fi ...  ENTJ\n",
              "1           31881  year issu correct incorrect leav toss labor wi...  INTP\n",
              "2           68961  steven spielberg nice rest trash curiou thing ...  ENTP\n",
              "3          102426  bad situat actual lot respect lazi peopl make ...  INFP\n",
              "4           19036  male friend quit liter drive crazi year ago da...  INTJ\n",
              "...           ...                                                ...   ...\n",
              "84848       16713  ni sound also like stuff say think brilliant i...  INTJ\n",
              "84849       28060  use time fare much good even feel someon pain ...  INTP\n",
              "84850       29514  look super attract pic ye sometim see woman th...  INTP\n",
              "84851       92206  way home school bu realli incent learn drive g...  INFJ\n",
              "84852       76239  style seem familiar ye much friend famili know...  ESFP\n",
              "\n",
              "[84853 rows x 3 columns]"
            ],
            "text/html": [
              "\n",
              "  <div id=\"df-de73f8d4-9982-4f47-adab-e5329b5c1581\">\n",
              "    <div class=\"colab-df-container\">\n",
              "      <div>\n",
              "<style scoped>\n",
              "    .dataframe tbody tr th:only-of-type {\n",
              "        vertical-align: middle;\n",
              "    }\n",
              "\n",
              "    .dataframe tbody tr th {\n",
              "        vertical-align: top;\n",
              "    }\n",
              "\n",
              "    .dataframe thead th {\n",
              "        text-align: right;\n",
              "    }\n",
              "</style>\n",
              "<table border=\"1\" class=\"dataframe\">\n",
              "  <thead>\n",
              "    <tr style=\"text-align: right;\">\n",
              "      <th></th>\n",
              "      <th>Unnamed: 0</th>\n",
              "      <th>posts</th>\n",
              "      <th>type</th>\n",
              "    </tr>\n",
              "  </thead>\n",
              "  <tbody>\n",
              "    <tr>\n",
              "      <th>0</th>\n",
              "      <td>64196</td>\n",
              "      <td>user put sign usernam instanc meolem jumal fi ...</td>\n",
              "      <td>ENTJ</td>\n",
              "    </tr>\n",
              "    <tr>\n",
              "      <th>1</th>\n",
              "      <td>31881</td>\n",
              "      <td>year issu correct incorrect leav toss labor wi...</td>\n",
              "      <td>INTP</td>\n",
              "    </tr>\n",
              "    <tr>\n",
              "      <th>2</th>\n",
              "      <td>68961</td>\n",
              "      <td>steven spielberg nice rest trash curiou thing ...</td>\n",
              "      <td>ENTP</td>\n",
              "    </tr>\n",
              "    <tr>\n",
              "      <th>3</th>\n",
              "      <td>102426</td>\n",
              "      <td>bad situat actual lot respect lazi peopl make ...</td>\n",
              "      <td>INFP</td>\n",
              "    </tr>\n",
              "    <tr>\n",
              "      <th>4</th>\n",
              "      <td>19036</td>\n",
              "      <td>male friend quit liter drive crazi year ago da...</td>\n",
              "      <td>INTJ</td>\n",
              "    </tr>\n",
              "    <tr>\n",
              "      <th>...</th>\n",
              "      <td>...</td>\n",
              "      <td>...</td>\n",
              "      <td>...</td>\n",
              "    </tr>\n",
              "    <tr>\n",
              "      <th>84848</th>\n",
              "      <td>16713</td>\n",
              "      <td>ni sound also like stuff say think brilliant i...</td>\n",
              "      <td>INTJ</td>\n",
              "    </tr>\n",
              "    <tr>\n",
              "      <th>84849</th>\n",
              "      <td>28060</td>\n",
              "      <td>use time fare much good even feel someon pain ...</td>\n",
              "      <td>INTP</td>\n",
              "    </tr>\n",
              "    <tr>\n",
              "      <th>84850</th>\n",
              "      <td>29514</td>\n",
              "      <td>look super attract pic ye sometim see woman th...</td>\n",
              "      <td>INTP</td>\n",
              "    </tr>\n",
              "    <tr>\n",
              "      <th>84851</th>\n",
              "      <td>92206</td>\n",
              "      <td>way home school bu realli incent learn drive g...</td>\n",
              "      <td>INFJ</td>\n",
              "    </tr>\n",
              "    <tr>\n",
              "      <th>84852</th>\n",
              "      <td>76239</td>\n",
              "      <td>style seem familiar ye much friend famili know...</td>\n",
              "      <td>ESFP</td>\n",
              "    </tr>\n",
              "  </tbody>\n",
              "</table>\n",
              "<p>84853 rows × 3 columns</p>\n",
              "</div>\n",
              "      <button class=\"colab-df-convert\" onclick=\"convertToInteractive('df-de73f8d4-9982-4f47-adab-e5329b5c1581')\"\n",
              "              title=\"Convert this dataframe to an interactive table.\"\n",
              "              style=\"display:none;\">\n",
              "        \n",
              "  <svg xmlns=\"http://www.w3.org/2000/svg\" height=\"24px\"viewBox=\"0 0 24 24\"\n",
              "       width=\"24px\">\n",
              "    <path d=\"M0 0h24v24H0V0z\" fill=\"none\"/>\n",
              "    <path d=\"M18.56 5.44l.94 2.06.94-2.06 2.06-.94-2.06-.94-.94-2.06-.94 2.06-2.06.94zm-11 1L8.5 8.5l.94-2.06 2.06-.94-2.06-.94L8.5 2.5l-.94 2.06-2.06.94zm10 10l.94 2.06.94-2.06 2.06-.94-2.06-.94-.94-2.06-.94 2.06-2.06.94z\"/><path d=\"M17.41 7.96l-1.37-1.37c-.4-.4-.92-.59-1.43-.59-.52 0-1.04.2-1.43.59L10.3 9.45l-7.72 7.72c-.78.78-.78 2.05 0 2.83L4 21.41c.39.39.9.59 1.41.59.51 0 1.02-.2 1.41-.59l7.78-7.78 2.81-2.81c.8-.78.8-2.07 0-2.86zM5.41 20L4 18.59l7.72-7.72 1.47 1.35L5.41 20z\"/>\n",
              "  </svg>\n",
              "      </button>\n",
              "      \n",
              "  <style>\n",
              "    .colab-df-container {\n",
              "      display:flex;\n",
              "      flex-wrap:wrap;\n",
              "      gap: 12px;\n",
              "    }\n",
              "\n",
              "    .colab-df-convert {\n",
              "      background-color: #E8F0FE;\n",
              "      border: none;\n",
              "      border-radius: 50%;\n",
              "      cursor: pointer;\n",
              "      display: none;\n",
              "      fill: #1967D2;\n",
              "      height: 32px;\n",
              "      padding: 0 0 0 0;\n",
              "      width: 32px;\n",
              "    }\n",
              "\n",
              "    .colab-df-convert:hover {\n",
              "      background-color: #E2EBFA;\n",
              "      box-shadow: 0px 1px 2px rgba(60, 64, 67, 0.3), 0px 1px 3px 1px rgba(60, 64, 67, 0.15);\n",
              "      fill: #174EA6;\n",
              "    }\n",
              "\n",
              "    [theme=dark] .colab-df-convert {\n",
              "      background-color: #3B4455;\n",
              "      fill: #D2E3FC;\n",
              "    }\n",
              "\n",
              "    [theme=dark] .colab-df-convert:hover {\n",
              "      background-color: #434B5C;\n",
              "      box-shadow: 0px 1px 3px 1px rgba(0, 0, 0, 0.15);\n",
              "      filter: drop-shadow(0px 1px 2px rgba(0, 0, 0, 0.3));\n",
              "      fill: #FFFFFF;\n",
              "    }\n",
              "  </style>\n",
              "\n",
              "      <script>\n",
              "        const buttonEl =\n",
              "          document.querySelector('#df-de73f8d4-9982-4f47-adab-e5329b5c1581 button.colab-df-convert');\n",
              "        buttonEl.style.display =\n",
              "          google.colab.kernel.accessAllowed ? 'block' : 'none';\n",
              "\n",
              "        async function convertToInteractive(key) {\n",
              "          const element = document.querySelector('#df-de73f8d4-9982-4f47-adab-e5329b5c1581');\n",
              "          const dataTable =\n",
              "            await google.colab.kernel.invokeFunction('convertToInteractive',\n",
              "                                                     [key], {});\n",
              "          if (!dataTable) return;\n",
              "\n",
              "          const docLinkHtml = 'Like what you see? Visit the ' +\n",
              "            '<a target=\"_blank\" href=https://colab.research.google.com/notebooks/data_table.ipynb>data table notebook</a>'\n",
              "            + ' to learn more about interactive tables.';\n",
              "          element.innerHTML = '';\n",
              "          dataTable['output_type'] = 'display_data';\n",
              "          await google.colab.output.renderOutput(dataTable, element);\n",
              "          const docLink = document.createElement('div');\n",
              "          docLink.innerHTML = docLinkHtml;\n",
              "          element.appendChild(docLink);\n",
              "        }\n",
              "      </script>\n",
              "    </div>\n",
              "  </div>\n",
              "  "
            ]
          },
          "metadata": {},
          "execution_count": 4
        }
      ]
    },
    {
      "cell_type": "code",
      "source": [
        "train_data['type'].value_counts()"
      ],
      "metadata": {
        "colab": {
          "base_uri": "https://localhost:8080/"
        },
        "id": "FN4pLkwTScJ4",
        "outputId": "c3c95078-ab26-41ab-f6ea-bd5a66c1ed1a"
      },
      "execution_count": null,
      "outputs": [
        {
          "output_type": "execute_result",
          "data": {
            "text/plain": [
              "INTP    19969\n",
              "INTJ    17941\n",
              "INFJ    11970\n",
              "INFP     9707\n",
              "ENTP     9380\n",
              "ENFP     4934\n",
              "ISTP     2739\n",
              "ENTJ     2364\n",
              "ESTP     1589\n",
              "ENFJ     1227\n",
              "ISTJ      994\n",
              "ISFP      700\n",
              "ISFJ      520\n",
              "ESTJ      386\n",
              "ESFP      288\n",
              "ESFJ      145\n",
              "Name: type, dtype: int64"
            ]
          },
          "metadata": {},
          "execution_count": 5
        }
      ]
    },
    {
      "cell_type": "code",
      "source": [
        "test_data"
      ],
      "metadata": {
        "colab": {
          "base_uri": "https://localhost:8080/"
        },
        "id": "FfpVEl8eFu45",
        "outputId": "abb868bc-0eac-4033-8823-547904d9a0bc"
      },
      "execution_count": null,
      "outputs": [
        {
          "output_type": "execute_result",
          "data": {
            "text/plain": [
              "       Unnamed: 0                                              posts  type\n",
              "0           96021  khale hosseini book liter everi singl one make...  INFP\n",
              "1           33212  display passion come natur make feel self cons...  INTP\n",
              "2           89866  hard final commit colleg know could stay one p...  INFJ\n",
              "3           98577  capit describ injustic shock econom orwel aldu...  INFP\n",
              "4           62330  good stress even stress stress howev let forge...  ENTJ\n",
              "...           ...                                                ...   ...\n",
              "21209      103821  express cuivat fi random burst creativ high em...  INFP\n",
              "21210        8791  sens would give ton context exclud deja vu use...  INTJ\n",
              "21211       36269  hear watch coupl video form neg bia disagre co...  INTP\n",
              "21212       78831  abandon mention cloud badli myer case platform...  ESTP\n",
              "21213       67191  situat someon give order like fuck hell tell w...  ENTP\n",
              "\n",
              "[21214 rows x 3 columns]"
            ],
            "text/html": [
              "\n",
              "  <div id=\"df-4376cac3-6cb5-4df9-bf51-3378f36a19ee\">\n",
              "    <div class=\"colab-df-container\">\n",
              "      <div>\n",
              "<style scoped>\n",
              "    .dataframe tbody tr th:only-of-type {\n",
              "        vertical-align: middle;\n",
              "    }\n",
              "\n",
              "    .dataframe tbody tr th {\n",
              "        vertical-align: top;\n",
              "    }\n",
              "\n",
              "    .dataframe thead th {\n",
              "        text-align: right;\n",
              "    }\n",
              "</style>\n",
              "<table border=\"1\" class=\"dataframe\">\n",
              "  <thead>\n",
              "    <tr style=\"text-align: right;\">\n",
              "      <th></th>\n",
              "      <th>Unnamed: 0</th>\n",
              "      <th>posts</th>\n",
              "      <th>type</th>\n",
              "    </tr>\n",
              "  </thead>\n",
              "  <tbody>\n",
              "    <tr>\n",
              "      <th>0</th>\n",
              "      <td>96021</td>\n",
              "      <td>khale hosseini book liter everi singl one make...</td>\n",
              "      <td>INFP</td>\n",
              "    </tr>\n",
              "    <tr>\n",
              "      <th>1</th>\n",
              "      <td>33212</td>\n",
              "      <td>display passion come natur make feel self cons...</td>\n",
              "      <td>INTP</td>\n",
              "    </tr>\n",
              "    <tr>\n",
              "      <th>2</th>\n",
              "      <td>89866</td>\n",
              "      <td>hard final commit colleg know could stay one p...</td>\n",
              "      <td>INFJ</td>\n",
              "    </tr>\n",
              "    <tr>\n",
              "      <th>3</th>\n",
              "      <td>98577</td>\n",
              "      <td>capit describ injustic shock econom orwel aldu...</td>\n",
              "      <td>INFP</td>\n",
              "    </tr>\n",
              "    <tr>\n",
              "      <th>4</th>\n",
              "      <td>62330</td>\n",
              "      <td>good stress even stress stress howev let forge...</td>\n",
              "      <td>ENTJ</td>\n",
              "    </tr>\n",
              "    <tr>\n",
              "      <th>...</th>\n",
              "      <td>...</td>\n",
              "      <td>...</td>\n",
              "      <td>...</td>\n",
              "    </tr>\n",
              "    <tr>\n",
              "      <th>21209</th>\n",
              "      <td>103821</td>\n",
              "      <td>express cuivat fi random burst creativ high em...</td>\n",
              "      <td>INFP</td>\n",
              "    </tr>\n",
              "    <tr>\n",
              "      <th>21210</th>\n",
              "      <td>8791</td>\n",
              "      <td>sens would give ton context exclud deja vu use...</td>\n",
              "      <td>INTJ</td>\n",
              "    </tr>\n",
              "    <tr>\n",
              "      <th>21211</th>\n",
              "      <td>36269</td>\n",
              "      <td>hear watch coupl video form neg bia disagre co...</td>\n",
              "      <td>INTP</td>\n",
              "    </tr>\n",
              "    <tr>\n",
              "      <th>21212</th>\n",
              "      <td>78831</td>\n",
              "      <td>abandon mention cloud badli myer case platform...</td>\n",
              "      <td>ESTP</td>\n",
              "    </tr>\n",
              "    <tr>\n",
              "      <th>21213</th>\n",
              "      <td>67191</td>\n",
              "      <td>situat someon give order like fuck hell tell w...</td>\n",
              "      <td>ENTP</td>\n",
              "    </tr>\n",
              "  </tbody>\n",
              "</table>\n",
              "<p>21214 rows × 3 columns</p>\n",
              "</div>\n",
              "      <button class=\"colab-df-convert\" onclick=\"convertToInteractive('df-4376cac3-6cb5-4df9-bf51-3378f36a19ee')\"\n",
              "              title=\"Convert this dataframe to an interactive table.\"\n",
              "              style=\"display:none;\">\n",
              "        \n",
              "  <svg xmlns=\"http://www.w3.org/2000/svg\" height=\"24px\"viewBox=\"0 0 24 24\"\n",
              "       width=\"24px\">\n",
              "    <path d=\"M0 0h24v24H0V0z\" fill=\"none\"/>\n",
              "    <path d=\"M18.56 5.44l.94 2.06.94-2.06 2.06-.94-2.06-.94-.94-2.06-.94 2.06-2.06.94zm-11 1L8.5 8.5l.94-2.06 2.06-.94-2.06-.94L8.5 2.5l-.94 2.06-2.06.94zm10 10l.94 2.06.94-2.06 2.06-.94-2.06-.94-.94-2.06-.94 2.06-2.06.94z\"/><path d=\"M17.41 7.96l-1.37-1.37c-.4-.4-.92-.59-1.43-.59-.52 0-1.04.2-1.43.59L10.3 9.45l-7.72 7.72c-.78.78-.78 2.05 0 2.83L4 21.41c.39.39.9.59 1.41.59.51 0 1.02-.2 1.41-.59l7.78-7.78 2.81-2.81c.8-.78.8-2.07 0-2.86zM5.41 20L4 18.59l7.72-7.72 1.47 1.35L5.41 20z\"/>\n",
              "  </svg>\n",
              "      </button>\n",
              "      \n",
              "  <style>\n",
              "    .colab-df-container {\n",
              "      display:flex;\n",
              "      flex-wrap:wrap;\n",
              "      gap: 12px;\n",
              "    }\n",
              "\n",
              "    .colab-df-convert {\n",
              "      background-color: #E8F0FE;\n",
              "      border: none;\n",
              "      border-radius: 50%;\n",
              "      cursor: pointer;\n",
              "      display: none;\n",
              "      fill: #1967D2;\n",
              "      height: 32px;\n",
              "      padding: 0 0 0 0;\n",
              "      width: 32px;\n",
              "    }\n",
              "\n",
              "    .colab-df-convert:hover {\n",
              "      background-color: #E2EBFA;\n",
              "      box-shadow: 0px 1px 2px rgba(60, 64, 67, 0.3), 0px 1px 3px 1px rgba(60, 64, 67, 0.15);\n",
              "      fill: #174EA6;\n",
              "    }\n",
              "\n",
              "    [theme=dark] .colab-df-convert {\n",
              "      background-color: #3B4455;\n",
              "      fill: #D2E3FC;\n",
              "    }\n",
              "\n",
              "    [theme=dark] .colab-df-convert:hover {\n",
              "      background-color: #434B5C;\n",
              "      box-shadow: 0px 1px 3px 1px rgba(0, 0, 0, 0.15);\n",
              "      filter: drop-shadow(0px 1px 2px rgba(0, 0, 0, 0.3));\n",
              "      fill: #FFFFFF;\n",
              "    }\n",
              "  </style>\n",
              "\n",
              "      <script>\n",
              "        const buttonEl =\n",
              "          document.querySelector('#df-4376cac3-6cb5-4df9-bf51-3378f36a19ee button.colab-df-convert');\n",
              "        buttonEl.style.display =\n",
              "          google.colab.kernel.accessAllowed ? 'block' : 'none';\n",
              "\n",
              "        async function convertToInteractive(key) {\n",
              "          const element = document.querySelector('#df-4376cac3-6cb5-4df9-bf51-3378f36a19ee');\n",
              "          const dataTable =\n",
              "            await google.colab.kernel.invokeFunction('convertToInteractive',\n",
              "                                                     [key], {});\n",
              "          if (!dataTable) return;\n",
              "\n",
              "          const docLinkHtml = 'Like what you see? Visit the ' +\n",
              "            '<a target=\"_blank\" href=https://colab.research.google.com/notebooks/data_table.ipynb>data table notebook</a>'\n",
              "            + ' to learn more about interactive tables.';\n",
              "          element.innerHTML = '';\n",
              "          dataTable['output_type'] = 'display_data';\n",
              "          await google.colab.output.renderOutput(dataTable, element);\n",
              "          const docLink = document.createElement('div');\n",
              "          docLink.innerHTML = docLinkHtml;\n",
              "          element.appendChild(docLink);\n",
              "        }\n",
              "      </script>\n",
              "    </div>\n",
              "  </div>\n",
              "  "
            ]
          },
          "metadata": {},
          "execution_count": 6
        }
      ]
    },
    {
      "cell_type": "markdown",
      "source": [
        "### Small sample (optional)"
      ],
      "metadata": {
        "id": "DCqfA8cZEvsQ"
      }
    },
    {
      "cell_type": "code",
      "source": [
        "# train_data = train_data.sample(n=1000)\n",
        "# test_data = test_data.sample(n=200)"
      ],
      "metadata": {
        "id": "ALGKoMyjE22m"
      },
      "execution_count": null,
      "outputs": []
    },
    {
      "cell_type": "markdown",
      "source": [
        "## **Feature Selection**\n",
        "by 家怡 & 佳圻"
      ],
      "metadata": {
        "id": "aPiLpOAyCqel"
      }
    },
    {
      "cell_type": "code",
      "source": [
        "from sklearn.feature_extraction.text import TfidfVectorizer\n",
        "from nltk.stem import WordNetLemmatizer\n",
        "from nltk.corpus import stopwords"
      ],
      "metadata": {
        "id": "G2SJUVkFCxgv"
      },
      "execution_count": null,
      "outputs": []
    },
    {
      "cell_type": "code",
      "source": [
        "class Lemmatizer(object):\n",
        "    def __init__(self):\n",
        "        self.lemmatizer = WordNetLemmatizer()\n",
        "    def __call__(self, sentence):\n",
        "        return [self.lemmatizer.lemmatize(word) for word in sentence.split() if len(word)>2]"
      ],
      "metadata": {
        "id": "pbCXymJmC32I"
      },
      "execution_count": null,
      "outputs": []
    },
    {
      "cell_type": "code",
      "source": [
        "import nltk\n",
        "nltk.download('wordnet')\n",
        "vectorizer = TfidfVectorizer(max_features=5000,stop_words='english',tokenizer=Lemmatizer())\n",
        "vectorizer.fit(train_data.posts)"
      ],
      "metadata": {
        "colab": {
          "base_uri": "https://localhost:8080/"
        },
        "id": "wLrb6RTIC8Ob",
        "outputId": "d5dab98d-f265-4f53-9c73-fa6ef00d9e20"
      },
      "execution_count": null,
      "outputs": [
        {
          "output_type": "stream",
          "name": "stdout",
          "text": [
            "[nltk_data] Downloading package wordnet to /root/nltk_data...\n",
            "[nltk_data]   Unzipping corpora/wordnet.zip.\n"
          ]
        },
        {
          "output_type": "stream",
          "name": "stderr",
          "text": [
            "/usr/local/lib/python3.7/dist-packages/sklearn/feature_extraction/text.py:517: UserWarning: The parameter 'token_pattern' will not be used since 'tokenizer' is not None'\n",
            "  \"The parameter 'token_pattern' will not be used\"\n",
            "/usr/local/lib/python3.7/dist-packages/sklearn/feature_extraction/text.py:401: UserWarning: Your stop_words may be inconsistent with your preprocessing. Tokenizing the stop words generated tokens ['ha', 'le', 'wa'] not in stop_words.\n",
            "  % sorted(inconsistent)\n"
          ]
        },
        {
          "output_type": "execute_result",
          "data": {
            "text/plain": [
              "TfidfVectorizer(max_features=5000, stop_words='english',\n",
              "                tokenizer=<__main__.Lemmatizer object at 0x7fe8fc483a10>)"
            ]
          },
          "metadata": {},
          "execution_count": 10
        }
      ]
    },
    {
      "cell_type": "code",
      "source": [
        "feature_names = vectorizer.get_feature_names()"
      ],
      "metadata": {
        "colab": {
          "base_uri": "https://localhost:8080/"
        },
        "id": "eAjfz8YkC-q_",
        "outputId": "230f4c0b-4ed1-4158-90de-18c9163d41e0"
      },
      "execution_count": null,
      "outputs": [
        {
          "output_type": "stream",
          "name": "stderr",
          "text": [
            "/usr/local/lib/python3.7/dist-packages/sklearn/utils/deprecation.py:87: FutureWarning: Function get_feature_names is deprecated; get_feature_names is deprecated in 1.0 and will be removed in 1.2. Please use get_feature_names_out instead.\n",
            "  warnings.warn(msg, category=FutureWarning)\n"
          ]
        }
      ]
    },
    {
      "cell_type": "code",
      "source": [
        "train_post = vectorizer.transform(train_data.posts).toarray()\n",
        "test_post = vectorizer.transform(test_data.posts).toarray()"
      ],
      "metadata": {
        "id": "t52HlkaiDBWc"
      },
      "execution_count": null,
      "outputs": []
    },
    {
      "cell_type": "markdown",
      "source": [
        "## **Support Vector Machines (SVM)**\n",
        "\n",
        "*   SVM: https://scikit-learn.org/stable/modules/svm.html\n",
        "*   Save model: https://scikit-learn.org/dev/model_persistence.html\n",
        "\n"
      ],
      "metadata": {
        "id": "KlAC0ngiJQlm"
      }
    },
    {
      "cell_type": "code",
      "source": [
        "from sklearn.svm import LinearSVC,SVC\n",
        "from sklearn.metrics import classification_report\n",
        "from sklearn.metrics import accuracy_score\n",
        "from joblib import dump # saving model"
      ],
      "metadata": {
        "id": "WEUU1q72LlH6"
      },
      "execution_count": null,
      "outputs": []
    },
    {
      "cell_type": "code",
      "source": [
        "train_y = train_data['type']\n",
        "test_y = test_data['type']"
      ],
      "metadata": {
        "id": "eG8jFzKwfVwE"
      },
      "execution_count": null,
      "outputs": []
    },
    {
      "cell_type": "markdown",
      "source": [
        "### **Linear SVC**\n",
        "\n",
        "*   [sklearn.svm.LinearSVC](https://scikit-learn.org/stable/modules/generated/sklearn.svm.LinearSVC.html#sklearn.svm.LinearSVC)\n",
        "*   Regularization parameter (C) = 1\n",
        "*   Multi-class: one-to-rest\n"
      ],
      "metadata": {
        "id": "-mMvhVs7RTal"
      }
    },
    {
      "cell_type": "code",
      "source": [
        "# model (30 sec)\n",
        "model_linearsvc = LinearSVC() \n",
        "model_linearsvc.fit(train_post, train_y)"
      ],
      "metadata": {
        "colab": {
          "base_uri": "https://localhost:8080/"
        },
        "id": "AhpLqiy-QpmB",
        "outputId": "37d10789-801c-4ae1-e8c9-757e131923c2"
      },
      "execution_count": null,
      "outputs": [
        {
          "output_type": "execute_result",
          "data": {
            "text/plain": [
              "LinearSVC()"
            ]
          },
          "metadata": {},
          "execution_count": 15
        }
      ]
    },
    {
      "cell_type": "code",
      "source": [
        "# Save model\n",
        "dump(model_linearsvc, '/content/drive/MyDrive/碩一下/資料探勘/期末報告/lemma&stem/model_linearsvc.joblib') "
      ],
      "metadata": {
        "colab": {
          "base_uri": "https://localhost:8080/"
        },
        "id": "vq5iMV_8RcqR",
        "outputId": "0b2b4824-f6e7-484b-cfed-1cc2e4de15a9"
      },
      "execution_count": null,
      "outputs": [
        {
          "output_type": "execute_result",
          "data": {
            "text/plain": [
              "['/content/drive/MyDrive/碩一下/資料探勘/期末報告/lemma&stem/model_linearsvc.joblib']"
            ]
          },
          "metadata": {},
          "execution_count": 18
        }
      ]
    },
    {
      "cell_type": "code",
      "source": [
        "# train\n",
        "# train_predict_linearsvc = model_linear_svc.predict(train_post)\n",
        "# print('train classification report \\n ', classification_report(train_y, train_predict_linearsvc, labels=np.unique(train_predict_linearsvc)))"
      ],
      "metadata": {
        "id": "ogZtPAX8RDyt"
      },
      "execution_count": null,
      "outputs": []
    },
    {
      "cell_type": "code",
      "source": [
        "# test (1 sec)\n",
        "test_predict_linearsvc = model_linearsvc.predict(test_post)\n",
        "print('test classification report \\n', classification_report(test_y, test_predict_linearsvc, labels=np.unique(test_predict_linearsvc)))"
      ],
      "metadata": {
        "colab": {
          "base_uri": "https://localhost:8080/"
        },
        "id": "70_KZDF-gQ3l",
        "outputId": "a562c1f7-c0da-44b8-fe5e-c335604486b5"
      },
      "execution_count": null,
      "outputs": [
        {
          "output_type": "stream",
          "name": "stdout",
          "text": [
            "test classification report \n",
            "               precision    recall  f1-score   support\n",
            "\n",
            "        ENFJ       0.75      0.58      0.65       307\n",
            "        ENFP       0.79      0.75      0.77      1233\n",
            "        ENTJ       0.87      0.74      0.80       591\n",
            "        ENTP       0.82      0.80      0.81      2345\n",
            "        ESFJ       0.74      0.39      0.51        36\n",
            "        ESFP       0.70      0.46      0.55        72\n",
            "        ESTJ       0.90      0.79      0.84        96\n",
            "        ESTP       0.93      0.87      0.90       397\n",
            "        INFJ       0.80      0.81      0.81      2993\n",
            "        INFP       0.79      0.80      0.80      2427\n",
            "        INTJ       0.81      0.86      0.84      4486\n",
            "        INTP       0.82      0.87      0.84      4992\n",
            "        ISFJ       0.81      0.56      0.66       130\n",
            "        ISFP       0.69      0.47      0.56       175\n",
            "        ISTJ       0.80      0.58      0.67       249\n",
            "        ISTP       0.84      0.78      0.81       685\n",
            "\n",
            "    accuracy                           0.81     21214\n",
            "   macro avg       0.80      0.69      0.74     21214\n",
            "weighted avg       0.81      0.81      0.81     21214\n",
            "\n"
          ]
        }
      ]
    },
    {
      "cell_type": "code",
      "source": [
        "# accuracy\n",
        "accuracy_score(test_predict_linearsvc, test_y)"
      ],
      "metadata": {
        "colab": {
          "base_uri": "https://localhost:8080/"
        },
        "id": "p3jjRK2Elpoh",
        "outputId": "7afa7e1e-54f8-45c8-ab6b-1402b95e3aae"
      },
      "execution_count": null,
      "outputs": [
        {
          "output_type": "execute_result",
          "data": {
            "text/plain": [
              "0.8139436221363251"
            ]
          },
          "metadata": {},
          "execution_count": 23
        }
      ]
    },
    {
      "cell_type": "markdown",
      "source": [
        "### **SVC**\n",
        "\n",
        "*   [sklearn.svm.SVC](https://scikit-learn.org/stable/modules/generated/sklearn.svm.SVC.html#sklearn.svm.SVC)\n",
        "*   Regularization parameter (C) = 1\n",
        "\n"
      ],
      "metadata": {
        "id": "FkJa4QQWRedE"
      }
    },
    {
      "cell_type": "markdown",
      "source": [
        "#### **Linear kernel**"
      ],
      "metadata": {
        "id": "poTZoCbok1Gz"
      }
    },
    {
      "cell_type": "code",
      "source": [
        "# model (5hr)\n",
        "model_svc_linear = SVC(kernel='linear')\n",
        "model_svc_linear.fit(train_post, train_y)"
      ],
      "metadata": {
        "id": "JTZRu0EiRhZJ",
        "colab": {
          "base_uri": "https://localhost:8080/"
        },
        "outputId": "880feaae-2d9b-44c8-ad6a-d74dc6155395"
      },
      "execution_count": null,
      "outputs": [
        {
          "output_type": "execute_result",
          "data": {
            "text/plain": [
              "SVC(kernel='linear')"
            ]
          },
          "metadata": {},
          "execution_count": 15
        }
      ]
    },
    {
      "cell_type": "code",
      "source": [
        "# Save model\n",
        "from joblib import dump\n",
        "dump(model_svc_linear, '/content/drive/MyDrive/碩一下/資料探勘/期末報告/lemma&stem/model_svc_linear.joblib') "
      ],
      "metadata": {
        "id": "iSleyUXpqbC9",
        "colab": {
          "base_uri": "https://localhost:8080/"
        },
        "outputId": "01ac2e77-f098-406e-afb8-786eb2ddbc45"
      },
      "execution_count": null,
      "outputs": [
        {
          "output_type": "execute_result",
          "data": {
            "text/plain": [
              "['/content/drive/MyDrive/碩一下/資料探勘/期末報告/lemma&stem/model_svc_linear.joblib']"
            ]
          },
          "metadata": {},
          "execution_count": 16
        }
      ]
    },
    {
      "cell_type": "code",
      "source": [
        "# train\n",
        "# train_predict_linear = model_svc_linear.predict(train_post)\n",
        "# print('train classification report \\n ', classification_report(train_y, train_predict_linear, labels=np.unique(train_predict_linear)))"
      ],
      "metadata": {
        "id": "QyMWLSU2Roli"
      },
      "execution_count": null,
      "outputs": []
    },
    {
      "cell_type": "code",
      "source": [
        "# test (1hr)\n",
        "test_predict_linear = model_svc_linear.predict(test_post)\n",
        "print('test classification report \\n ', classification_report(test_y, test_predict_linear, labels=np.unique(test_predict_linear)))"
      ],
      "metadata": {
        "id": "baaOz4-JY7Op",
        "colab": {
          "base_uri": "https://localhost:8080/"
        },
        "outputId": "01082c1f-87bc-4bef-f0f5-b90ff7783f87"
      },
      "execution_count": null,
      "outputs": [
        {
          "output_type": "stream",
          "name": "stdout",
          "text": [
            "test classification report \n",
            "                precision    recall  f1-score   support\n",
            "\n",
            "        ENFJ       0.75      0.67      0.71       307\n",
            "        ENFP       0.81      0.78      0.80      1233\n",
            "        ENTJ       0.86      0.74      0.79       591\n",
            "        ENTP       0.83      0.80      0.82      2345\n",
            "        ESFJ       0.87      0.56      0.68        36\n",
            "        ESFP       0.69      0.51      0.59        72\n",
            "        ESTJ       0.85      0.77      0.81        96\n",
            "        ESTP       0.96      0.88      0.92       397\n",
            "        INFJ       0.80      0.83      0.81      2993\n",
            "        INFP       0.80      0.81      0.80      2427\n",
            "        INTJ       0.82      0.86      0.84      4486\n",
            "        INTP       0.83      0.86      0.85      4992\n",
            "        ISFJ       0.78      0.59      0.67       130\n",
            "        ISFP       0.66      0.54      0.60       175\n",
            "        ISTJ       0.76      0.61      0.68       249\n",
            "        ISTP       0.87      0.78      0.82       685\n",
            "\n",
            "    accuracy                           0.82     21214\n",
            "   macro avg       0.81      0.72      0.76     21214\n",
            "weighted avg       0.82      0.82      0.82     21214\n",
            "\n"
          ]
        }
      ]
    },
    {
      "cell_type": "code",
      "source": [
        "# accuracy\n",
        "accuracy_score(test_predict_linear, test_y)"
      ],
      "metadata": {
        "id": "FXPk1C4cRs7e",
        "colab": {
          "base_uri": "https://localhost:8080/"
        },
        "outputId": "10b82011-131c-46ee-f177-70b39db92c45"
      },
      "execution_count": null,
      "outputs": [
        {
          "output_type": "execute_result",
          "data": {
            "text/plain": [
              "0.8196474026586217"
            ]
          },
          "metadata": {},
          "execution_count": 19
        }
      ]
    }
  ]
}